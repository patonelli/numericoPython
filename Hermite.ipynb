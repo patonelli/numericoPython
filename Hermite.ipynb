{
 "metadata": {
  "name": ""
 },
 "nbformat": 3,
 "nbformat_minor": 0,
 "worksheets": [
  {
   "cells": [
    {
     "cell_type": "markdown",
     "metadata": {},
     "source": [
      "## Polin\u00f4mios interpoladores de Hermite\n",
      "Seja $\\mathcal{T} =\\{(x_0,y_0),\\dots , (x_k,y_k)\\}$ uma tabela de pontos com $x_0 \\leq x_1 \\leq \\cdots \\leq x_k$ onde alguns pon n\u00f3s podem ser iguais. Diremos que um n\u00f3 $x_i$ tem ordem $n$ se ele aparece exatamente $n+1$ vezes na tabela. Ent\u00e3o cada n\u00f3 da tabela $\\mathcal{T}$ tem ordem de $0$ a $k$. O polin\u00f4mio $H_k(x)$ de grau $k$ \u00e9 o **polin\u00f4mio osculador**, da tabela $\\mathcal{T}$ se para cada $x_i$ de grau $n$, tal que $x_i = x_{i+1}= \\cdots =x_{i+n}$, temos\n",
      "$$ \\begin{gather} H_k(x_i)=y_i \\\\\n",
      "H^\\prime_k(x_{i+1}) = y_{i+1} \\\\\n",
      "\\vdots \\\\\n",
      "H^{(n)}_k(x_{i+n})=y_{i+n}\n",
      "\\end{gather}$$\n",
      "\n",
      "### Um Exemplo\n",
      "$\\mathcal{T}=\\{(1,0),(1,1)\\}$ tem como polin\u00f4mio osculador $H_1(x)=x-1$"
     ]
    },
    {
     "cell_type": "markdown",
     "metadata": {},
     "source": [
      "Se $f:[a,b]\\to \\mathbb{R}$ \u00e9 uma fun\u00e7\u00e3o diferenci\u00e1vel, e $\\{x_0,\\dots,x_k\\} \\subset [a,b]$ \u00e9 um conjunto de pontos distintos, o polin\u00f4mio de Hermite de $f$ em rela\u00e7\u00e3o a estes pontos \u00e9 o polin\u00f4mio de grau menor ou igual a $2k+1$ que satisfaz\n",
      "$$ \\begin{gather} H(x_i)=f(x_i)\\\\\n",
      "H^\\prime(x_i) = f^\\prime(x_i) \n",
      "\\end{gather}$$"
     ]
    },
    {
     "cell_type": "heading",
     "level": 3,
     "metadata": {},
     "source": [
      "Teorema"
     ]
    },
    {
     "cell_type": "markdown",
     "metadata": {},
     "source": [
      "$$ H(x) = \\sum_{i=0}^k f(x_i) H_{k,i}(x) + \\sum_{i=0}^k f^\\prime(x_i) \\hat{H}_{k,i}(x)$$\n",
      "onde\n",
      "$$\\begin{gather}\n",
      "H_{k,i}(x) = (1-2(x-x_i)L^\\prime_i(x_i))L_i^2(x) \\\\\n",
      "\\hat{H}_{k,i}= (x-x_i)L_i^2(x)\n",
      "\\end{gather}$$"
     ]
    },
    {
     "cell_type": "code",
     "collapsed": false,
     "input": [],
     "language": "python",
     "metadata": {},
     "outputs": []
    }
   ],
   "metadata": {}
  }
 ]
}