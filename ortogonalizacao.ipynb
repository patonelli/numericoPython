{
 "metadata": {
  "name": "",
  "signature": "sha256:8b4d34a93f910c7af708b7e5c47e41b8974dd426a937d1a9162cb3941bb48c55"
 },
 "nbformat": 3,
 "nbformat_minor": 0,
 "worksheets": [
  {
   "cells": [
    {
     "cell_type": "markdown",
     "metadata": {},
     "source": [
      "# Ortogonaliza\u00e7\u00e3o\n",
      "\n",
      "Seja $T =\\{ (x_0,y_0),\\dots, (x_k,y_k)\\}$ uma tabela regular e $\\{g_0,\\dots,g_n\\}$ uma fam\u00edlia de fun\u00e7\u00f5es reais. Dizemos que a fam\u00edlia \u00e9 ortogonal em rela\u00e7\u00e3o \u00e0 tabela dada se $\\langle g_i,g_j\\rangle=0$ para $i\\neq j$ e $\\langle g_i,g_i\\rangle>0$. Lembro a defini\u00e7\u00e3o $\\langle g_i,g_j\\rangle=\\sum_{l=0}^k g_i(x_l)g_k(x_l)$.\n",
      "\n",
      "Neste caso a solu\u00e7\u00e3o do problema de MMQ \u00e9 $a_i = \\frac{\\langle g_i,y \\rangle}{\\langle g_i,g_i\\rangle}$."
     ]
    },
    {
     "cell_type": "markdown",
     "metadata": {},
     "source": [
      "## Gram-Schmidt aqui.\n",
      "Se a fam\u00edlia $\\mathbb{G} = \\{g_0,\\dots,g_n\\}$ n\u00e3o \u00e9 ortogonal e vale que $\\langle g_i,g_i\\rangle>0$, ent\u00e3o podemos definir\n",
      "$$ \\begin{eqnarray}\n",
      "f_0 &= &g_0\\\\\n",
      "f_j & = & g_j - \\sum_{i=1}^{j-1}\\frac{\\langle g_j,f_i\\rangle}{\\langle f_i,f_i\\rangle}f_i\n",
      "\\end{eqnarray}\n",
      "$$\n",
      "\n",
      "Agora a fam\u00edlia de fun\u00e7\u00f5es $\\mathbb{F} = \\{f_0,\\dots,f_n\\}$ gera o mesmo espa\u00e7o de fun\u00e7\u00f5es que a fam\u00edlia $\\mathbb{G}$ e esta fam\u00edlia \u00e9 ortogonal em rela\u00e7\u00e3o \u00e0 tabela $T$."
     ]
    },
    {
     "cell_type": "markdown",
     "metadata": {},
     "source": [
      "### Prova\n",
      "Primeiro mostramos que $f_0$ e $f_1$ s\u00e3o ortogonais. Da defini\u00e7\u00e3o temos que $f_1 = g_1 - \\frac{\\langle g_1, g_0\\rangle}{ \\langle g_0, g_0\\rangle}g_0$. Usando as propriedades de bilinearidade do produto interno temos que $\\langle f_1, f_0\\rangle =0$.\n",
      "\n",
      "No segundo passo, assumimos que o conjunto $\\{f_0,\\dots,f_{i-1}\\}$ \u00e9 ortogonal ent\u00e3o $\\{f_0,\\dots,f_{i}\\}$ \u00e9 ortogonal. De fato basta mostrar que $\\langle f_i, f_j\\rangle =0$ para $j\\lt i$. Temos ent\u00e3o:\n",
      "$$\\langle f_i, f_j\\rangle = \\langle  g_i - \\sum_{l=1}^{i-1}\\frac{\\langle g_i,f_l\\rangle}{\\langle f_l,f_l\\rangle}f_l  , f_j\\rangle = \\langle g_i, f_j \\rangle -  \\sum_{l=1}^{i-1}\\frac{\\langle g_i,f_l\\rangle}{\\langle f_l,f_l\\rangle}\\langle f_l  , f_j\\rangle =0$$"
     ]
    },
    {
     "cell_type": "markdown",
     "metadata": {},
     "source": [
      "#### Exemplo\n",
      "* $T=\\{ (0,-1), (1,2), (2,0)\\}$ \n",
      "* $\\mathbb{G} =\\{ g_0(x)=1, g_1(x)=x\\}$\n",
      "* $P_g=\\begin{pmatrix} 1 & 1 & 1 \\\\ 0 & 1 & 2\\end{pmatrix}$\n",
      "* $f_0(x)=1$\n",
      "* $f_1(x) = x - 1$\n",
      "* $P_f=\\begin{pmatrix} 1 & 1 & 1 \\\\ -1 & 0 & 1\\end{pmatrix}$"
     ]
    },
    {
     "cell_type": "code",
     "collapsed": false,
     "input": [],
     "language": "python",
     "metadata": {},
     "outputs": []
    }
   ],
   "metadata": {}
  }
 ]
}