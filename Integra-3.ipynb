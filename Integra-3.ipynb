{
 "metadata": {
  "name": "",
  "signature": "sha256:0c5335e6c1f2755ef9d48e4392a76ca531daf53e869c17e41ebabff4bed42729"
 },
 "nbformat": 3,
 "nbformat_minor": 0,
 "worksheets": [
  {
   "cells": [
    {
     "cell_type": "markdown",
     "metadata": {},
     "source": [
      "# Integra\u00e7\u00e3o Gaussiana\n",
      "Da forma similar \u00e0 que foi feito no caso das formulas de Newton_Cotes, queremos aproximar a integral \n",
      "$$ \\int_a^bf(x)dx \\equiv \\sum_{i=1}^{n} \\sigma_if(\\lambda_i) $$\n",
      "Os pesos $\\sigma_i$ e os n\u00f3s $\\lambda_i \\in [a,b]$ devem ser escolhidos de maneira a que a f\u00f3rmula de aproxima\u00e7\u00e3o seja exata para os polin\u00f4mios de grau menor ou igual a $2n-1$.\n"
     ]
    },
    {
     "cell_type": "markdown",
     "metadata": {},
     "source": [
      "**Teorema** Seja $\\{p_0,\\dots,p_n\\}$ uma fam\u00edlia de polin\u00f4mios m\u00f4nicos ortogonais, segundo o produto interno $\\langle f,g\\rangle = \\int_a^b f(x)g(x)dx$. Ent\u00e3o os n\u00f3s $\\lambda_i$ da f\u00f3rmula acima s\u00e3o exatamente as ra\u00edzes do polin\u00f4mio $P_n$.\n",
      "E os pesos $\\sigma_i$ podem ser calculados pelo f\u00f3rmula $\\sigma_i = \\langle L_i, \\mathbb{1} \\rangle$"
     ]
    },
    {
     "cell_type": "markdown",
     "metadata": {},
     "source": [
      "## Integra\u00e7\u00e3o Gaussiana com o *PYLAB*"
     ]
    },
    {
     "cell_type": "markdown",
     "metadata": {},
     "source": []
    }
   ],
   "metadata": {}
  }
 ]
}