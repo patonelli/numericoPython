{
 "metadata": {
  "name": ""
 },
 "nbformat": 3,
 "nbformat_minor": 0,
 "worksheets": [
  {
   "cells": [
    {
     "cell_type": "markdown",
     "metadata": {},
     "source": [
      "Converg\u00eancia do M\u00e9todo de Newton\n",
      "====\n",
      "\n",
      "Seja $f:[a,b]\\to \\mathbb{R}$ uma fun\u00e7\u00e3o \n",
      "\n",
      "*  de classe $\\mathcal{C}^2$\n",
      "*  com um zero em $r \\in (a,b)$\n",
      "*  tal que $f^\\prime(r)\\neq 0$\n",
      "\n",
      "Considere a sequ\u00eancia $\\{x_n\\}_{n\\in \\mathbb{N}}$ com $x_0\\in (a,b)$ e\n",
      "\n",
      "$$x_{n+1}=x_n - \\frac{f(x_n)}{f^\\prime(x_n)}$$"
     ]
    },
    {
     "cell_type": "markdown",
     "metadata": {},
     "source": [
      "ordem de converg\u00eancia\n",
      "----\n",
      "\n",
      "Antes de mostrar as condi\u00e7\u00f5es de converg\u00eancia, vamos assumir que a sequ\u1ebdncia converge a $r$, e vamos ver com que rapidez.\n",
      "\n",
      "Seja $e_n=x_n-r$ o erro de $n$-\u00e9sima itera\u00e7\u00e3o do m\u00e9todo de Newton\n",
      "\n",
      "$$ r = x_n - e_n \\implies f(r)= f(x_n-e_n) = f(x_n)- f^\\prime(x_n)e_n + \\frac{1}{2}f^{\\prime\\prime}(\\xi_n)e_n^2 = 0$$\n",
      "\n",
      "$$ \\frac{f(x_n)}{f^\\prime(x_n)} = e_n - \\frac{1}{2}\\frac{ f^{\\prime\\prime}(\\xi_n)}{f^\\prime(x_n)}e_n^2 = x_n - x_{n+1}= e_n - e_{n+1}$$\n",
      "\n",
      "da\u00ed\n",
      "\n",
      "$$ e_{n+1} = \\frac{1}{2}\\frac{ f^{\\prime\\prime}(\\xi_n)}{f^\\prime(x_n)}e_n^2 $$\n",
      "\n",
      "$$ \\lim_{n \\to \\infty} \\frac{e_{n+1}}{e_n^2} = \\frac{1}{2}\\frac{f^{\\prime\\prime}(r)}{f^\\prime(r)} = C $$\n",
      "\n",
      "Esta \u00e9 a defini\u00e7\u00e3o de converg\u00eancia de ordem 2 (ou converg\u00eancia quadr\u00e1tica)"
     ]
    },
    {
     "cell_type": "markdown",
     "metadata": {},
     "source": [
      "Quando converge\n",
      "----\n",
      "\n",
      "A converg\u00eancia depende da escolha de um $x_0$ bem pr\u00f3ximo de $r$. Em primeiro lugar, tomemos um n\u00famero $\\delta > 0$ tal que a\n",
      "derivada $f^\\prime(x) \\neq 0$ no intervalo $ I= |x-r|\\lt \\delta$ ($I=(r-\\delta, r+\\delta)$).\n",
      "Definimos:\n",
      "$$ c(\\delta) = \\frac{1}{2} \\frac{\\max_{x\\in I}f^{\\prime\\prime}(x)}{\\min_{x\\in I}f^\\prime{x}} $$\n",
      "Note que $\\lim_{\\delta \\to 0}\\delta c(\\delta)=0$ ent\u00e3o podemos tomar um $\\delta$ talque $\\delta c(\\delta)=\\alpha < 1$."
     ]
    },
    {
     "cell_type": "markdown",
     "metadata": {},
     "source": [
      "Deste modo temos que:\n",
      "\n",
      "$$|x_1-r|=|e_1|=\\frac{1}{2}\\frac{ |f^{\\prime\\prime}(\\xi_0)|}{|f^\\prime(x_0)|}e_0^2 \\leq c(\\delta)|e_0||e_0| \\lt \\alpha|e_0|$$\n",
      "e por recorr\u00eancia\n",
      "$$ |e_n| \\lt \\alpha^n|e_0| $$\n",
      "O que mostra a converg\u00eancia $\\square$"
     ]
    },
    {
     "cell_type": "markdown",
     "metadata": {},
     "source": [
      "M\u00e9todo das secantes\n",
      "====\n",
      "\n",
      "Esta \u00e9 uma varia\u00e7\u00e3o do m\u00e9todo de Newton. \n",
      "Fazemos a aproxima\u00e7\u00e3o da derivada por\n",
      "$$ f^\\prime(x_n) = \\frac{f(x_n) - f(x_{n-1})}{x_n-x_{n-1}}$$\n",
      "o que nos d\u00e1 a itera\u00e7\u00e3o de segunda ordem:\n",
      "\n",
      "$$ x_{n+1} = \\frac{x_{n-1}f(x_n)-x_nf(x_{n-1})}{f(x_n) - f(x_{n-1})}$$\n"
     ]
    },
    {
     "cell_type": "code",
     "collapsed": false,
     "input": [
      "def secante(f,x0,x1,epsilon):\n",
      "    \"\"\" M\u00e9todo da secante para a encontrar a raiz de f(x)=0 \"\"\"\n",
      "    x= (x0*f(x1) - x1*f(x0))/(f(x1) - f(x0))\n",
      "    while abs(x1-x0) > epsilon:\n",
      "        x0,x1 = x1, x\n",
      "        x= (x0*f(x1) - x1*f(x0))/(f(x1) - f(x0))\n",
      "    return x"
     ],
     "language": "python",
     "metadata": {},
     "outputs": [],
     "prompt_number": 1
    },
    {
     "cell_type": "markdown",
     "metadata": {},
     "source": [
      "Para testar vamos usar a fun\u00e7\u00e3o $f(x) =x^6 -x -1$."
     ]
    },
    {
     "cell_type": "code",
     "collapsed": false,
     "input": [
      "%matplotlib inline\n",
      "from matplotlib.pyplot import plot"
     ],
     "language": "python",
     "metadata": {},
     "outputs": [],
     "prompt_number": 3
    },
    {
     "cell_type": "code",
     "collapsed": false,
     "input": [
      "x= arange(-1,1.3,0.01)\n",
      "f = lambda x: x**6-x-1"
     ],
     "language": "python",
     "metadata": {},
     "outputs": [],
     "prompt_number": 8
    },
    {
     "cell_type": "code",
     "collapsed": false,
     "input": [
      "plot(x,f(x))\n",
      "grid()"
     ],
     "language": "python",
     "metadata": {},
     "outputs": [
      {
       "metadata": {},
       "output_type": "display_data",
       "png": "[encoded data removed]",
       "text": [
        "<matplotlib.figure.Figure at 0x7ff2c1c09f50>"
       ]
      }
     ],
     "prompt_number": 9
    },
    {
     "cell_type": "code",
     "collapsed": false,
     "input": [
      "secante(f,1,1.3,0.001)"
     ],
     "language": "python",
     "metadata": {},
     "outputs": [
      {
       "metadata": {},
       "output_type": "pyout",
       "prompt_number": 6,
       "text": [
        "1.1347241385131241"
       ]
      }
     ],
     "prompt_number": 6
    },
    {
     "cell_type": "code",
     "collapsed": false,
     "input": [
      "secante(f,-1.0,-0.5,0.001)"
     ],
     "language": "python",
     "metadata": {},
     "outputs": [
      {
       "metadata": {},
       "output_type": "pyout",
       "prompt_number": 7,
       "text": [
        "-0.7780895986591118"
       ]
      }
     ],
     "prompt_number": 7
    },
    {
     "cell_type": "code",
     "collapsed": false,
     "input": [
      "%pastebin '02-Zeros-de-funcoes-2.ipynb'"
     ],
     "language": "python",
     "metadata": {},
     "outputs": [
      {
       "metadata": {},
       "output_type": "pyout",
       "prompt_number": 10,
       "text": [
        "'https://gist.github.com/9490591'"
       ]
      }
     ],
     "prompt_number": 10
    },
    {
     "cell_type": "code",
     "collapsed": false,
     "input": [],
     "language": "python",
     "metadata": {},
     "outputs": []
    }
   ],
   "metadata": {}
  }
 ]
}