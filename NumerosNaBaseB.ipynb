{
 "cells": [
  {
   "cell_type": "markdown",
   "metadata": {},
   "source": [
    "## Números inteiros numa base B\n",
    "\n",
    "Seja $B$ um número natural estritamente maior que $1$, e $S$ um conjunto de símbolos em correspondência biunívoca com $\\{0,1,\\dots,B-1\\}$. Então podemos escrever qualquer número natural $N$ como\n",
    "\\\\\\[ N= a_pB^p+ \\cdots a_0B^0 = a_p\\dots a_0\\\\\\]\n",
    "onde $a_i\\in S$."
   ]
  },
  {
   "cell_type": "markdown",
   "metadata": {},
   "source": [
    "## Números reais numa base B\n",
    "\n",
    "Seja $r \\in (0,1)$ um número real. Como $ 0 \\lt r \\lt 1 $ então $ 0 \\lt Br \\lt B $, daí $ 0 \\leq [Br] \\leq B-1 $. \n",
    "Colocando $[Br]= b_1$ vê-se que\n",
    "$r =\\frac{b_1}{B}+\\frac{r_1}{B}$. Repetindo o processo para $r_1$ obtemos $b_2$ e $r_2$ tais que $r_1 =\\frac{b_2}{B}+\\frac{r_2}{B}$. Então $r= \\frac{b_1}{B} + \\frac{b_2}{B^2} + \\frac{r_2}{B^2}$. De forma recursiva obtemos uma sequência $b_1,b_2,\\dots,b_k,\\dots$ que pode ser infinita tal que\n",
    "$$ r = \\frac{b_1}{B}+ \\cdots + \\frac{b_k}{B^k} + \\frac{r_k}{B^k}$$\n",
    "A sequência só será finita quando $r_k = 0 $ para algum $k$.\n",
    "Diremos então que a representação de $r$ na base $B$ é $ r=0.b_1\\cdots b_k\\cdots$\n"
   ]
  },
  {
   "cell_type": "code",
   "execution_count": 3,
   "metadata": {
    "collapsed": true
   },
   "outputs": [],
   "source": [
    "def binario(a):\n",
    "    # da a representacao binaria do numero a \n",
    "    ParteInteira = int(a)\n",
    "    ParteDecimal = a-int(a)\n",
    "    # representacao binaria da parte inteira\n",
    "    # a lista seguinte guarda os dígitos da parte inteira\n",
    "    ListaDigitos=[]\n",
    "    while (ParteInteira > 0):\n",
    "        ListaDigitos.append(ParteInteira%2)\n",
    "        ParteInteira=ParteInteira//2\n",
    "    # lista dos digitos depois da virgula\n",
    "    ListaResto=[]\n",
    "    k=1\n",
    "    while ((ParteDecimal!=0)&(k<6)):\n",
    "        ListaResto.append(int(2*ParteDecimal))\n",
    "        ParteDecimal=2*ParteDecimal - int(2*ParteDecimal)\n",
    "        k=k+1\n",
    "    # produz a string de representacao:\n",
    "        \n",
    "    i=len(ListaDigitos)-1\n",
    "    p1=\"\"\n",
    "    while (i>=0):\n",
    "        p1=p1+str(ListaDigitos[i])\n",
    "        i=i-1\n",
    "    # Depois disso p1 tem a parte inteira\n",
    "    l=0\n",
    "    p2=\"\"\n",
    "    while (l<len(ListaResto)):\n",
    "        p2=p2+str(ListaResto[l])\n",
    "        l=l+1\n",
    "    \n",
    "    return p1+\".\"+p2"
   ]
  },
  {
   "cell_type": "code",
   "execution_count": 5,
   "metadata": {
    "collapsed": false
   },
   "outputs": [
    {
     "data": {
      "text/plain": [
       "'101.1'"
      ]
     },
     "execution_count": 5,
     "metadata": {},
     "output_type": "execute_result"
    }
   ],
   "source": [
    "binario(5.5)"
   ]
  },
  {
   "cell_type": "code",
   "execution_count": null,
   "metadata": {
    "collapsed": true
   },
   "outputs": [],
   "source": []
  }
 ],
 "metadata": {
  "kernelspec": {
   "display_name": "Python 3",
   "language": "python",
   "name": "python3"
  },
  "language_info": {
   "codemirror_mode": {
    "name": "ipython",
    "version": 3
   },
   "file_extension": ".py",
   "mimetype": "text/x-python",
   "name": "python",
   "nbconvert_exporter": "python",
   "pygments_lexer": "ipython3",
   "version": "3.5.1"
  }
 },
 "nbformat": 4,
 "nbformat_minor": 0
}
