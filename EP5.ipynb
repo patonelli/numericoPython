{
 "metadata": {
  "name": "",
  "signature": "sha256:a09993b417d0fdd05b61732c3282ec8b338a2319abdd916ec00c1c12fe18d1f9"
 },
 "nbformat": 3,
 "nbformat_minor": 0,
 "worksheets": [
  {
   "cells": [
    {
     "cell_type": "markdown",
     "metadata": {},
     "source": [
      "# EP5 - integrais elipticas e \u00e1rea do elipsoide.\n",
      "\n",
      "Este exercicio \u00e9 baseado num [post de John Cook](http://www.johndcook.com/blog/2014/07/06/ellipsoid-surface-area/)\n",
      "\n",
      "A \u00e1rea de um elips\u00f3ide com semi-eixos $a\\geq b\\geq c$ \u00e9 dada pela f\u00f3rmula:\n",
      "$$ A = 2\\pi \\left( c^2 + \\frac{ab}{\\sin\\phi} \\left( E(\\phi, k) \\sin^2\\phi + F(\\phi, k) \\cos^2 \\phi\\right)\\right)$$\n",
      "onde \n",
      "$$ \\begin{gather} m = k^2 = \\frac{a^2(b^2 - c^2)}{b^2(a^2 - c^2)} \\\\\n",
      "\\cos(\\phi) = \\frac{b}{a}\\end{gather}$$\n",
      "e\n",
      "$$F(\\phi, k) = \\int_0^\\phi \\frac{d\\theta}{\\sqrt{1 - k^2 \\sin^2\\theta}}$$\n",
      "\u00e9 a integral eliptica do segundo tipo.\n",
      "$$E(\\phi, k) = \\int_0^\\phi \\sqrt{1 - k^2 \\sin^2\\theta}\\,d\\theta $$\n",
      "\u00e9 a integral eliptica do segundo tipo."
     ]
    },
    {
     "cell_type": "markdown",
     "metadata": {},
     "source": [
      "## Compara\u00e7\u00f5es da superf\u00edcie terrestre\n",
      "O programa a seguir compara  a \u00e1rea da Terra considerando-a como esf\u00e9rica e como elips\u00f3ide. Os detalhes voc\u00eas podem ler no Post."
     ]
    },
    {
     "cell_type": "code",
     "collapsed": false,
     "input": [
      "from scipy import pi, sin, cos, arccos\n",
      "from scipy.special import ellipkinc, ellipeinc\n",
      " \n",
      "# values in meters based on GRS 80\n",
      "# http://en.wikipedia.org/wiki/GRS_80\n",
      "equatorial_radius = 6378137\n",
      "polar_radius = 6356752.314140347\n",
      " \n",
      "a = b = equatorial_radius\n",
      "c = polar_radius\n",
      " \n",
      "phi = arccos(c/a)\n",
      "# in general, m = (a**2 * (b**2 - c**2)) / (b**2 * (a**2 - c**2))\n",
      "m = 1\n",
      " \n",
      "temp = ellipeinc(phi, m)*sin(phi)**2 + ellipkinc(phi, m)*cos(phi)**2\n",
      "ellipsoid_area = 2*pi*(c**2 + a*b*temp/sin(phi))\n",
      " \n",
      "# sphere with radius equal to average of polar and equatorial\n",
      "r = 0.5*(a+c)\n",
      "sphere_area = 4*pi*r**2\n",
      " \n",
      "print(ellipsoid_area/sphere_area)"
     ],
     "language": "python",
     "metadata": {},
     "outputs": [
      {
       "output_type": "stream",
       "stream": "stdout",
       "text": [
        "1.00111929372\n"
       ]
      }
     ],
     "prompt_number": 1
    },
    {
     "cell_type": "markdown",
     "metadata": {},
     "source": [
      "Neste programa foram usadas as fun\u00e7\u00f5es *ellipkinc* e *ellipeinc* do m\u00f3dulo **scipy.special**. Refa\u00e7a estas fun\u00e7\u00f5es usando o m\u00e9todo de Simpson. Isto \u00e9, fa\u00e7a a fun\u00e7\u00f5es:\n"
     ]
    },
    {
     "cell_type": "code",
     "collapsed": false,
     "input": [
      "def elipint_2(phi,m):\n",
      "    '''Integral eliptica de segundo tipo'''\n",
      "    pass\n"
     ],
     "language": "python",
     "metadata": {},
     "outputs": [],
     "prompt_number": 2
    },
    {
     "cell_type": "code",
     "collapsed": false,
     "input": [
      "def elipint_1(phi,m):\n",
      "    '''Integral eliptica do primeiro tipo'''\n",
      "    pass"
     ],
     "language": "python",
     "metadata": {},
     "outputs": [],
     "prompt_number": 3
    },
    {
     "cell_type": "markdown",
     "metadata": {},
     "source": [
      "que use o m\u00e9todo de Simpson com $n$ repeti\u00e7\u00f5es. Onde $n$ \u00e9 tal que o passo para o c\u00e1lculo da integral n\u00e3o exceda $0.1$."
     ]
    },
    {
     "cell_type": "markdown",
     "metadata": {},
     "source": []
    }
   ],
   "metadata": {}
  }
 ]
}