{
 "metadata": {
  "name": ""
 },
 "nbformat": 3,
 "nbformat_minor": 0,
 "worksheets": [
  {
   "cells": [
    {
     "cell_type": "markdown",
     "metadata": {},
     "source": [
      "# Gr\u00e1ficos com o Python\n",
      "Para fazer gr\u00e1ficos com o Python vamos usar o m\u00f3dulo [matplotlib](http://www.matplotlib.org). Para carregar este m\u00f3dulo podemos usar a sintaxe m\u00e1gica"
     ]
    },
    {
     "cell_type": "code",
     "collapsed": false,
     "input": [
      "%matplotlib inline"
     ],
     "language": "python",
     "metadata": {},
     "outputs": [],
     "prompt_number": 1
    },
    {
     "cell_type": "markdown",
     "metadata": {},
     "source": [
      "que carregara as fun\u00e7\u00f5es do m\u00f3dulo. O par\u00e2metro *inline* significa que as figuras aparecer\u00e3o no corpo do notebook, e n\u00e3o ser\u00e3o edit\u00e1veis. Acho que a fun\u00e7\u00e3o mais importante pra gente, neste m\u00f3dulo \u00e9 o *plot*"
     ]
    },
    {
     "cell_type": "code",
     "collapsed": false,
     "input": [
      "help(plot)"
     ],
     "language": "python",
     "metadata": {},
     "outputs": [
      {
       "output_type": "stream",
       "stream": "stdout",
       "text": [
        "Help on function plot in module matplotlib.pyplot:\n",
        "\n",
        "plot(*args, **kwargs)\n",
        "    Plot lines and/or markers to the\n",
        "    :class:`~matplotlib.axes.Axes`.  *args* is a variable length\n",
        "    argument, allowing for multiple *x*, *y* pairs with an\n",
        "    optional format string.  For example, each of the following is\n",
        "    legal::\n",
        "    \n",
        "        plot(x, y)        # plot x and y using default line style and color\n",
        "        plot(x, y, 'bo')  # plot x and y using blue circle markers\n",
        "        plot(y)           # plot y using x as index array 0..N-1\n",
        "        plot(y, 'r+')     # ditto, but with red plusses\n",
        "    \n",
        "    If *x* and/or *y* is 2-dimensional, then the corresponding columns\n",
        "    will be plotted.\n",
        "    \n",
        "    An arbitrary number of *x*, *y*, *fmt* groups can be\n",
        "    specified, as in::\n",
        "    \n",
        "        a.plot(x1, y1, 'g^', x2, y2, 'g-')\n",
        "    \n",
        "    Return value is a list of lines that were added.\n",
        "    \n",
        "    By default, each line is assigned a different color specified by a\n",
        "    'color cycle'.  To change this behavior, you can edit the\n",
        "    axes.color_cycle rcParam. Alternatively, you can use\n",
        "    :meth:`~matplotlib.axes.Axes.set_default_color_cycle`.\n",
        "    \n",
        "    The following format string characters are accepted to control\n",
        "    the line style or marker:\n",
        "    \n",
        "    ================    ===============================\n",
        "    character           description\n",
        "    ================    ===============================\n",
        "    ``'-'``             solid line style\n",
        "    ``'--'``            dashed line style\n",
        "    ``'-.'``            dash-dot line style\n",
        "    ``':'``             dotted line style\n",
        "    ``'.'``             point marker\n",
        "    ``','``             pixel marker\n",
        "    ``'o'``             circle marker\n",
        "    ``'v'``             triangle_down marker\n",
        "    ``'^'``             triangle_up marker\n",
        "    ``'<'``             triangle_left marker\n",
        "    ``'>'``             triangle_right marker\n",
        "    ``'1'``             tri_down marker\n",
        "    ``'2'``             tri_up marker\n",
        "    ``'3'``             tri_left marker\n",
        "    ``'4'``             tri_right marker\n",
        "    ``'s'``             square marker\n",
        "    ``'p'``             pentagon marker\n",
        "    ``'*'``             star marker\n",
        "    ``'h'``             hexagon1 marker\n",
        "    ``'H'``             hexagon2 marker\n",
        "    ``'+'``             plus marker\n",
        "    ``'x'``             x marker\n",
        "    ``'D'``             diamond marker\n",
        "    ``'d'``             thin_diamond marker\n",
        "    ``'|'``             vline marker\n",
        "    ``'_'``             hline marker\n",
        "    ================    ===============================\n",
        "    \n",
        "    \n",
        "    The following color abbreviations are supported:\n",
        "    \n",
        "    ==========  ========\n",
        "    character   color\n",
        "    ==========  ========\n",
        "    'b'         blue\n",
        "    'g'         green\n",
        "    'r'         red\n",
        "    'c'         cyan\n",
        "    'm'         magenta\n",
        "    'y'         yellow\n",
        "    'k'         black\n",
        "    'w'         white\n",
        "    ==========  ========\n",
        "    \n",
        "    In addition, you can specify colors in many weird and\n",
        "    wonderful ways, including full names (``'green'``), hex\n",
        "    strings (``'#008000'``), RGB or RGBA tuples (``(0,1,0,1)``) or\n",
        "    grayscale intensities as a string (``'0.8'``).  Of these, the\n",
        "    string specifications can be used in place of a ``fmt`` group,\n",
        "    but the tuple forms can be used only as ``kwargs``.\n",
        "    \n",
        "    Line styles and colors are combined in a single format string, as in\n",
        "    ``'bo'`` for blue circles.\n",
        "    \n",
        "    The *kwargs* can be used to set line properties (any property that has\n",
        "    a ``set_*`` method).  You can use this to set a line label (for auto\n",
        "    legends), linewidth, anitialising, marker face color, etc.  Here is an\n",
        "    example::\n",
        "    \n",
        "        plot([1,2,3], [1,2,3], 'go-', label='line 1', linewidth=2)\n",
        "        plot([1,2,3], [1,4,9], 'rs',  label='line 2')\n",
        "        axis([0, 4, 0, 10])\n",
        "        legend()\n",
        "    \n",
        "    If you make multiple lines with one plot command, the kwargs\n",
        "    apply to all those lines, e.g.::\n",
        "    \n",
        "        plot(x1, y1, x2, y2, antialised=False)\n",
        "    \n",
        "    Neither line will be antialiased.\n",
        "    \n",
        "    You do not need to use format strings, which are just\n",
        "    abbreviations.  All of the line properties can be controlled\n",
        "    by keyword arguments.  For example, you can set the color,\n",
        "    marker, linestyle, and markercolor with::\n",
        "    \n",
        "        plot(x, y, color='green', linestyle='dashed', marker='o',\n",
        "             markerfacecolor='blue', markersize=12).\n",
        "    \n",
        "    See :class:`~matplotlib.lines.Line2D` for details.\n",
        "    \n",
        "    The kwargs are :class:`~matplotlib.lines.Line2D` properties:\n",
        "    \n",
        "      agg_filter: unknown\n",
        "      alpha: float (0.0 transparent through 1.0 opaque)         \n",
        "      animated: [True | False]         \n",
        "      antialiased or aa: [True | False]         \n",
        "      axes: an :class:`~matplotlib.axes.Axes` instance         \n",
        "      clip_box: a :class:`matplotlib.transforms.Bbox` instance         \n",
        "      clip_on: [True | False]         \n",
        "      clip_path: [ (:class:`~matplotlib.path.Path`,         :class:`~matplotlib.transforms.Transform`) |         :class:`~matplotlib.patches.Patch` | None ]         \n",
        "      color or c: any matplotlib color         \n",
        "      contains: a callable function         \n",
        "      dash_capstyle: ['butt' | 'round' | 'projecting']         \n",
        "      dash_joinstyle: ['miter' | 'round' | 'bevel']         \n",
        "      dashes: sequence of on/off ink in points         \n",
        "      drawstyle: ['default' | 'steps' | 'steps-pre' | 'steps-mid' |                   'steps-post']         \n",
        "      figure: a :class:`matplotlib.figure.Figure` instance         \n",
        "      fillstyle: ['full' | 'left' | 'right' | 'bottom' | 'top' | 'none']         \n",
        "      gid: an id string         \n",
        "      label: string or anything printable with '%s' conversion.         \n",
        "      linestyle or ls: [``'-'`` | ``'--'`` | ``'-.'`` | ``':'`` | ``'None'`` |                   ``' '`` | ``''``]         and any drawstyle in combination with a linestyle, e.g., ``'steps--'``.         \n",
        "      linewidth or lw: float value in points         \n",
        "      lod: [True | False]         \n",
        "      marker: unknown\n",
        "      markeredgecolor or mec: any matplotlib color         \n",
        "      markeredgewidth or mew: float value in points         \n",
        "      markerfacecolor or mfc: any matplotlib color         \n",
        "      markerfacecoloralt or mfcalt: any matplotlib color         \n",
        "      markersize or ms: float         \n",
        "      markevery: None | integer | (startind, stride)\n",
        "      path_effects: unknown\n",
        "      picker: float distance in points or callable pick function         ``fn(artist, event)``         \n",
        "      pickradius: float distance in points         \n",
        "      rasterized: [True | False | None]         \n",
        "      sketch_params: unknown\n",
        "      snap: unknown\n",
        "      solid_capstyle: ['butt' | 'round' |  'projecting']         \n",
        "      solid_joinstyle: ['miter' | 'round' | 'bevel']         \n",
        "      transform: a :class:`matplotlib.transforms.Transform` instance         \n",
        "      url: a url string         \n",
        "      visible: [True | False]         \n",
        "      xdata: 1D array         \n",
        "      ydata: 1D array         \n",
        "      zorder: any number         \n",
        "    \n",
        "    kwargs *scalex* and *scaley*, if defined, are passed on to\n",
        "    :meth:`~matplotlib.axes.Axes.autoscale_view` to determine\n",
        "    whether the *x* and *y* axes are autoscaled; the default is\n",
        "    *True*.\n",
        "    \n",
        "    Additional kwargs: hold = [True|False] overrides default hold state\n",
        "\n"
       ]
      }
     ],
     "prompt_number": 2
    },
    {
     "cell_type": "code",
     "collapsed": false,
     "input": [
      "#teste 1\n",
      "point=[[1],[2]]\n",
      "plot(point,\"ro\")"
     ],
     "language": "python",
     "metadata": {},
     "outputs": [
      {
       "metadata": {},
       "output_type": "pyout",
       "prompt_number": 3,
       "text": [
        "[<matplotlib.lines.Line2D at 0xb15ca06c>]"
       ]
      },
      {
       "metadata": {},
       "output_type": "display_data",
       "png": "[encoded data removed]",
       "text": [
        "<matplotlib.figure.Figure at 0xb1df07cc>"
       ]
      }
     ],
     "prompt_number": 3
    },
    {
     "cell_type": "code",
     "collapsed": false,
     "input": [
      "#teste 2: plotar os pontos de uma tabela\n",
      "T=[(0,1),(1,3),(3,5),(4,-2)]\n",
      "X=[t[0] for t in T]\n",
      "Y=[t[1] for t in T]\n",
      "plot(X,Y,\"ro\")\n",
      "axis([-1,5,-3,6]) # d\u00e1 uma melhor visualiza\u00e7\u00e3o x de -1 a 5 e y de -3 a 6\n",
      "grid()"
     ],
     "language": "python",
     "metadata": {},
     "outputs": [
      {
       "metadata": {},
       "output_type": "display_data",
       "png": "[encoded data removed]",
       "text": [
        "<matplotlib.figure.Figure at 0xb1e1ee0c>"
       ]
      }
     ],
     "prompt_number": 4
    },
    {
     "cell_type": "code",
     "collapsed": false,
     "input": [
      "# teste 3: plotar uma fun\u00e7\u00e3o\n",
      "import numpy as np\n",
      "f = lambda x: x**2+np.sin(x)*x -1\n",
      "t = np.linspace(0,5,100)\n",
      "plot(t,f(t),\"g\")"
     ],
     "language": "python",
     "metadata": {},
     "outputs": [
      {
       "metadata": {},
       "output_type": "pyout",
       "prompt_number": 5,
       "text": [
        "[<matplotlib.lines.Line2D at 0xb15a5fcc>]"
       ]
      },
      {
       "metadata": {},
       "output_type": "display_data",
       "png": "[encoded data removed]",
       "text": [
        "<matplotlib.figure.Figure at 0xb157946c>"
       ]
      }
     ],
     "prompt_number": 5
    },
    {
     "cell_type": "code",
     "collapsed": false,
     "input": [
      "# plotar graficos simult\u00e2neos\n",
      "g = lambda x: 4*sin(3*x)\n",
      "plot(X,Y,\"ro\")\n",
      "plot(t,f(t),t,g(t))\n",
      "grid()"
     ],
     "language": "python",
     "metadata": {},
     "outputs": [
      {
       "metadata": {},
       "output_type": "display_data",
       "png": "[encoded data removed]",
       "text": [
        "<matplotlib.figure.Figure at 0xb1592e0c>"
       ]
      }
     ],
     "prompt_number": 6
    },
    {
     "cell_type": "code",
     "collapsed": false,
     "input": [],
     "language": "python",
     "metadata": {},
     "outputs": []
    }
   ],
   "metadata": {}
  }
 ]
}