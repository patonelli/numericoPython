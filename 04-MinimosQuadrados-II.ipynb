{
 "metadata": {
  "name": ""
 },
 "nbformat": 3,
 "nbformat_minor": 0,
 "worksheets": [
  {
   "cells": [
    {
     "cell_type": "markdown",
     "metadata": {},
     "source": [
      "# Caso geral do MMQ\n",
      "Seja $\\mathbf{T}=\\{(x_0,y_0),\\dots , (x_k,y_k)\\}$ uma tabela regular e $\\{g_0,\\dots , g_n\\}$ uma fam\u00edlia de fun\u00e7\u00f5es $g_i: I \\to \\mathbb{R}$. O problema geral de MMQ \u00e9 encontrar uma fun\u00e7\u00e3o $g$ que seja  combina\u00e7\u00e3o linear da fam\u00edlia $\\{g_i\\}$ e que minimize o res\u00edduo quadr\u00e1tico em rela\u00e7\u00e3o \u00e0 tabela $\\mathbf{T}$. Lembro que $\\text{Res}(g,\\mathbf{T})=\\sum_{j=0}^k (g(x_j)-y_j)^2$.\n",
      "\n",
      "## Solu\u00e7\u00e3o exata\n",
      "Note que o res\u00edduo ser\u00e1 zero se, e somente se, tivermos $g(x_j) = y_j$ para todo $0\\leq j\\leq k$. e isto equivale a dizer que existem n\u00fameros $a_0,\\dots , a_n$ tais que $\\sum_{i=0}^n a_ig_i(x_j) = y_j$ pra todo $j \\in \\{0,\\dots,k\\}$. Uma outra interpreta\u00e7\u00e3o desta equa\u00e7\u00e3o \u00e9 que o vetor coluna\n",
      "$$ \\mathbf{a} = \\begin{bmatrix} a_0 \\\\ \\vdots \\\\ a_n \\end{bmatrix} $$\n",
      "satisfaz o sistema linear $P\\mathbf{a} = \\mathbf{y}$ onde\n",
      "$$ P = \\begin{pmatrix} g_0(x_0) & g_1(x_0) & \\cdots & g_n(x_0) \\\\\n",
      "\\vdots & \\vdots & \\vdots & \\vdots \\\\\n",
      "g_0(x_k) & g_1(x_k) & \\dots & g_n(x_k) \\end{pmatrix}  \\text{ e } \\mathbf{y} =\\begin{pmatrix} y_0 \\\\ \\vdots \\\\ y_k \\end{pmatrix} $$\n",
      "Chamaremos esta matriz $P$ de *matriz de projeto* do problema de MMQ.\n",
      "\n",
      "## Sistema normal\n",
      "Se todas as colunas da matriz $P$ forem li diremos que o problema tem posto m\u00e1ximo e a solu\u00e7\u00e3o do problema geral \u00e9 encontrada resolvendo o sistema normal $A\\mathbf{a} = \\mathbf{b}$ onde a matriz $A$ tem os coeficientes $a_{ij} = \\langle g_i , g_j \\rangle = \\sum_{l=0}^kg_i(x_l)g_j(x_l)$ e $b_i = \\sum_{l=0}^k y_lg_i(x_l) = \\langle \\mathbf{y},g_i \\rangle$ "
     ]
    },
    {
     "cell_type": "markdown",
     "metadata": {},
     "source": [
      "## As fun\u00e7\u00f5es `polyfit()` e `lstsq()` do **NUMPY**\n",
      "A primeira fun\u00e7\u00e3o recebe como par\u00e2metros os pontos da tabela e o grau do polin\u00f4mio e devolve uma lista com os coeficientes do polin\u00f4mio."
     ]
    },
    {
     "cell_type": "code",
     "collapsed": false,
     "input": [
      "import numpy as np\n",
      "tabela = [(0,1),(1,2.3),(2,5.4),(3,-1), (4,-5.5)]\n",
      "x = np.array([p[0] for p in tabela])\n",
      "y = np.array([p[1] for p in tabela])\n",
      "z = np.polyfit(x,y,3)"
     ],
     "language": "python",
     "metadata": {},
     "outputs": [],
     "prompt_number": 1
    },
    {
     "cell_type": "code",
     "collapsed": false,
     "input": [
      "p = np.poly1d(z)\n",
      "p"
     ],
     "language": "python",
     "metadata": {},
     "outputs": [
      {
       "metadata": {},
       "output_type": "pyout",
       "prompt_number": 2,
       "text": [
        "poly1d([ 0.00833333, -1.55714286,  4.4702381 ,  0.67571429])"
       ]
      }
     ],
     "prompt_number": 2
    },
    {
     "cell_type": "code",
     "collapsed": false,
     "input": [
      "p(0)"
     ],
     "language": "python",
     "metadata": {},
     "outputs": [
      {
       "metadata": {},
       "output_type": "pyout",
       "prompt_number": 3,
       "text": [
        "0.67571428571428682"
       ]
      }
     ],
     "prompt_number": 3
    },
    {
     "cell_type": "code",
     "collapsed": false,
     "input": [
      "p(1)"
     ],
     "language": "python",
     "metadata": {},
     "outputs": [
      {
       "metadata": {},
       "output_type": "pyout",
       "prompt_number": 4,
       "text": [
        "3.5971428571428605"
       ]
      }
     ],
     "prompt_number": 4
    },
    {
     "cell_type": "code",
     "collapsed": false,
     "input": [
      "%matplotlib inline\n",
      "from matplotlib.pyplot import plot,grid\n",
      "t=np.linspace(0,4.5,100)\n",
      "plot(x,y,\"ro\",t,p(t))\n",
      "grid()"
     ],
     "language": "python",
     "metadata": {},
     "outputs": [
      {
       "metadata": {},
       "output_type": "display_data",
       "png": "[encoded data removed]",
       "text": [
        "<matplotlib.figure.Figure at 0xb1de16ec>"
       ]
      }
     ],
     "prompt_number": 5
    },
    {
     "cell_type": "markdown",
     "metadata": {},
     "source": [
      "A fun\u00e7\u00e3o `lstsq()` recebe como entrada a matriz de projeto $A$ que \u00e9 uma matriz $(n+1)\\times (k+1)$ e um vetor $y\\in \\mathbb{R}^{k+1}$"
     ]
    },
    {
     "cell_type": "code",
     "collapsed": false,
     "input": [
      "from numpy.linalg import lstsq\n",
      "f0 = lambda x: 1\n",
      "f1 = lambda x: np.cos(x)\n",
      "f2 = lambda x: np.sin(x)\n",
      "# vamos usar a mesma tabela anterior e construir a matriz de projeto\n",
      "A = np.array([[f0(u) for u in x] ,[f1(u) for u in x],[f2(u) for u in x]]).T\n",
      "print(A)"
     ],
     "language": "python",
     "metadata": {},
     "outputs": [
      {
       "output_type": "stream",
       "stream": "stdout",
       "text": [
        "[[ 1.          1.          0.        ]\n",
        " [ 1.          0.54030231  0.84147098]\n",
        " [ 1.         -0.41614684  0.90929743]\n",
        " [ 1.         -0.9899925   0.14112001]\n",
        " [ 1.         -0.65364362 -0.7568025 ]]\n"
       ]
      }
     ],
     "prompt_number": 6
    },
    {
     "cell_type": "code",
     "collapsed": false,
     "input": [
      "result = lstsq(A,y)\n",
      "result[0]"
     ],
     "language": "python",
     "metadata": {},
     "outputs": [
      {
       "metadata": {},
       "output_type": "pyout",
       "prompt_number": 7,
       "text": [
        "array([-0.7054306 ,  0.66399755,  5.34945131])"
       ]
      }
     ],
     "prompt_number": 7
    },
    {
     "cell_type": "code",
     "collapsed": false,
     "input": [
      "g = lambda x: result[0][0]*f0(x) + result[0][1]*f1(x) + result[0][2]*f2(x)\n",
      "plot(x,y, \"ro\",t,g(t))\n",
      "grid()"
     ],
     "language": "python",
     "metadata": {},
     "outputs": [
      {
       "metadata": {},
       "output_type": "display_data",
       "png": "[encoded data removed]",
       "text": [
        "<matplotlib.figure.Figure at 0xb14ddbac>"
       ]
      }
     ],
     "prompt_number": 8
    },
    {
     "cell_type": "code",
     "collapsed": false,
     "input": [
      "# residuo\n",
      "result[1]"
     ],
     "language": "python",
     "metadata": {},
     "outputs": [
      {
       "metadata": {},
       "output_type": "pyout",
       "prompt_number": 9,
       "text": [
        "array([ 7.07862146])"
       ]
      }
     ],
     "prompt_number": 9
    },
    {
     "cell_type": "code",
     "collapsed": false,
     "input": [
      "plot(x,y, \"ro\",t,g(t),t,p(t))"
     ],
     "language": "python",
     "metadata": {},
     "outputs": [
      {
       "metadata": {},
       "output_type": "pyout",
       "prompt_number": 10,
       "text": [
        "[<matplotlib.lines.Line2D at 0xb15a70ec>,\n",
        " <matplotlib.lines.Line2D at 0xb150edec>,\n",
        " <matplotlib.lines.Line2D at 0xb14dd68c>]"
       ]
      },
      {
       "metadata": {},
       "output_type": "display_data",
       "png": "[encoded data removed]",
       "text": [
        "<matplotlib.figure.Figure at 0xb15138ec>"
       ]
      }
     ],
     "prompt_number": 10
    },
    {
     "cell_type": "code",
     "collapsed": false,
     "input": [],
     "language": "python",
     "metadata": {},
     "outputs": []
    }
   ],
   "metadata": {}
  }
 ]
}