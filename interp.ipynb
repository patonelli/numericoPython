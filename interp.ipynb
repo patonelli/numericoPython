{
 "metadata": {
  "name": "interpola\u00e7\u00e3o"
 },
 "nbformat": 3,
 "nbformat_minor": 0,
 "worksheets": [
  {
   "cells": [
    {
     "cell_type": "markdown",
     "metadata": {},
     "source": [
      "Interpola\u00e7\u00e3o polinomial\n",
      "====\n",
      "Dada uma tabela $T=\\\\{(x_0,y_0), \\cdots , (x_k,y_k)\\\\}$ tal que $x_i \\lt x_{i+1}$, o polin\u00f4mio interpolador da tabela \u00e9 o \u00fanico polin\u00f4mio $p_T(x)$ de grau menor ou igual a $k$ que satisfaz\n",
      "$$ p_T(x_i) = y_i $$ para todos os pontos $(x_i,y_i)$ da tabela."
     ]
    },
    {
     "cell_type": "code",
     "collapsed": false,
     "input": [
      "from numpy.polynomial import polynomial as P"
     ],
     "language": "python",
     "metadata": {},
     "outputs": [],
     "prompt_number": 1
    },
    {
     "cell_type": "code",
     "collapsed": false,
     "input": [
      "# teste de interpola\u00e7\u00e3o\n",
      "x=[0,1,2,3,4]\n",
      "y=[-2,1,0,-5,1]\n",
      "p=P.polyfit(x,y,4)"
     ],
     "language": "python",
     "metadata": {},
     "outputs": [],
     "prompt_number": 2
    },
    {
     "cell_type": "code",
     "collapsed": false,
     "input": [
      "print(p)"
     ],
     "language": "python",
     "metadata": {},
     "outputs": [
      {
       "output_type": "stream",
       "stream": "stdout",
       "text": [
        "[-2.     1.25   4.875 -3.75   0.625]\n"
       ]
      }
     ],
     "prompt_number": 3
    },
    {
     "cell_type": "code",
     "collapsed": false,
     "input": [
      "f= lambda x : P.polyval(x,p)"
     ],
     "language": "python",
     "metadata": {},
     "outputs": [],
     "prompt_number": 7
    },
    {
     "cell_type": "code",
     "collapsed": false,
     "input": [
      "f(0)"
     ],
     "language": "python",
     "metadata": {},
     "outputs": [
      {
       "output_type": "pyout",
       "prompt_number": 8,
       "text": [
        "-1.9999999999999925"
       ]
      }
     ],
     "prompt_number": 8
    },
    {
     "cell_type": "code",
     "collapsed": false,
     "input": [
      "plot(x,y, \"ro\")\n",
      "t=linspace(-.5, 4.5,100)\n",
      "plot(t,f(t))\n",
      "grid()"
     ],
     "language": "python",
     "metadata": {},
     "outputs": [
      {
       "output_type": "display_data",
       "png": "[encoded data removed]"
      }
     ],
     "prompt_number": 9
    },
    {
     "cell_type": "markdown",
     "metadata": {},
     "source": [
      "Polin\u00f4mio interpolador na forma de Lagrange\n",
      "====\n",
      "Definimos os polin\u00f4mios de Lagrange $L_i(x)$ como\n",
      "$L_i(x)=\\prod_{l\\neq i} \\frac{(x-x_l)}{(x_i-x_l)}$\n",
      "e neste caso o polin\u00f4mio interpolador da tabela $T$ \u00e9 dado por\n",
      "$$ p_T(x)=\\sum_{j=0}^{k}y_jL_j(x)$$."
     ]
    },
    {
     "cell_type": "code",
     "collapsed": false,
     "input": [
      "def Lagrange(i,t,x):\n",
      "    '''Polinomios de Lagrange, t lista de pontos da tabela'''\n",
      "    k=len(t)-1\n",
      "    produto=1\n",
      "    for l in range(len(t)):\n",
      "        if (l!=i) :\n",
      "            produto = produto*(x-t[l])/(t[i]-t[l])\n",
      "    return produto\n",
      "        "
     ],
     "language": "python",
     "metadata": {},
     "outputs": [],
     "prompt_number": 11
    },
    {
     "cell_type": "code",
     "collapsed": false,
     "input": [
      "x"
     ],
     "language": "python",
     "metadata": {},
     "outputs": [
      {
       "output_type": "pyout",
       "prompt_number": 12,
       "text": [
        "[0, 1, 2, 3, 4]"
       ]
      }
     ],
     "prompt_number": 12
    },
    {
     "cell_type": "code",
     "collapsed": false,
     "input": [
      "Lagrange(0,x,2)"
     ],
     "language": "python",
     "metadata": {},
     "outputs": [
      {
       "output_type": "pyout",
       "prompt_number": 13,
       "text": [
        "0.0"
       ]
      }
     ],
     "prompt_number": 13
    },
    {
     "cell_type": "code",
     "collapsed": false,
     "input": [
      "Lagrange(0,x,0)"
     ],
     "language": "python",
     "metadata": {},
     "outputs": [
      {
       "output_type": "pyout",
       "prompt_number": 14,
       "text": [
        "1.0"
       ]
      }
     ],
     "prompt_number": 14
    },
    {
     "cell_type": "code",
     "collapsed": false,
     "input": [
      "g= lambda t : y[0]*Lagrange(0,x,t) + y[1]*Lagrange(1,x,t) + y[2]*Lagrange(2,x,t) + y[3]*Lagrange(3,x,t)\n",
      "    "
     ],
     "language": "python",
     "metadata": {},
     "outputs": [],
     "prompt_number": 17
    },
    {
     "cell_type": "code",
     "collapsed": false,
     "input": [
      "plot(t,g(t))"
     ],
     "language": "python",
     "metadata": {},
     "outputs": [
      {
       "output_type": "pyout",
       "prompt_number": 18,
       "text": [
        "[<matplotlib.lines.Line2D at 0x4794210>]"
       ]
      },
      {
       "output_type": "display_data",
       "png": "[encoded data removed]"
      }
     ],
     "prompt_number": 18
    },
    {
     "cell_type": "code",
     "collapsed": false,
     "input": [],
     "language": "python",
     "metadata": {},
     "outputs": []
    }
   ],
   "metadata": {}
  }
 ]
}