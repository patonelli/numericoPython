{
 "cells": [
  {
   "cell_type": "markdown",
   "metadata": {},
   "source": [
    "## Quadratura de Gauss\n",
    "\n",
    "Seja $f:[a,b]\\to \\mathbb{R}$ uma função integrável neste intervalo e queremos construir um processo de aproximação da integral definida $\\int_a^bf(x)dx$. Uma idéia é selecionar um subconjunto finito $\\{ x_0, \\cdots x_k \\} \\subset [a,b]$ e considerar o polinômio interpolador, $P_f$ da tabela $\\{(x_0,f(x_0),\\cdots (x_1,f(x_1))\\}$ e então podemos escrever\n",
    "$$ \\int_a^bf(x)dx \\equiv \\sum_{i=0}^{k} a_if(x_i)$$\n",
    "onde cada $a_i =\\int_a^b L_i(x)dx$ e $L_i$ são os polinômios de Lagrange da tabela. Dessa forma o subconjunto $\\{x_0,\\cdots, x_k\\}$ caracteriza o método."
   ]
  },
  {
   "cell_type": "markdown",
   "metadata": {},
   "source": [
    "### Exatidão do método\n",
    "Diremos que o método de integração tem ordem $n$ se fornece as integrais  exatas para polinômios de grau menor ou igual a $n$. O problema de Gauss é: se fixarmos o número $k$, quais são os pontos $\\{ x_0, \\cdots x_k \\} \\subset [a,b]$ que deixam o método de integração com a maior ordem possível."
   ]
  },
  {
   "cell_type": "markdown",
   "metadata": {},
   "source": [
    "### Polinômios mônicos ortogonais\n",
    "Dadas duas funções $f,g:[a,b]\\to \\mathbb{R}$ definimos o produto interno como:\n",
    "$$<f,g> = \\int_a^bf(x)g(x)dx$$\n",
    "Um polinômio mônico de grau $n$ é uma poliômio da forma $p_n(x)=x^n + a_1x^{n-1}+\\cdots+ a_n$.\n",
    "Uma família completa de polinômios mônicos ortogonais é um conjunto com $K+2$ polinômios $\\{ p_0,\\dots, p_{k+1}\\}$, dois a dois ortogonais e cada $p_i(x)$ é um polinômio mônico de garu $i$.\n",
    "Na aula provamos que $P_{k+1}$ tem $k+1$ raizes simples no intervalo $[a,b]$.\n",
    "\n",
    "Se \\{ x_0,\\dots,x_k\\} são as raizes do polinômio $p_{k+1}$  o método de integração resultante deste conjunto tem ordem $2k+1$. E este método é conhecido como quadratura de Gauss.\n",
    "Veremos como usar o método usando o *scipy* do **Python**"
   ]
  },
  {
   "cell_type": "code",
   "execution_count": 1,
   "metadata": {
    "collapsed": false
   },
   "outputs": [
    {
     "name": "stdout",
     "output_type": "stream",
     "text": [
      "A integral deu (0.69314641744548289, None)\n"
     ]
    }
   ],
   "source": [
    "import scipy as sp\n",
    "from scipy.integrate import fixed_quad\n",
    "f = lambda x: 1/(1+x)\n",
    "I = fixed_quad(f,0,1,n=4)\n",
    "print(\"A integral deu {}\".format(I))"
   ]
  },
  {
   "cell_type": "code",
   "execution_count": null,
   "metadata": {
    "collapsed": true
   },
   "outputs": [],
   "source": []
  }
 ],
 "metadata": {
  "kernelspec": {
   "display_name": "Python 3",
   "language": "python",
   "name": "python3"
  },
  "language_info": {
   "codemirror_mode": {
    "name": "ipython",
    "version": 3
   },
   "file_extension": ".py",
   "mimetype": "text/x-python",
   "name": "python",
   "nbconvert_exporter": "python",
   "pygments_lexer": "ipython3",
   "version": "3.5.1"
  }
 },
 "nbformat": 4,
 "nbformat_minor": 0
}
