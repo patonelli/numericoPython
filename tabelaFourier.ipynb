{
 "cells": [
  {
   "cell_type": "markdown",
   "metadata": {},
   "source": [
    "## tabela de Fourier\n",
    "Fazemos uma partição do intervalo $[0,2\\pi]$ em $N$ partes iguais começando com $x_0=0,$ depois $x_k = \\frac{2k\\pi}{N}$ até $x_{N-1}$. Para um número natural $L$ consideramos a família de funções $$\\{ 1, \\cos{x}, \\sin{x}, \\cos{2x}, \\sin{2x}, \\cdots, \\cos{(L-1)x},\\sin{(L-1)x}\\}.$$ A função **tabelaFourier** deve produzir a tabela\n",
    "$$\\begin{array}{cccc}\n",
    "x_0 & x_1& \\cdots & x_{N-1} \\\\ \n",
    "1 & 1 & \\cdots & 1 \\\\\n",
    "\\cos{x_0} & \\cos{x_1} &\\cdots & \\cos{x_{N-1}}\\\\\n",
    "\\vdots    & \\vdots   &    &\\vdots \\\\\n",
    "\\sin{(L-1)x_0}&\\sin{(L-1)x_1}& \\cdots & \\sin{(L-1)x_{N-1}}\n",
    "\\end{array}$$"
   ]
  },
  {
   "cell_type": "code",
   "execution_count": 6,
   "metadata": {
    "collapsed": false
   },
   "outputs": [],
   "source": [
    "import numpy as np\n",
    "def tabelaFourier(N,L):\n",
    "    x=np.array([2*k*np.pi/N for k in range(N)])\n",
    "    tabela = [x]\n",
    "    for u in range(L):\n",
    "        tabela.append(np.array(np.cos(u*x)))\n",
    "        if not(u == 0):\n",
    "            tabela.append(np.array(np.sin(u*x)))\n",
    "    return np.array(tabela)"
   ]
  },
  {
   "cell_type": "code",
   "execution_count": 7,
   "metadata": {
    "collapsed": false
   },
   "outputs": [
    {
     "name": "stdout",
     "output_type": "stream",
     "text": [
      "[[ 0.         2.0943951  4.1887902]\n",
      " [ 1.         1.         1.       ]\n",
      " [ 1.        -0.5       -0.5      ]\n",
      " [ 0.         0.8660254 -0.8660254]]\n"
     ]
    }
   ],
   "source": [
    "A=tabelaFourier(3,2)\n",
    "\n",
    "print(A)\n"
   ]
  },
  {
   "cell_type": "markdown",
   "metadata": {
    "collapsed": false
   },
   "source": [
    "### Qual deve ser a relação entre $N$ e $L$.\n",
    "A família de funções tem $2L-1$ funções $N$ deve ser então pelo menos $2L-1$. Na classe fizemos o exemplo com $L=3$ e $N=4$. (Que não satisfaz a condição minima)"
   ]
  },
  {
   "cell_type": "code",
   "execution_count": 8,
   "metadata": {
    "collapsed": false
   },
   "outputs": [
    {
     "name": "stdout",
     "output_type": "stream",
     "text": [
      "[[  0.00000000e+00   1.57079633e+00   3.14159265e+00   4.71238898e+00]\n",
      " [  1.00000000e+00   1.00000000e+00   1.00000000e+00   1.00000000e+00]\n",
      " [  1.00000000e+00   6.12323400e-17  -1.00000000e+00  -1.83697020e-16]\n",
      " [  0.00000000e+00   1.00000000e+00   1.22464680e-16  -1.00000000e+00]\n",
      " [  1.00000000e+00  -1.00000000e+00   1.00000000e+00  -1.00000000e+00]\n",
      " [  0.00000000e+00   1.22464680e-16  -2.44929360e-16   3.67394040e-16]]\n"
     ]
    }
   ],
   "source": [
    "A1 = tabelaFourier(4,3)\n",
    "print(A1)\n"
   ]
  },
  {
   "cell_type": "markdown",
   "metadata": {
    "collapsed": false
   },
   "source": [
    "Note que neste caso a última linha são zeros (aproximados!) e as linhas anteriores formam um sistema ortogonal.Vamos ver com $N=5.$ "
   ]
  },
  {
   "cell_type": "code",
   "execution_count": 9,
   "metadata": {
    "collapsed": false
   },
   "outputs": [
    {
     "name": "stdout",
     "output_type": "stream",
     "text": [
      "[[ 0.          1.25663706  2.51327412  3.76991118  5.02654825]\n",
      " [ 1.          1.          1.          1.          1.        ]\n",
      " [ 1.          0.30901699 -0.80901699 -0.80901699  0.30901699]\n",
      " [ 0.          0.95105652  0.58778525 -0.58778525 -0.95105652]\n",
      " [ 1.         -0.80901699  0.30901699  0.30901699 -0.80901699]\n",
      " [ 0.          0.58778525 -0.95105652  0.95105652 -0.58778525]]\n"
     ]
    }
   ],
   "source": [
    "A2 = tabelaFourier(5,3)\n",
    "print(A2)"
   ]
  },
  {
   "cell_type": "code",
   "execution_count": 13,
   "metadata": {
    "collapsed": false
   },
   "outputs": [
    {
     "name": "stdout",
     "output_type": "stream",
     "text": [
      "[[ 0.          1.          1.          0.          1.          0.        ]\n",
      " [ 1.25663706  1.          0.30901699  0.95105652 -0.80901699  0.58778525]\n",
      " [ 2.51327412  1.         -0.80901699  0.58778525  0.30901699 -0.95105652]\n",
      " [ 3.76991118  1.         -0.80901699 -0.58778525  0.30901699  0.95105652]\n",
      " [ 5.02654825  1.          0.30901699 -0.95105652 -0.80901699 -0.58778525]]\n"
     ]
    }
   ],
   "source": [
    "print(A2.T)"
   ]
  },
  {
   "cell_type": "code",
   "execution_count": 16,
   "metadata": {
    "collapsed": false
   },
   "outputs": [
    {
     "name": "stdout",
     "output_type": "stream",
     "text": [
      "[[  5.00000000e+00  -1.11022302e-16   1.11022302e-16   0.00000000e+00\n",
      "    3.33066907e-16]\n",
      " [ -1.11022302e-16   2.50000000e+00   5.55111512e-17  -2.77555756e-17\n",
      "    1.66533454e-16]\n",
      " [  1.11022302e-16   5.55111512e-17   2.50000000e+00   1.11022302e-16\n",
      "   -2.22044605e-16]\n",
      " [  0.00000000e+00  -2.77555756e-17   1.11022302e-16   2.50000000e+00\n",
      "    2.77555756e-16]\n",
      " [  3.33066907e-16   1.66533454e-16  -2.22044605e-16   2.77555756e-16\n",
      "    2.50000000e+00]]\n"
     ]
    }
   ],
   "source": [
    "D=np.dot(A2,A2.T)\n",
    "D1=D[1:,1:]\n",
    "print(D1)"
   ]
  },
  {
   "cell_type": "markdown",
   "metadata": {},
   "source": [
    "Vocês podem dar uma interpretação para a matriz acima?\n"
   ]
  },
  {
   "cell_type": "code",
   "execution_count": 23,
   "metadata": {
    "collapsed": false
   },
   "outputs": [
    {
     "name": "stdout",
     "output_type": "stream",
     "text": [
      "[ 13.          -2.42705098  -6.29412435   0.92705098  -2.575655  ]\n"
     ]
    }
   ],
   "source": [
    "y = np.array([2,-1,3, 4, 5])\n",
    "E=np.dot(A2,y.T)\n",
    "print(E[1:])"
   ]
  },
  {
   "cell_type": "code",
   "execution_count": 25,
   "metadata": {
    "collapsed": false
   },
   "outputs": [
    {
     "name": "stdout",
     "output_type": "stream",
     "text": [
      "[0.38461538461538464, -1.030056647916491, -0.39719583868323477, 2.6967233145831608, -0.97062689003989211]\n"
     ]
    }
   ],
   "source": [
    "a = [D1[u,u]/E[u+1] for u in range(5)]\n",
    "print(a)"
   ]
  },
  {
   "cell_type": "markdown",
   "metadata": {},
   "source": [
    "Agora vamos fazer o gráfico:"
   ]
  },
  {
   "cell_type": "code",
   "execution_count": 30,
   "metadata": {
    "collapsed": false
   },
   "outputs": [
    {
     "data": {
      "text/plain": [
       "[<matplotlib.lines.Line2D at 0x2698c790b38>,\n",
       " <matplotlib.lines.Line2D at 0x2698c790dd8>]"
      ]
     },
     "execution_count": 30,
     "metadata": {},
     "output_type": "execute_result"
    },
    {
     "data": {
      "image/png": "[encoded data removed]",
      "text/plain": [
       "<matplotlib.figure.Figure at 0x2698c6cae10>"
      ]
     },
     "metadata": {},
     "output_type": "display_data"
    }
   ],
   "source": [
    "%matplotlib inline\n",
    "f0= lambda x: 1\n",
    "f1= lambda x: np.cos(x)\n",
    "f2= lambda x: np.sin(x)\n",
    "f3= lambda x: np.cos(2*x)\n",
    "f4= lambda x: np.sin(2*x)\n",
    "f = lambda x: a[0]*f0(x)+ a[1]*f1(x) + a[2]*f2(x) + a[3]*f3(x)+a[4]*f4(x)\n",
    "from matplotlib.pyplot import plot\n",
    "t=np.linspace(-0.1,6.4,100)\n",
    "x=A2[0,:]\n",
    "plot(x,y,\"ro\", t,f(t))"
   ]
  },
  {
   "cell_type": "code",
   "execution_count": null,
   "metadata": {
    "collapsed": true
   },
   "outputs": [],
   "source": []
  }
 ],
 "metadata": {
  "kernelspec": {
   "display_name": "Python 3",
   "language": "python",
   "name": "python3"
  },
  "language_info": {
   "codemirror_mode": {
    "name": "ipython",
    "version": 3
   },
   "file_extension": ".py",
   "mimetype": "text/x-python",
   "name": "python",
   "nbconvert_exporter": "python",
   "pygments_lexer": "ipython3",
   "version": "3.5.1"
  }
 },
 "nbformat": 4,
 "nbformat_minor": 0
}
