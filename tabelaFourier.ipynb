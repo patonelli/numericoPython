{
 "cells": [
  {
   "cell_type": "markdown",
   "metadata": {},
   "source": [
    "## tabela de Fourier\n",
    "Fazemos uma partição do intervalo $[0,2\\pi]$ em $N$ partes iguais começando com $x_0=0,$ depois $x_k = \\frac{2k\\pi}{N}$ até $x_{N-1}$. Para um número natural $L$ consideramos a família de funções $$\\{ 1, \\cos{x}, \\sin{x}, \\cos{2x}, \\sin{2x}, \\cdots, \\cos{(L-1)x},\\sin{(L-1)x}\\}$$. A função **tabelaFourier** deve produzir a tabela\n",
    "$$\\begin{array}{cccc}\n",
    "x_0 & x_1& \\cdots & x_{N-1} \\\\ \n",
    "1 & 1 & \\cdots & 1 \\\\\n",
    "\\cos{x_0} & \\cos{x_1} &\\cdots & \\cos{x_{N-1}}\\\\\n",
    "\\vdots    & \\vdots   &    &\\vdots \\\\\n",
    "\\sin{(L-1)x_0}&\\sin{(L-1)x_1}& \\cdots & \\sin{(L-1)x_{N-1}}\n",
    "\\end{array}$$"
   ]
  },
  {
   "cell_type": "code",
   "execution_count": 18,
   "metadata": {
    "collapsed": false
   },
   "outputs": [],
   "source": [
    "import numpy as np\n",
    "def tabelaFourier(N,L):\n",
    "    x=np.array([2*k*np.pi/N for k in range(N)])\n",
    "    tabela = [x]\n",
    "    for u in range(L):\n",
    "        tabela.append(np.array(np.cos(u*x)))\n",
    "        tabela.append(np.array(np.sin(u*x)))\n",
    "    return tabela"
   ]
  },
  {
   "cell_type": "code",
   "execution_count": 20,
   "metadata": {
    "collapsed": false
   },
   "outputs": [
    {
     "name": "stdout",
     "output_type": "stream",
     "text": [
      "[array([ 0.       ,  2.0943951,  4.1887902]), array([ 1.,  1.,  1.]), array([ 0.,  0.,  0.]), array([ 1. , -0.5, -0.5]), array([ 0.       ,  0.8660254, -0.8660254])]\n"
     ]
    }
   ],
   "source": [
    "A=tabelaFourier(3,2)\n",
    "\n",
    "print(A)\n"
   ]
  },
  {
   "cell_type": "code",
   "execution_count": 13,
   "metadata": {
    "collapsed": true
   },
   "outputs": [],
   "source": []
  },
  {
   "cell_type": "code",
   "execution_count": null,
   "metadata": {
    "collapsed": true
   },
   "outputs": [],
   "source": []
  }
 ],
 "metadata": {
  "kernelspec": {
   "display_name": "Python 3",
   "language": "python",
   "name": "python3"
  },
  "language_info": {
   "codemirror_mode": {
    "name": "ipython",
    "version": 3
   },
   "file_extension": ".py",
   "mimetype": "text/x-python",
   "name": "python",
   "nbconvert_exporter": "python",
   "pygments_lexer": "ipython3",
   "version": "3.4.3"
  }
 },
 "nbformat": 4,
 "nbformat_minor": 0
}
