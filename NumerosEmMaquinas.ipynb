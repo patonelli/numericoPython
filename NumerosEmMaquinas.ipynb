{
 "cells": [
  {
   "cell_type": "markdown",
   "metadata": {},
   "source": [
    "## Números na forma normal\n",
    "\n",
    "Dado um número real $r \\geq 0$, existe um número natural $E$ tal que para $B >1$ vale $B^{E-1} \\leq r < B^E$. Este número $E$ chamaremos de expoente de $r$ na base $B$. Notemos, além disso, que $\\frac{1}{B} \\leq \\frac{r}{B^E} < 1$. Usando a representação na base $B$ e chamando de $\\alpha = \\frac{r}{B^E}$, podemos escrever que $r=\\alpha \\times B^E $, chamaremos esta de forma normal de $r$ na base $B$ e $\\alpha$ é a mantissa normal do número $r$."
   ]
  },
  {
   "cell_type": "markdown",
   "metadata": {},
   "source": [
    "## Números de máquina\n",
    " Os *Números de Máquinas* é um subconjunto finito dos números reais definidos por três parâmetros:\n",
    " * Uma base $B$\n",
    " * O máximo valor absoluto do expoente $E$\n",
    " * O comprimento máximo da mantissa normal: $m$\n",
    " \n",
    " \\\\\\[ \\mathbb{M} =\\\\{ \\pm 0.b_1\\cdots b_m \\times B^e \\text{ tal que } b_1 \\geq 1, |e|<E \\\\} \\\\\\]"
   ]
  },
  {
   "cell_type": "markdown",
   "metadata": {},
   "source": [
    "## Arredondamento\n",
    "\n",
    "Uma função\n",
    "\n",
    "$$ A: \\mathbb{R} \\to \\mathbb{M} $$\n",
    "\n",
    "é uma ma função de arredondamento se preserva a ordem e restrita ao conjunto $\\mathbb{M}$.\n",
    "Dois são os arredondamentos mais típicos. \n",
    "\n",
    "* $\\text{rd}(x)$ é o número de máquina mais próximo de $x$.\n",
    "* $\\text{tr}(x)$ é o número de máquina obtido pelo truncamento dos dígitos de ordem $m+1$ em diante, na representação normal do número x."
   ]
  },
  {
   "cell_type": "markdown",
   "metadata": {},
   "source": [
    "## Erros absolutos e erros relativos\n",
    "\n",
    "Se $x$ e $y$ são dois números consecutivos de $\\mathbb{M}$ então temos\n",
    "\n",
    "$ x = 0.d_1\\dots d_m \\times B^e$ e $y = (0.d_1\\dots d_m + B^{-m})\\times B^e$ e a diferença dá:\n",
    "\n",
    "$|x-y| = B^{e-m}$\n",
    "\n",
    "Se x é um número real qualquer então\n",
    "\n",
    "$|x-\\text{rd}(x)| \\leq \\frac{B^{e-m}}{2}$\n",
    "\n",
    "e o erro relativo\n",
    "\n",
    "$$ \\frac{|x-\\text{rd}(x)|}{|x|} \\leq \\frac{B^{e-m}}{2|x|}$$\n",
    "\n",
    "e como sabemos que $\\beta^{e-1} \\leq x \\leq \\beta^{e}$ concluimos que\n",
    "\n",
    "$$ \\frac{|x-\\text{rd}(x)|}{|x|} \\leq \\frac{B^{e-m}}{2B^{e-1}}= \\frac{B^{m+1}}{2}$$\n",
    "Este majorante do erro relativo de qualquer número real é chamado de épsilon da máquina.\n"
   ]
  },
  {
   "cell_type": "code",
   "execution_count": null,
   "metadata": {
    "collapsed": true
   },
   "outputs": [],
   "source": []
  }
 ],
 "metadata": {
  "kernelspec": {
   "display_name": "Python 3",
   "language": "python",
   "name": "python3"
  },
  "language_info": {
   "codemirror_mode": {
    "name": "ipython",
    "version": 3
   },
   "file_extension": ".py",
   "mimetype": "text/x-python",
   "name": "python",
   "nbconvert_exporter": "python",
   "pygments_lexer": "ipython3",
   "version": "3.4.3"
  }
 },
 "nbformat": 4,
 "nbformat_minor": 0
}
