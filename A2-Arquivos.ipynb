{
 "cells": [
  {
   "cell_type": "markdown",
   "metadata": {},
   "source": [
    "# Manipulações de arquivos\n",
    "## Ler uma tabela de um arquivo de dados\n",
    "Digamos que temos um arquivo tabela1.csv que contém os dados de uma tabela. Como podemos ler o arquivo e passar os dados para uma tabela do programa?"
   ]
  },
  {
   "cell_type": "code",
   "execution_count": 37,
   "metadata": {
    "collapsed": false
   },
   "outputs": [],
   "source": [
    "lista_arquivo=[]\n",
    "with open(\"tabela1.csv\", mode=\"r\", encoding=\"utf-8\") as o_arquivo:\n",
    "    for linha in o_arquivo:\n",
    "        lista_arquivo.append(linha.rstrip())"
   ]
  },
  {
   "cell_type": "code",
   "execution_count": 38,
   "metadata": {
    "collapsed": false
   },
   "outputs": [
    {
     "data": {
      "text/plain": [
       "['0.0,8.0', '1.0,4.0', '3.2,4.3', '7.1,6.0', '5.7,3.0']"
      ]
     },
     "execution_count": 38,
     "metadata": {},
     "output_type": "execute_result"
    }
   ],
   "source": [
    "lista_arquivo"
   ]
  },
  {
   "cell_type": "markdown",
   "metadata": {},
   "source": [
    "Neste primeiro passo construimos uma lista com as linhas do arquivo de texto. Precisamos transformar cada item da lista num ponto"
   ]
  },
  {
   "cell_type": "code",
   "execution_count": 39,
   "metadata": {
    "collapsed": false
   },
   "outputs": [
    {
     "data": {
      "text/plain": [
       "[(0.0, 8.0), (1.0, 4.0), (3.2, 4.3), (7.1, 6.0), (5.7, 3.0)]"
      ]
     },
     "execution_count": 39,
     "metadata": {},
     "output_type": "execute_result"
    }
   ],
   "source": [
    "[(float(p.split(',')[0]),float(p.split(',')[1])) for p in lista_arquivo]"
   ]
  },
  {
   "cell_type": "code",
   "execution_count": 40,
   "metadata": {
    "collapsed": false
   },
   "outputs": [],
   "source": [
    "# podemos definir uma função para ler a tabela:\n",
    "def LeiaTabela(csv_file):\n",
    "    ''' retorna uma tabela a partir do arquivo csv_file '''\n",
    "    tabela=[]\n",
    "    with open(csv_file, mode='r',encoding='utf-8') as the_file:\n",
    "        for each_line in the_file:\n",
    "            tabela.append((float(each_line.rstrip().split(',')[0]),float(each_line.rstrip().split(',')[1])))\n",
    "    return tabela"
   ]
  },
  {
   "cell_type": "code",
   "execution_count": 41,
   "metadata": {
    "collapsed": false
   },
   "outputs": [],
   "source": [
    "# primeiro um teste\n",
    "tabela1 = LeiaTabela('tabela1.csv')"
   ]
  },
  {
   "cell_type": "code",
   "execution_count": 42,
   "metadata": {
    "collapsed": false
   },
   "outputs": [
    {
     "data": {
      "text/plain": [
       "[(0.0, 8.0), (1.0, 4.0), (3.2, 4.3), (7.1, 6.0), (5.7, 3.0)]"
      ]
     },
     "execution_count": 42,
     "metadata": {},
     "output_type": "execute_result"
    }
   ],
   "source": [
    "tabela1"
   ]
  },
  {
   "cell_type": "markdown",
   "metadata": {},
   "source": [
    "## Guardar uma tabela num arquivo de dados\n",
    "Agora temos uma tabela de dados na variável `tabela2`, e queremos guardar esta tabela num arquivo _tabela2.csv_\n"
   ]
  },
  {
   "cell_type": "code",
   "execution_count": 43,
   "metadata": {
    "collapsed": false
   },
   "outputs": [],
   "source": [
    "tabela1.append((6.0,2.6))"
   ]
  },
  {
   "cell_type": "code",
   "execution_count": 44,
   "metadata": {
    "collapsed": false
   },
   "outputs": [
    {
     "data": {
      "text/plain": [
       "[(0.0, 8.0), (1.0, 4.0), (3.2, 4.3), (7.1, 6.0), (5.7, 3.0), (6.0, 2.6)]"
      ]
     },
     "execution_count": 44,
     "metadata": {},
     "output_type": "execute_result"
    }
   ],
   "source": [
    "tabela1"
   ]
  },
  {
   "cell_type": "code",
   "execution_count": 45,
   "metadata": {
    "collapsed": false
   },
   "outputs": [
    {
     "data": {
      "text/plain": [
       "[(0.0, 8.0), (1.0, 4.0), (3.2, 4.3), (7.1, 6.0), (5.7, 3.0), (6.0, 2.6)]"
      ]
     },
     "execution_count": 45,
     "metadata": {},
     "output_type": "execute_result"
    }
   ],
   "source": [
    "tabela2=tabela1\n",
    "tabela2"
   ]
  },
  {
   "cell_type": "code",
   "execution_count": 46,
   "metadata": {
    "collapsed": false
   },
   "outputs": [
    {
     "name": "stdout",
     "output_type": "stream",
     "text": [
      "[(0.0, 8.0), (1.0, 4.0), (3.2, 4.3), (7.1, 6.0), (5.7, 3.0), (6.0, 2.6)]\n"
     ]
    }
   ],
   "source": [
    "print(tabela2)"
   ]
  },
  {
   "cell_type": "code",
   "execution_count": 47,
   "metadata": {
    "collapsed": false
   },
   "outputs": [],
   "source": [
    "texto=\"\"\n",
    "for point in tabela2:\n",
    "    texto = texto+str(point[0])+\",\"+str(point[1])+\"\\n\"\n",
    "with open('tabela2.csv', mode=\"w\", encoding='utf-8') as the_file:\n",
    "    the_file.write(texto)"
   ]
  },
  {
   "cell_type": "code",
   "execution_count": 47,
   "metadata": {
    "collapsed": false
   },
   "outputs": [],
   "source": []
  }
 ],
 "metadata": {
  "kernelspec": {
   "display_name": "Python 3",
   "language": "python",
   "name": "python3"
  },
  "language_info": {
   "codemirror_mode": {
    "name": "ipython",
    "version": 3
   },
   "file_extension": ".py",
   "mimetype": "text/x-python",
   "name": "python",
   "nbconvert_exporter": "python",
   "pygments_lexer": "ipython3",
   "version": "3.4.3"
  }
 },
 "nbformat": 4,
 "nbformat_minor": 0
}
