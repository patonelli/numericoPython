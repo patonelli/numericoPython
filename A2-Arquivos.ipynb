{
 "metadata": {
  "name": ""
 },
 "nbformat": 3,
 "nbformat_minor": 0,
 "worksheets": [
  {
   "cells": [
    {
     "cell_type": "markdown",
     "metadata": {},
     "source": [
      "# Manipula\u00e7\u00f5es de arquivos\n",
      "## Ler uma tabela de um arquivo de dados\n",
      "Digamos que temos um arquivo tabela1.csv que cont\u00e9m os dados de uma tabela. Como podemos ler o arquivo e passar os dados para uma tabela do programa?"
     ]
    },
    {
     "cell_type": "code",
     "collapsed": false,
     "input": [
      "lista_arquivo=[]\n",
      "with open(\"tabela1.csv\", mode=\"r\", encoding=\"utf-8\") as o_arquivo:\n",
      "    for linha in o_arquivo:\n",
      "        lista_arquivo.append(linha.rstrip())"
     ],
     "language": "python",
     "metadata": {},
     "outputs": [],
     "prompt_number": 37
    },
    {
     "cell_type": "code",
     "collapsed": false,
     "input": [
      "lista_arquivo"
     ],
     "language": "python",
     "metadata": {},
     "outputs": [
      {
       "metadata": {},
       "output_type": "pyout",
       "prompt_number": 38,
       "text": [
        "['0.0,8.0', '1.0,4.0', '3.2,4.3', '7.1,6.0', '5.7,3.0']"
       ]
      }
     ],
     "prompt_number": 38
    },
    {
     "cell_type": "markdown",
     "metadata": {},
     "source": [
      "Neste primeiro passo construimos uma lista com as linhas do arquivo de texto. Precisamos transformar cada item da lista num ponto"
     ]
    },
    {
     "cell_type": "code",
     "collapsed": false,
     "input": [
      "[(float(p.split(',')[0]),float(p.split(',')[1])) for p in lista_arquivo]"
     ],
     "language": "python",
     "metadata": {},
     "outputs": [
      {
       "metadata": {},
       "output_type": "pyout",
       "prompt_number": 39,
       "text": [
        "[(0.0, 8.0), (1.0, 4.0), (3.2, 4.3), (7.1, 6.0), (5.7, 3.0)]"
       ]
      }
     ],
     "prompt_number": 39
    },
    {
     "cell_type": "code",
     "collapsed": false,
     "input": [
      "# podemos definir uma fun\u00e7\u00e3o para ler a tabela:\n",
      "def LeiaTabela(csv_file):\n",
      "    ''' retorna uma tabela a partir do arquivo csv_file '''\n",
      "    tabela=[]\n",
      "    with open(csv_file, mode='r',encoding='utf-8') as the_file:\n",
      "        for each_line in the_file:\n",
      "            tabela.append((float(each_line.rstrip().split(',')[0]),float(each_line.rstrip().split(',')[1])))\n",
      "    return tabela"
     ],
     "language": "python",
     "metadata": {},
     "outputs": [],
     "prompt_number": 40
    },
    {
     "cell_type": "code",
     "collapsed": false,
     "input": [
      "# primeiro um teste\n",
      "tabela1 = LeiaTabela('tabela1.csv')"
     ],
     "language": "python",
     "metadata": {},
     "outputs": [],
     "prompt_number": 41
    },
    {
     "cell_type": "code",
     "collapsed": false,
     "input": [
      "tabela1"
     ],
     "language": "python",
     "metadata": {},
     "outputs": [
      {
       "metadata": {},
       "output_type": "pyout",
       "prompt_number": 42,
       "text": [
        "[(0.0, 8.0), (1.0, 4.0), (3.2, 4.3), (7.1, 6.0), (5.7, 3.0)]"
       ]
      }
     ],
     "prompt_number": 42
    },
    {
     "cell_type": "markdown",
     "metadata": {},
     "source": [
      "## Guardar uma tabela num arquivo de dados\n",
      "Agora temos uma tabela de dados na vari\u00e1vel `tabela2`, e queremos guardar esta tabela num arquivo _tabela2.csv_\n"
     ]
    },
    {
     "cell_type": "code",
     "collapsed": false,
     "input": [
      "tabela1.append((6.0,2.6))"
     ],
     "language": "python",
     "metadata": {},
     "outputs": [],
     "prompt_number": 43
    },
    {
     "cell_type": "code",
     "collapsed": false,
     "input": [
      "tabela1"
     ],
     "language": "python",
     "metadata": {},
     "outputs": [
      {
       "metadata": {},
       "output_type": "pyout",
       "prompt_number": 44,
       "text": [
        "[(0.0, 8.0), (1.0, 4.0), (3.2, 4.3), (7.1, 6.0), (5.7, 3.0), (6.0, 2.6)]"
       ]
      }
     ],
     "prompt_number": 44
    },
    {
     "cell_type": "code",
     "collapsed": false,
     "input": [
      "tabela2=tabela1\n",
      "tabela2"
     ],
     "language": "python",
     "metadata": {},
     "outputs": [
      {
       "metadata": {},
       "output_type": "pyout",
       "prompt_number": 45,
       "text": [
        "[(0.0, 8.0), (1.0, 4.0), (3.2, 4.3), (7.1, 6.0), (5.7, 3.0), (6.0, 2.6)]"
       ]
      }
     ],
     "prompt_number": 45
    },
    {
     "cell_type": "code",
     "collapsed": false,
     "input": [
      "print(tabela2)"
     ],
     "language": "python",
     "metadata": {},
     "outputs": [
      {
       "output_type": "stream",
       "stream": "stdout",
       "text": [
        "[(0.0, 8.0), (1.0, 4.0), (3.2, 4.3), (7.1, 6.0), (5.7, 3.0), (6.0, 2.6)]\n"
       ]
      }
     ],
     "prompt_number": 46
    },
    {
     "cell_type": "code",
     "collapsed": false,
     "input": [
      "texto=\"\"\n",
      "for point in tabela2:\n",
      "    texto = texto+str(point[0])+\",\"+str(point[1])+\"\\n\"\n",
      "with open('tabela2.csv', mode=\"w\", encoding='utf-8') as the_file:\n",
      "    the_file.write(texto)"
     ],
     "language": "python",
     "metadata": {},
     "outputs": [],
     "prompt_number": 47
    },
    {
     "cell_type": "code",
     "collapsed": false,
     "input": [],
     "language": "python",
     "metadata": {},
     "outputs": [],
     "prompt_number": 47
    }
   ],
   "metadata": {}
  }
 ]
}