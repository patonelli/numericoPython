{
 "cells": [
  {
   "cell_type": "markdown",
   "metadata": {},
   "source": [
    "## Método da dicotomia para calcular $\\sqrt{2}$\n",
    "1. Vamos tomar a função $f(x) = x^2 -2$ e calcular sua raiz no intervalo $[1,2]$\n",
    "2. Vamos testando as soluções $x_m = \\frac{(x_i +x_f)}{2}$ até que $|f(x_m)| < \\varepsilon$"
   ]
  },
  {
   "cell_type": "markdown",
   "metadata": {},
   "source": [
    "Vamos começar com os dados \n",
    "* $f(x) = x^2 -2$\n",
    "* $\\varepsilon = 0.0001$\n",
    "* $x_i = 1$ e $x_f = 2$ \n",
    "\n"
   ]
  },
  {
   "cell_type": "code",
   "execution_count": 1,
   "metadata": {},
   "outputs": [],
   "source": [
    "\n",
    "import numpy as np\n",
    "def f(x):\n",
    "    return x**2 -2 \n",
    "\n",
    "xi , xf = 1.0 , 2.0\n",
    "eps = 0.0001\n"
   ]
  },
  {
   "cell_type": "code",
   "execution_count": 6,
   "metadata": {},
   "outputs": [],
   "source": [
    "xm = (xi + xf)/2\n",
    "count =1\n",
    "while (np.abs(f(xm))>eps and count <= 100):\n",
    "    if (f(xi)*f(xm) < 0):\n",
    "         xf = xm\n",
    "    else:\n",
    "         xi=xm\n",
    "\n",
    "    xm = (xi + xf)/2\n",
    "    count +=1"
   ]
  },
  {
   "cell_type": "code",
   "execution_count": 8,
   "metadata": {},
   "outputs": [
    {
     "name": "stdout",
     "output_type": "stream",
     "text": [
      "A raiz é  1.4141845703125 depois de 11 iterações\n"
     ]
    }
   ],
   "source": [
    "print(\"A raiz é \", xm, \"depois de\", count, \"iterações\")"
   ]
  },
  {
   "cell_type": "code",
   "execution_count": 9,
   "metadata": {},
   "outputs": [
    {
     "data": {
      "text/plain": [
       "-8.200109004974365e-05"
      ]
     },
     "execution_count": 9,
     "metadata": {},
     "output_type": "execute_result"
    }
   ],
   "source": [
    "f(xm)"
   ]
  },
  {
   "cell_type": "code",
   "execution_count": null,
   "metadata": {},
   "outputs": [],
   "source": []
  }
 ],
 "metadata": {
  "interpreter": {
   "hash": "23ac055c4f6b36b0ab5ec2cffc710ab30ae9612508d51c725342a94526b79e83"
  },
  "kernelspec": {
   "display_name": "Python 3.10.2 ('base')",
   "language": "python",
   "name": "python3"
  },
  "language_info": {
   "codemirror_mode": {
    "name": "ipython",
    "version": 3
   },
   "file_extension": ".py",
   "mimetype": "text/x-python",
   "name": "python",
   "nbconvert_exporter": "python",
   "pygments_lexer": "ipython3",
   "version": "3.10.2"
  },
  "orig_nbformat": 4
 },
 "nbformat": 4,
 "nbformat_minor": 2
}
