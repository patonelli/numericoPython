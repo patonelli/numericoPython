{
 "metadata": {
  "name": "",
  "signature": "sha256:d76c60a3d774444449de0ad10ad8072ed278f174ed9a2a1615fb9d62816a5dc8"
 },
 "nbformat": 3,
 "nbformat_minor": 0,
 "worksheets": [
  {
   "cells": [
    {
     "cell_type": "markdown",
     "metadata": {},
     "source": [
      "## Integra\u00e7\u00e3o Gaussiana\n",
      "\n",
      "Seja $f:[a,b]\\to \\mathbb{R}$ uma fun\u00e7\u00e3o integr\u00e1vel. A f\u00f3rmula de integral Gaussiana de grau $n$ \u00e9 dada por:\n",
      "$$ G_n(f) = \\sum_{j=1}^n w_jf(x_j) $$ onde os pesos $w_j$ e os n\u00f3s $x_j$ s\u00e3o escolhidos de forma que a aproxima\u00e7\u00e3o,\n",
      "$G_n(p),$ seja exata para todo polin\u00f4mio $p(x)$ de grau menor ou igual a $2n-1$.\n"
     ]
    },
    {
     "cell_type": "markdown",
     "metadata": {},
     "source": [
      "### C\u00e1lculo dos $w_j$ e $x_j$\n",
      "Existem duas formas de se fazer o c\u00e1lculo dos n\u00f3s e pesos de um processo de integra\u00e7\u00e3o gaussiana. Primeiro podemos considerar os polin\u00f4mios $p_0(x) =1,$ at\u00e9 $p_{2n-1}(x) = x^{2n-1}$ e resolver o sistema n\u00e3o linear com $2n$ equa\u00e7\u00f5es e inc\u00f3gnitas:\n",
      "$$G_n(p_{\\nu}) = \\int_a^bp_{\\nu}(x)dx \\text{ para } \\nu \\in \\{0,\\dots,2n-1\\}$$\n",
      "\n",
      "A outra forma \u00e9 considerar uma fam\u00edlia de polin\u00f4mios ortogonais em rela\u00e7\u00e3o ao produto interno\n",
      "$$ \\langle p,q \\rangle = \\int_{-1}^1p(x)q(x)dx. $$\n",
      "Os **polin\u00f4mios de Legendre** $\\{P_0,\\dots,P_n\\}$ \u00e9 a fam\u00edlia de polin\u00f4mios ortogonais em rela\u00e7\u00e3o ao produto acima e tal que\n",
      "$$ \\langle P_i,P_i \\rangle = \\frac{2}{2i+1} $$\n",
      "As ra\u00edzes do polin\u00f4mio $P_n$ s\u00e3o $n$ n\u00fameros reais no intervalo $[-1,1]$, digamos $\\{y_1,\\dots,y_n\\}$.\n",
      "Os n\u00f3s da integra\u00e7\u00e3o gaussiana de grau $n$ ser\u00e1 dada por\n",
      "$$ x_j = \\frac{b-a}{2}y_j + \\frac{a+b}{2} $$\n",
      "Para achar os pesos resolvemos o sistema linear de dimens\u00e3o $n$\n",
      "$$G_n(p_{\\nu}) = \\int_a^bp_{\\nu}(x)dx = \\frac{b^{\\nu +1} - a^{\\nu +1}}{\\nu+1} \\text{ para } \\nu \\in \\{0,\\dots,n\\}$$"
     ]
    },
    {
     "cell_type": "code",
     "collapsed": false,
     "input": [
      "## Polinomios de Legendre em Numpy\n",
      "import numpy as np\n",
      "from numpy.polynomial.legendre import *"
     ],
     "language": "python",
     "metadata": {},
     "outputs": [],
     "prompt_number": 1
    },
    {
     "cell_type": "code",
     "collapsed": false,
     "input": [
      "t=np.linspace(-1,1,100)\n",
      "g3 = lambda x : legval(x,[0,0,0,1])"
     ],
     "language": "python",
     "metadata": {},
     "outputs": [],
     "prompt_number": 2
    },
    {
     "cell_type": "code",
     "collapsed": false,
     "input": [
      "%matplotlib inline\n",
      "from matplotlib.pyplot import plot,grid\n",
      "plot(t,g3(t))\n",
      "grid()"
     ],
     "language": "python",
     "metadata": {},
     "outputs": [
      {
       "metadata": {},
       "output_type": "display_data",
       "png": "[encoded data removed]",
       "text": [
        "<matplotlib.figure.Figure at 0xb15a204c>"
       ]
      }
     ],
     "prompt_number": 4
    },
    {
     "cell_type": "code",
     "collapsed": false,
     "input": [
      "print(legroots([0,0,0,1]))"
     ],
     "language": "python",
     "metadata": {},
     "outputs": [
      {
       "output_type": "stream",
       "stream": "stdout",
       "text": [
        "[ -7.74596669e-01  -3.96462374e-17   7.74596669e-01]\n"
       ]
      }
     ],
     "prompt_number": 11
    },
    {
     "cell_type": "code",
     "collapsed": false,
     "input": [
      "np.sqrt(3)/3"
     ],
     "language": "python",
     "metadata": {},
     "outputs": [
      {
       "metadata": {},
       "output_type": "pyout",
       "prompt_number": 8,
       "text": [
        "0.57735026918962573"
       ]
      }
     ],
     "prompt_number": 8
    },
    {
     "cell_type": "code",
     "collapsed": false,
     "input": [
      "## Gaussian quadrature\n",
      "from scipy.integrate import fixed_quad\n",
      "help(fixed_quad)"
     ],
     "language": "python",
     "metadata": {},
     "outputs": [
      {
       "output_type": "stream",
       "stream": "stdout",
       "text": [
        "Help on function fixed_quad in module scipy.integrate.quadrature:\n",
        "\n",
        "fixed_quad(func, a, b, args=(), n=5)\n",
        "    Compute a definite integral using fixed-order Gaussian quadrature.\n",
        "    \n",
        "    Integrate `func` from `a` to `b` using Gaussian quadrature of\n",
        "    order `n`.\n",
        "    \n",
        "    Parameters\n",
        "    ----------\n",
        "    func : callable\n",
        "        A Python function or method to integrate (must accept vector inputs).\n",
        "    a : float\n",
        "        Lower limit of integration.\n",
        "    b : float\n",
        "        Upper limit of integration.\n",
        "    args : tuple, optional\n",
        "        Extra arguments to pass to function, if any.\n",
        "    n : int, optional\n",
        "        Order of quadrature integration. Default is 5.\n",
        "    \n",
        "    Returns\n",
        "    -------\n",
        "    val : float\n",
        "        Gaussian quadrature approximation to the integral\n",
        "    \n",
        "    See Also\n",
        "    --------\n",
        "    quad : adaptive quadrature using QUADPACK\n",
        "    dblquad : double integrals\n",
        "    tplquad : triple integrals\n",
        "    romberg : adaptive Romberg quadrature\n",
        "    quadrature : adaptive Gaussian quadrature\n",
        "    romb : integrators for sampled data\n",
        "    simps : integrators for sampled data\n",
        "    cumtrapz : cumulative integration for sampled data\n",
        "    ode : ODE integrator\n",
        "    odeint : ODE integrator\n",
        "\n"
       ]
      }
     ],
     "prompt_number": 12
    },
    {
     "cell_type": "code",
     "collapsed": false,
     "input": [],
     "language": "python",
     "metadata": {},
     "outputs": []
    }
   ],
   "metadata": {}
  }
 ]
}