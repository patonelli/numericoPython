{
 "metadata": {
  "name": "",
  "signature": "sha256:3395f7dcbb15af704ce60f026edd1a59f0c7df235093666595783a3f4a808f26"
 },
 "nbformat": 3,
 "nbformat_minor": 0,
 "worksheets": [
  {
   "cells": [
    {
     "cell_type": "markdown",
     "metadata": {},
     "source": [
      "# O problema de Equa\u00e7\u00f5es Diferenciais Ordin\u00e1rias\n",
      "\n",
      "A descri\u00e7\u00e3o de muitos fen\u00f4menos f\u00edsicos e dada por rela\u00e7\u00f5es entre quantidades representadas matem\u00e1ticamente por vari\u00e1veis num\u00e9ricas. Em geral busca-se expressar uma vari\u00e1vel, chamada dependente, em fun\u00e7\u00e3o de uma outra vari\u00e1vel, dita independente.\n",
      "Um exemplo cl\u00e1ssico vem da mec\u00e2nica, onde o estado de um sistema depende da vari\u00e1vel independente tempo. \n",
      "\n",
      "As leis que regem os fen\u00f4menos naturais, no entanto, n\u00e3o expressam diretamente qual \u00e9 a fun\u00e7\u00e3o procurada, mas informam qual \u00e9 a rela\u00e7\u00e3o deste fun\u00e7\u00e3o procurada e suas derivadas, por exemplo.\n",
      "O problema geral, do ponto de vista matem\u00e1tico, \u00e9:\n",
      "\n",
      "* Encontrar uma fun\u00e7\u00e3o $x:[a,b] \\to \\mathbb{R}$ que satisfa\u00e7a a rela\u00e7\u00e3o $F(x^{(n)}, \\dots, x^{(1)},x,t)=0$\n",
      "\n",
      "Onde $t$ \u00e9 a vari\u00e1vel independente e $x^{(i)}$ \u00e9 a $i$-\u00e9sima derivada de $x$ em rela\u00e7\u00e3o a $t$. A equa\u00e7\u00e3o desta forma \u00e9 uma equa\u00e7\u00e3o diferencial ordin\u00e1ria de ordem $n$. Por exemplo, a segunda lei de Newton da mec\u00e2nica cl\u00e1ssica: $\\ddot{x}-f(x,\\dot{x},t) =0$, \u00e9 uma equa\u00e7\u00e3o diferencial ordin\u00e1ria de segunda ordem."
     ]
    },
    {
     "cell_type": "markdown",
     "metadata": {},
     "source": [
      "## EDOs expl\u00edcitas de primeira ordem\n",
      "Vamos estudar apenas determinados casos de EDOs. A primeira classe que estudaremos, e para a qual desenvolveremos algoritmos s\u00e3o as *equa\u00e7\u00f5es explitas de primeira ordem* neste caso temos que a rela\u00e7\u00e3o entre a derivada de uma fun\u00e7\u00e3o real $x(t)$ e as vari\u00e1veis dependente e independente \u00e9\n",
      "$$ \\dot{x}(t) = f(x(t),t) $$\n",
      "onde $f: \\Omega \\to \\mathbb{R}$ \u00e9 uma fun\u00e7\u00e3o e $\\Omega \\subset \\mathbb{R}^2$ \u00e9 um dom\u00ednio aberto."
     ]
    },
    {
     "cell_type": "markdown",
     "metadata": {},
     "source": [
      "### Problema de Cauchy (ou problema do valor inicial)\n",
      "Podem existir infinitas fun\u00e7\u00f5es $x(t)$ que satisfa\u00e7am apenas a equa\u00e7\u00e3o diferencial $\\dot{x}=f(x,t)$. Para restringir as solu\u00e7\u00f5es \u00e9 necess\u00e1rio fornecer mais informa\u00e7\u00f5es sobre a solu\u00e7\u00e3o procurada. Um tipo de informa\u00e7\u00e3o, chamada de condi\u00e7\u00e3o inicial, \u00e9 dizer o valor $x(t_0)$ no ponto fixado $t_0$. O problema que temos para resolver ent\u00e3o \u00e9 encontrar a fun\u00e7\u00e3o $x(t)$ que satisfa\u00e7a:\n",
      "$$ \\begin{gather} \n",
      "\\dot{x}(t) = f(x(t),t) \\\\\n",
      "x(t_0)=x_0\n",
      "\\end{gather}$$\n",
      "Este problema \u00e9 o chamado *Problema de Cauchy*. Existem teoremas de exist\u00eancia e unicidade de solu\u00e7\u00f5es desde que a fun\u00e7\u00e3o $f(x,t)$ satisfa\u00e7a algumas condi\u00e7\u00f5es. N\u00e3o vamos falar destes teoremas nesta disciplina, mas com a garantia de que $f$ seja diferenci\u00e1vel nas duas vari\u00e1veis podemos afirmar que o problema tem uma \u00fanica solu\u00e7\u00e3o, e vamos nos concentrar nos m\u00e9todos num\u00e9ricos para encontr\u00e1-las.\n"
     ]
    },
    {
     "cell_type": "markdown",
     "metadata": {},
     "source": [
      "### Exemplos\n",
      "\n",
      "1. Se tomarmos $f(x,t) = c $ onde $c$ \u00e9 uma constante real, ent\u00e3o a solu\u00e7\u00e3o do problema de Cauchy acima \u00e9\n",
      "$x(t) = c(t-t_0) + x_0$\n",
      "\n",
      "2. Agora se $f(x,t)=cx$, a solu\u00e7\u00e3o \u00e9 $x(t) = x_0\\exp{c(t-t_0)}$\n",
      "\n",
      "3. Seja agora $f(x,t)=\\sqrt[3]{x} = x^{\\frac{1}{3}}$ com a condi\u00e7\u00e3o inicial $x(0)=0$. Neste caso h\u00e1 uma fam\u00edlia infinita de solu\u00e7\u00f5es\n",
      "$$ x(t) = \\left\\{ \\begin{array}[cc] \\\\\n",
      "0 & \\text{ se } t \\lt \\alpha \\\\ \\left(\\sqrt{\\frac{2}{3}(t-\\alpha)}\\right)^3 & \\text{ se } t > \\alpha \\end{array} \\right.$$\n",
      "Neste \u00faltimo caso n\u00e3o h\u00e1 unicidade por causa da n\u00e3o diferenciabilidade no zero de $f(x,t)$"
     ]
    },
    {
     "cell_type": "markdown",
     "metadata": {},
     "source": []
    }
   ],
   "metadata": {}
  }
 ]
}