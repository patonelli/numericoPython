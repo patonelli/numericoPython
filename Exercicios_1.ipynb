{
 "metadata": {
  "name": ""
 },
 "nbformat": 3,
 "nbformat_minor": 0,
 "worksheets": [
  {
   "cells": [
    {
     "cell_type": "code",
     "collapsed": false,
     "input": [
      "Nome = str(input(\"Seu Nome: \"))\n",
      "print(Nome)"
     ],
     "language": "python",
     "metadata": {},
     "outputs": [
      {
       "name": "stdout",
       "output_type": "stream",
       "stream": "stdout",
       "text": [
        "Seu Nome: Pedro Aladar Tonelli\n"
       ]
      },
      {
       "output_type": "stream",
       "stream": "stdout",
       "text": [
        "Pedro Aladar Tonelli\n"
       ]
      }
     ],
     "prompt_number": 1
    },
    {
     "cell_type": "markdown",
     "metadata": {},
     "source": [
      "Polin\u00f4mios de Taylor de uma fun\u00e7\u00e3o real\n",
      "----\n",
      "Na \u00faltima aula vimos que o *Teorema de Taylor* d\u00e1 uma forma de calcular o valor de uma fun\u00e7\u00e3o suficientemente diferenci\u00e1vel usando polin\u00f4mios. Nesta primeira lista vamos lembrar como se faz isso. Considere a fun\u00e7\u00e3o definida na reta, $f(x)=x^2\\cos(2x)$. O seu polin\u00f4mio de Taylor de segunda ordem, **em torno do** $1$ \u00e9:\n",
      "\n",
      "$$p_2(x) = \\dots $$\n",
      "e a f\u00f3rmula do resto na forma de Lagrange \u00e9:\n",
      "\n",
      "$$ R_2(x) = \\dots $$\n",
      "\n",
      "Uma avalia\u00e7\u00e3o de $f(1.5)$ pode ser feita avaliando $p_2(1.5) = \\dots$. Neste caso a estimativa do erro absoluto \u00e9 $\\dots$."
     ]
    },
    {
     "cell_type": "code",
     "collapsed": false,
     "input": [
      "import sympy as sp\n",
      "from sympy.interactive import printing\n",
      "printing.init_printing()\n",
      "x, y, z = sp.symbols(\"x y z\")\n",
      "f, g, h = map(sp.Function, 'fgh')"
     ],
     "language": "python",
     "metadata": {},
     "outputs": [],
     "prompt_number": 6
    },
    {
     "cell_type": "markdown",
     "metadata": {},
     "source": [
      "A c\u00e9lula anterior carregou o m\u00f3dulo *sympy*, o que permite achar derivadas com *sp.diff()*. Gostaria que escrevessem a fun\u00e7\u00e3o abaixo que est\u00e1 incompleta:"
     ]
    },
    {
     "cell_type": "code",
     "collapsed": false,
     "input": [
      "def polinomio_de_taylor(f, x0, n, x):\n",
      "    \"\"\" D\u00e1 o polin\u00f4mio de Taylor de ordem n, em torno de x0, da fun\u00e7\u00e3o f na vari\u00e1vel x\"\"\"\n",
      "    return \"O polinomio deve ser a sa\u00edda do programa\""
     ],
     "language": "python",
     "metadata": {},
     "outputs": [],
     "prompt_number": 7
    },
    {
     "cell_type": "markdown",
     "metadata": {},
     "source": [
      "Depois fa\u00e7a um teste:"
     ]
    },
    {
     "cell_type": "code",
     "collapsed": false,
     "input": [
      "f = lambda x : x**2*sp.cos(2*x)\n",
      "f(x)"
     ],
     "language": "python",
     "metadata": {},
     "outputs": [
      {
       "latex": [
        "$$x^{2} \\cos{\\left (2 x \\right )}$$"
       ],
       "metadata": {},
       "output_type": "pyout",
       "png": "[encoded data removed]",
       "prompt_number": 11,
       "text": [
        " 2         \n",
        "x \u22c5cos(2\u22c5x)"
       ]
      }
     ],
     "prompt_number": 11
    },
    {
     "cell_type": "code",
     "collapsed": false,
     "input": [
      "g= polinomio_de_taylor(f,1,2,x)\n",
      "g"
     ],
     "language": "python",
     "metadata": {},
     "outputs": [
      {
       "metadata": {},
       "output_type": "pyout",
       "prompt_number": 12,
       "text": [
        "'O polinomio deve ser a sa\u00edda do programa'"
       ]
      }
     ],
     "prompt_number": 12
    },
    {
     "cell_type": "code",
     "collapsed": false,
     "input": [],
     "language": "python",
     "metadata": {},
     "outputs": []
    }
   ],
   "metadata": {}
  }
 ]
}