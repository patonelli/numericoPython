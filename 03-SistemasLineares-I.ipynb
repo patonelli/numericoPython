{
 "metadata": {
  "name": ""
 },
 "nbformat": 3,
 "nbformat_minor": 0,
 "worksheets": [
  {
   "cells": [
    {
     "cell_type": "markdown",
     "metadata": {},
     "source": [
      "# Resolu\u00e7\u00e3o de Sistemas Lineares\n",
      "\n",
      "Vamos considerar aqui os m\u00e9todos para solu\u00e7\u00e3o de sistemas lineares com $n$ equa\u00e7\u00f5es e $n$ inc\u00f3gnitas da forma\n",
      "$$ \\begin{array}{ccccc}\n",
      "a_{11}x_1 & + a_{12}x_2 & + \\cdots & + a_{1n}x_n& = b_1 \\\\\n",
      "\\vdots & & & &  \\vdots \\\\\n",
      "a_{n1}x_1& + a_{n2}x_2& + \\cdots & + a_{nn}x_n & = b_n\n",
      "\\end{array}$$\n",
      "ou na forma matricial:\n",
      "$$ \\begin{bmatrix}\n",
      "a_{11} & a_{12} & \\cdots & a_{1n} \\\\\n",
      "\\vdots & \\vdots & & \\vdots \\\\\n",
      "a_{n1} & a_{n2} &\\cdots & a_{nn}\n",
      "\\end{bmatrix}\\begin{pmatrix} x_1 \\\\ \\vdots \\\\ x_n \\end{pmatrix} = \\begin{pmatrix} b_1 \\\\ \\vdots \\\\ b_n \\end{pmatrix}$$"
     ]
    },
    {
     "cell_type": "markdown",
     "metadata": {},
     "source": [
      "## Sistemas f\u00e1ceis de resolver\n",
      "Em primeiro lugar caracterizamos os sistemas f\u00e1ceis de resolver. Um sistema \u00e9 **f\u00e1cil de resolver** quando a matriz de coeficientes $A$ \u00e9 triangular superior, isto \u00e9 quando tivermos:\n",
      "$$ a_{ij}=0 \\text{ para } i > j. $$ Neste caso resolvemos o sistema come\u00e7ando da \u00faltima equa\u00e7\u00e3o e chegando at\u00e9 a primeira inc\u00f3gnita por substitui\u00e7\u00e3o. Claro que o sistema s\u00f3 ser\u00e1 possivel e determinado quando cada elemento $a_{ii}$ da diagonal for diferente de zero. E podemos aplicar a f\u00f3rmula:\n",
      "$$ x_k = \\frac{1}{a_{kk}}\\left(b_k - \\sum_{k < j \\leq n} a_{kj}x_j\\right) $$\n"
     ]
    },
    {
     "cell_type": "code",
     "collapsed": false,
     "input": [
      "import numpy as np\n",
      "# para a maioria dos exemplos vamos usar o numpy"
     ],
     "language": "python",
     "metadata": {},
     "outputs": [],
     "prompt_number": 1
    },
    {
     "cell_type": "code",
     "collapsed": false,
     "input": [
      "def BackStep(A,b):\n",
      "    \"\"\" Se a matriz for triangular superior resolve Ax=b \n",
      "    A \u00e9 uma matriz triangular.\n",
      "    b \u00e9 uma lista de n\u00fameros reais de mesma dimens\u00e3o de A. \"\"\"\n",
      "    #i Vamos testar se A \u00e9 TS e se a a diagonal n\u00e3o tem zero\n",
      "    # Esta parte consome muito tempo e n\u00e3o deve ser usada depois\n",
      "    n = len(A)\n",
      "    for i in range(n):\n",
      "        teste1 = A[i,i]==0\n",
      "        if i==n:\n",
      "            teste2 = False\n",
      "        else: teste2 = False in (A[i+1:n,i]==0)\n",
      "        if teste1 or teste2:\n",
      "            raise ValueError(\" Matriz A n\u00e3o pode ser parametro do BackStep \")\n",
      "    # Esta foi s\u00f3 a parte de teste.\n",
      "    x=np.zeros(n)\n",
      "    k=n-1\n",
      "    while k>=0:\n",
      "        x[k] = (1/A[k,k])*(b[k]-sum([A[k,j]*x[j] for j in range(k+1,n)]))\n",
      "        k-=1\n",
      "    return x\n",
      "                           "
     ],
     "language": "python",
     "metadata": {},
     "outputs": [],
     "prompt_number": 2
    },
    {
     "cell_type": "markdown",
     "metadata": {},
     "source": [
      "## Transformar um sistema qualquer num sistema f\u00e1cil de resolver\n",
      "O m\u00e9todo direto consiste em transformar um sistema $Ax=b$ num sistema $A_1x=b_1$ sem alterar as solu\u00e7\u00f5es do sistema e tal que o segundo sistema seja f\u00e1cil de resolver.\n",
      "\n",
      "### Opera\u00e7\u00f5es de linhas elementares\n",
      "S\u00e3o as opera\u00e7\u00f5es b\u00e1sicas que n\u00e3o alteram o conjunto solu\u00e7\u00e3o e que iremos utilizar.\n",
      "\n",
      "*  $E_{ij}$ Significa trocar as posi\u00e7\u00f5es das equa\u00e7\u00f5es $j$ e $i$. Na matriz de coeficientes e  no vetor $b$ corresponde a trocar estas linhas.\n",
      "\n",
      "* $E_{ij,\\alpha}$: isto corresponde a fazer a substitui\u00e7\u00e3o $L_i = L_i + \\alpha L_j$, ou seja, somar a equa\u00e7\u00e3o $i$ com um m\u00faltiplo da equa\u00e7\u00e3o $j$\n",
      "\n",
      "* $E_{i,\\beta}$ para $\\beta \\neq 0$ correspode a multiplica\u00e7\u00e3o da $i$-\u00e9sima equa\u00e7\u00e3o por $\\beta$ ($=E_{ii,{\\beta-1}}$).\n",
      "\n",
      "### Algoritmo da Elimina\u00e7\u00e3o de Gauss\n",
      "\n",
      "Para o $k$ de $1$ at\u00e9 $n-1$ executamos:\n",
      "\n",
      "*Passo $k$:* Caso $a_{kk} \\neq 0$, fa\u00e7a de $ i=k+1$ at\u00e9 $ i=n $: $ m_{ik} = a_{ik}/a_{kk} $ e aplique ao  sistema a opera\u00e7\u00e3o elementar $ E_{ik,m_{ik}}$.\n",
      "\n",
      "Ao fim do passo $n-1$ o sistema estar\u00e1 triangularizado.\n",
      "Para evitar a possibilidade de n\u00e3o se triangularizar o sistema, mesmo ele sendo poss\u00edvel e determinado, executamos a **pivota\u00e7\u00e3o** que \u00e9 o seguinte procedimento:\n",
      "antes da execu\u00e7\u00e3o do passo $k$ do MEG. Buscamos, na $k-$\u00e9sima coluna, a partir da $k-$\u00e9sima linha o \u00edndice $i$\n",
      "tal que $|a_{ik}|$ seja o maior poss\u00edvel, e executamos $E_{ik}$. Com isto garantimos a triangulariza\u00e7\u00e3o de qualquer sistema que tenha solu\u00e7\u00e3o \u00fanica e evitamos perdas de algarismos significativos."
     ]
    },
    {
     "cell_type": "code",
     "collapsed": false,
     "input": [
      "\n",
      "# A is type array from numpy\n",
      "# remember: A[0.0] is the first element\n",
      "# Elementary row operations:\n",
      "\n",
      "def  troca_linha(A,i,j):\n",
      "    '''Troca as linhas i e j da matriz A'''\n",
      "    buffer = A[i].copy()\n",
      "    A[i] = A[j]\n",
      "    A[j] = buffer\n",
      "    return A\n",
      "\n",
      "def mult_linha(A,i,alfa):\n",
      "    '''Multiplica por alfa a linha i'''\n",
      "    A[i] = alfa*A[i]\n",
      "    return A\n",
      "\n",
      "def subs_linha(A,i,k,alfa):\n",
      "    '''soma a linha i com um multiplo da linha k'''\n",
      "    A[i] = A[i] + alfa*A[k]\n",
      "    return A\n",
      "\n",
      "# step k of gauss elimination:\n",
      "def gauss_step(A,k):\n",
      "    '''O k-esimo passo na eliminacao de gauss'''\n",
      "    L=range(len(A))\n",
      "    for j in L[k+1:]:\n",
      "        m=-A[j,k]/A[k,k]\n",
      "        A=subs_linha(A,j,k,m)\n",
      "        A[j,k]=-m # Aproveitamos a matriz A pra guardar o multiplicador\n",
      "    return A\n",
      "\n",
      "# triangle form, without care and pivoting\n",
      "def triangle_form(A):\n",
      "    '''Retorna a matriz escalonada,\n",
      "    com os multiplicadores na parte triangular inferior'''\n",
      "    L=len(A)\n",
      "    for k in range(L-1):\n",
      "        p=pivo(A,k)\n",
      "        troca_linha(A,k,p)\n",
      "        gauss_step(A,k)\n",
      "     \n",
      "    return A\n",
      "   \n",
      "def pivo(A,n):\n",
      "    ''' retorna o indice de pivotacao da matriz A na coluna n,\n",
      "    a partir da linha n'''\n",
      "    tamanho = shape(A)\n",
      "    l=tamanho[0] # numero de linhas de A\n",
      "    c= tamanho[1] # numero de colunas\n",
      "    if (l<=n) or (c<=n):\n",
      "        raise ValueError(\"n deve ser menor que dimensao de A\")\n",
      "    p=n # inicio o pivo como n, e vou aumentando\n",
      "    for k in range(n,l):\n",
      "        if abs(A[k,n]) > abs(A[p,n]):\n",
      "            p=k\n",
      "    return p\n",
      "\n"
     ],
     "language": "python",
     "metadata": {},
     "outputs": [],
     "prompt_number": 43
    },
    {
     "cell_type": "code",
     "collapsed": false,
     "input": [
      "#Teste\n",
      "# do Backstep\n",
      "A=np.matrix([[1,2,3],[0,1,2],[0,0,3]])\n",
      "print(A)\n",
      "b=[1,2,3]\n",
      "x=BackStep(A,b)\n",
      "print(x)"
     ],
     "language": "python",
     "metadata": {},
     "outputs": [
      {
       "output_type": "stream",
       "stream": "stdout",
       "text": [
        "[[1 2 3]\n",
        " [0 1 2]\n",
        " [0 0 3]]\n",
        "[-2.  0.  1.]\n"
       ]
      }
     ],
     "prompt_number": 13
    },
    {
     "cell_type": "code",
     "collapsed": false,
     "input": [
      "# teste da fun\u00e7\u00e3o troca_linha\n",
      "A1=troca_linha(A,0,1)"
     ],
     "language": "python",
     "metadata": {},
     "outputs": [],
     "prompt_number": 16
    },
    {
     "cell_type": "code",
     "collapsed": false,
     "input": [
      "A1"
     ],
     "language": "python",
     "metadata": {},
     "outputs": [
      {
       "metadata": {},
       "output_type": "pyout",
       "prompt_number": 17,
       "text": [
        "matrix([[0, 1, 2],\n",
        "        [1, 2, 3],\n",
        "        [0, 0, 3]])"
       ]
      }
     ],
     "prompt_number": 17
    },
    {
     "cell_type": "code",
     "collapsed": false,
     "input": [
      "A"
     ],
     "language": "python",
     "metadata": {},
     "outputs": [
      {
       "metadata": {},
       "output_type": "pyout",
       "prompt_number": 18,
       "text": [
        "matrix([[0, 1, 2],\n",
        "        [1, 2, 3],\n",
        "        [0, 0, 3]])"
       ]
      }
     ],
     "prompt_number": 18
    },
    {
     "cell_type": "code",
     "collapsed": false,
     "input": [
      "A2 = troca_linha(A,1,2)"
     ],
     "language": "python",
     "metadata": {},
     "outputs": [],
     "prompt_number": 19
    },
    {
     "cell_type": "code",
     "collapsed": false,
     "input": [
      "A2"
     ],
     "language": "python",
     "metadata": {},
     "outputs": [
      {
       "metadata": {},
       "output_type": "pyout",
       "prompt_number": 20,
       "text": [
        "matrix([[0, 1, 2],\n",
        "        [0, 0, 3],\n",
        "        [1, 2, 3]])"
       ]
      }
     ],
     "prompt_number": 20
    },
    {
     "cell_type": "code",
     "collapsed": false,
     "input": [
      "A"
     ],
     "language": "python",
     "metadata": {},
     "outputs": [
      {
       "metadata": {},
       "output_type": "pyout",
       "prompt_number": 21,
       "text": [
        "matrix([[0, 1, 2],\n",
        "        [0, 0, 3],\n",
        "        [1, 2, 3]])"
       ]
      }
     ],
     "prompt_number": 21
    },
    {
     "cell_type": "code",
     "collapsed": false,
     "input": [
      "A3 = mult_linha(A,1,1/3)"
     ],
     "language": "python",
     "metadata": {},
     "outputs": [],
     "prompt_number": 22
    },
    {
     "cell_type": "code",
     "collapsed": false,
     "input": [
      "A3"
     ],
     "language": "python",
     "metadata": {},
     "outputs": [
      {
       "metadata": {},
       "output_type": "pyout",
       "prompt_number": 23,
       "text": [
        "matrix([[0, 1, 2],\n",
        "        [0, 0, 1],\n",
        "        [1, 2, 3]])"
       ]
      }
     ],
     "prompt_number": 23
    },
    {
     "cell_type": "code",
     "collapsed": false,
     "input": [
      "# teste da fun\u00e7\u00e3o de pivota\u00e7\u00e3o\n",
      "pivo(A,1)"
     ],
     "language": "python",
     "metadata": {},
     "outputs": [
      {
       "metadata": {},
       "output_type": "pyout",
       "prompt_number": 51,
       "text": [
        "2"
       ]
      }
     ],
     "prompt_number": 51
    },
    {
     "cell_type": "code",
     "collapsed": false,
     "input": [
      "#teste da fun\u00e7\u00e3o de triangulariza\u00e7\u00e3o\n",
      "triangle_form(A)"
     ],
     "language": "python",
     "metadata": {},
     "outputs": [
      {
       "metadata": {},
       "output_type": "pyout",
       "prompt_number": 55,
       "text": [
        "matrix([[1, 2, 3],\n",
        "        [0, 1, 2],\n",
        "        [0, 0, 1]])"
       ]
      }
     ],
     "prompt_number": 55
    },
    {
     "cell_type": "code",
     "collapsed": false,
     "input": [],
     "language": "python",
     "metadata": {},
     "outputs": []
    }
   ],
   "metadata": {}
  }
 ]
}