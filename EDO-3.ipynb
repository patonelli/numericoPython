{
 "metadata": {
  "kernelspec": {
   "codemirror_mode": {
    "name": "python",
    "version": 3
   },
   "display_name": "Python 3",
   "language": "python",
   "name": "python3"
  },
  "name": "",
  "signature": "sha256:03fda5e98a97527691563863d0d81a0ff815fa8dce809a2121fea9844ec9c58c"
 },
 "nbformat": 3,
 "nbformat_minor": 0,
 "worksheets": [
  {
   "cells": [
    {
     "cell_type": "markdown",
     "metadata": {},
     "source": [
      "# M\u00e9todo de Runge-Kutta\n",
      "Novamente olhamos o problema de Cauchy geral:\n",
      "$$ \\left\\{ \\begin{array}{l}\n",
      "\\dot{x} = f(x,t) \\\\\n",
      "x(t_0) = x_0 \\end{array}\\right.$$\n",
      "e $\\{t_0,\\dots t_n\\}$ um conjunto de n\u00f3s. O objetivo \u00e9 encontrar $\\{x_1,\\dots, x_n\\}$ que sejam boas estimativas de $x(t_i)$, onde $x(t) \\in \\mathbb{R}$ \u00e9 a solu\u00e7\u00e3o do problema de Cauchy. Vamos admitir tamb\u00e9m que $(t_{i+1} - t_i)=h$ \u00e9 o passo do m\u00e9todo."
     ]
    },
    {
     "cell_type": "markdown",
     "metadata": {},
     "source": [
      "## M\u00e9todos de um passo\n",
      "De uma forma geral, os m\u00e9todos de um passo s\u00e3o os que as estimativas $x_i$ depende diretamente s\u00f3 da estimativa $x_{i-1}$ e do tempo $t_i$ da seguinte forma:\n",
      "$$ x_{i+1} = x_{i} + h\\phi(x_{i},t_i;h) $$\n",
      "dependendo da fun\u00e7\u00e3o $\\phi$ o m\u00e9todo recebe um nome e tem propriedades de converg\u00eancia diferentes."
     ]
    },
    {
     "cell_type": "markdown",
     "metadata": {},
     "source": [
      "## M\u00e9todo de Runge-Kutta de quarta ordem\n",
      "O m\u00e9todo de Runge-Kutta mais popular \u00e9 aquele em que tomamos\n",
      "$$ \\phi(x_i,t_i,h) = \\frac{ k_1 + 2k_2 +2 k_3 +k_4}{6} $$\n",
      "onde\n",
      "$$ \\begin{gather}\n",
      "k_1 = f(x_i,t_i), \\\\\n",
      "k_2 = f(x_i + \\frac{h}{2}k_1, t_i+\\frac{h}{2}), \\\\\n",
      "k_3 = f(x_i + \\frac{h}{2}k_2, t_i+\\frac{h}{2}), \\\\\n",
      "k_4 = f(x_i + hk_3, t_i + h)\n",
      "\\end{gather}$$"
     ]
    },
    {
     "cell_type": "markdown",
     "metadata": {},
     "source": [
      "## Ordem de Converg\u00eancia\n",
      "\n",
      "Vamos dar uma id\u00e9ia porque dizemos que este m\u00e9todo tem ordem 4"
     ]
    },
    {
     "cell_type": "code",
     "collapsed": false,
     "input": [
      "def Runge_Kutta(f,x0,t0,tf, h=0.1):\n",
      "    ''' o f(x,t) \u00e9 o lado direito da equa\u00e7\u00e3o\n",
      "        o x0 \u00e9 a condi\u00e7\u00e3o inicial em t0\n",
      "        o RK4 acha a solu\u00e7\u00e3o no intervalo [t0,tf] '''\n",
      "    sol = []\n",
      "    x=x0\n",
      "    t=t0\n",
      "    sol.append(x)\n",
      "    while t+h <= tf:\n",
      "        k1 = f(x,t)\n",
      "        k2 = f(x+ h*k1/2,t+h/2)\n",
      "        k3 = f(x+h*k2/2, t+h/2)\n",
      "        k4 = f(x+h*k3, t+h)\n",
      "        x = x+ h*(k1+2*k2+2*k3+k4)/6\n",
      "        sol.append(x)\n",
      "        t=t+h\n",
      "    return sol\n",
      "        \n",
      "        "
     ],
     "language": "python",
     "metadata": {},
     "outputs": [],
     "prompt_number": 7
    },
    {
     "cell_type": "code",
     "collapsed": false,
     "input": [],
     "language": "python",
     "metadata": {},
     "outputs": []
    }
   ],
   "metadata": {}
  }
 ]
}