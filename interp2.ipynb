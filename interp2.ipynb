{
 "metadata": {
  "name": "",
  "signature": "sha256:86b7c913c700af0e60b9b2be51c96befe210be02f02aa1d75887ede916a58333"
 },
 "nbformat": 3,
 "nbformat_minor": 0,
 "worksheets": [
  {
   "cells": [
    {
     "cell_type": "markdown",
     "metadata": {},
     "source": [
      "# Polin\u00f4mio Interpolador na forma de Newton\n",
      "\n",
      "Vamos denotar por $T_{k} = \\{(x_0,y_0),\\dots,(x_k,y_k)\\}$ e por $T_{k+1} = T_k \\cup \\{(x_{k+1},y_{k+1})\\}$, e estudar como\n",
      "o polin\u00f4mio interpolador $p_{k+1}$ de $T_{k+1}$ depende do polin\u00f4mio $p_k$ que interpola $T_k$. \n",
      "Como $T_k$ \u00e9 uma parte de $T_{k+1}$, podemos escrever\n",
      "$$ p_{k+1}(x) = p_{k}(x) + D_{k+1}  (x-x_0)\\cdots (x-x_k)$$\n",
      "onde $D_k$ \u00e9 uma constante que \u00e9 determinada pela equa\u00e7\u00e3o\n",
      "$$ p_{k+1}(x_{k+1})=y_{k+1} = p_{k}(x_{k+1}) + D_{k+1}  (x_{k+1}-x_0)\\cdots (x_{k+1}-x_k)$$\n",
      "ou seja\n",
      "$$ D_{k+1} = \\frac{y_{k+1} - p_k(x_{k+1})}{(x_{k+1}-x_0)\\cdots (x_{k+1}-x_k)} $$\n",
      "e por recorr\u00eancia\n",
      "$$p_{k+1}(x)=y_0 + D_1(x-x_0)+D_2(x-x_0)(x-x_1)+\\cdots +D_{k+1}(x_{k+1}-x_0)\\cdots (x_{k+1}-x_k)$$\n"
     ]
    },
    {
     "cell_type": "markdown",
     "metadata": {},
     "source": [
      "## F\u00f3rmula para o c\u00e1lculo dos $D_k$ e diferen\u00e7as divididas.\n",
      "\n",
      "Na tabela $T_{k+1}$ vimos que o polin\u00f4mio interpolador pode se escrever como\n",
      "$$p_{k+1}(x) = p_k(x) + D_{k+1}(x-x_0)\\cdots (x-x_k)$$\n",
      "Como esta f\u00f3rmula vale, independentemente do valor de $k$, usando uma recurs\u00e3o temos \n",
      "$$ p_{k+1}(x) = y_0 + D_1(x-x_0)+ \\cdots + D_k(x-x_0)\\cdots (x-x_k) $$\n",
      "Note que cada termo $D_k$ depende dos valores de $x_0,\\dots x_k$ e $y_0, \\dots, y_k$. Para deixar claro esta depend\u00eancia escrevemos $D_k=[y_0,\\dots,y_k]$.\n",
      "Seja $q(x)$ o polin\u00f4mio interpolador da tabela $T_{k+1}^{-0}=\\{(x_1,y_1),\\dots,(x_{k+1},y_{k+1})\\}$.\n",
      "Podemos conferir que, em rela\u00e7\u00e3o a este polin\u00f4mio, temos que:\n",
      "$$ p_{k+1}(x) = q(x) + \\frac{(x-x_{k+1})}{(x_{k+1} -x_0)}(q(x)-p_k(x)) $$\n",
      "comparando os coeficientes de $x^{k+1}$ acima temos:\n",
      "$$ D_k = \\frac{[y_1,\\dots,y_{k+1}] - [y_0,\\dots,y_k]}{(x_{k+1} - x_0)}$$\n"
     ]
    },
    {
     "cell_type": "markdown",
     "metadata": {},
     "source": [
      "### Tabela de diferen\u00e7as divididas\n",
      "$$ \\begin{array}[c||ccccc]\\hline\n",
      "x_0 & y_0 & [y_0,y_1] & [y_0,y_1,y_3] & \\cdots & [y_0,\\dots,y_k] \\\\\n",
      "x_1 & y_1 & [y_1,y_2] & \\cdots & [y_1,\\dots,y_k] &   \\\\\n",
      "\\vdots & & & & & \\\\\n",
      "x_{k-1} & y_{k-1} & [y_{k-1},y_k] & & & \\\\\n",
      "x_{k} & y_k & & & &\n",
      "\\end{array} $$"
     ]
    },
    {
     "cell_type": "code",
     "collapsed": false,
     "input": [
      "# Dar a tabela de diferen\u00e7as divididas\n",
      "def difdiv(T):\n",
      "    ''' Da a tabela de diferen\u00e7as divididas de uma tabela T'''\n",
      "    return None"
     ],
     "language": "python",
     "metadata": {},
     "outputs": [],
     "prompt_number": 1
    },
    {
     "cell_type": "code",
     "collapsed": false,
     "input": [],
     "language": "python",
     "metadata": {},
     "outputs": []
    }
   ],
   "metadata": {}
  }
 ]
}