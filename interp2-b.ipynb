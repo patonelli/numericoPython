{
 "metadata": {
  "name": "",
  "signature": "sha256:eefda99d50c15f6a7c1cd78c51e05b59050f5f39804835b262b8a3255332415f"
 },
 "nbformat": 3,
 "nbformat_minor": 0,
 "worksheets": [
  {
   "cells": [
    {
     "cell_type": "markdown",
     "metadata": {},
     "source": [
      "## Polin\u00f4mio Interpolador na forma de Newton e diferen\u00e7as divididas\n",
      "Na tabela $T_{k+1}$ vimos que o polin\u00f4mio interpolador pode se escrever como\n",
      "$$p_{k+1}(x) = p_k(x) + D_{k+1}(x-x_0)\\cdots (x-x_k)$$\n",
      "Como esta f\u00f3rmula vale, independentemente do valor de $k$, usando uma recurs\u00e3o temos \n",
      "$$ p_{k+1}(x) = y_0 + D_1(x-x_0)+ \\cdots + D_k(x-x_0)\\cdots (x-x_k) $$\n",
      "Note que cada termo $D_k$ depende dos valores de $x_0,\\dots x_k$ e $y_0, \\dots, y_k$. Para deixar claro esta depend\u00eancia escrevemos $D_k=[y_0,\\dots,y_k]$.\n",
      "Seja $q(x)$ o polin\u00f4mio interpolador da tabela $T_{k+1}^{-0}=\\{(x_1,y_1),\\dots,(x_{k+1},y_{k+1})\\}$.\n",
      "Podemos conferir que, em rela\u00e7\u00e3o a este polin\u00f4mio, temos que:\n",
      "$$ p_{k+1}(x) = q(x) + \\frac{(x-x_{k+1})}{(x_{k+1} -x_0)}(q(x)-p_k(x)) $$\n",
      "comparando os coeficientes de $x^{k+1}$ acima temos:\n",
      "$$ D_k = \\frac{[y_1,\\dots,y_{k+1}] - [y_0,\\dots,y_k]}{(x_{k+1} - x_0)}$$\n"
     ]
    },
    {
     "cell_type": "markdown",
     "metadata": {},
     "source": [
      "### Tabela de diferen\u00e7as divididas\n",
      "$$ \\begin{array}[c|ccccc]\n",
      "x_0 & y_0 & [y_0,y_1] & [y_0,y_1,y_3] & \\cdots & [y_0,\\dots,y_k] \\\\\n",
      "x_1 & y_1 & [y_1,y_2] & \\cdots & [y_1,\\dots,y_k] &   \\\\\n",
      "\\vdots & & & & & \\\\\n",
      "x_{k-1} & y_{k-1} & [y_{k-1},y_k] & & & \\\\\n",
      "x_{k} & y_k & & & &\n",
      "\\end{array} $$"
     ]
    },
    {
     "cell_type": "code",
     "collapsed": false,
     "input": [],
     "language": "python",
     "metadata": {},
     "outputs": []
    }
   ],
   "metadata": {}
  }
 ]
}