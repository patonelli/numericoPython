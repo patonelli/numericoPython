{
 "cells": [
  {
   "cell_type": "markdown",
   "metadata": {},
   "source": [
    "# Exemplos do Método da Eliminação de Gauss\n",
    "\n",
    "Veremos como funciona o algoritmo nas situações mais simples, usando a pivotação para estabilizar os cálculos.\n",
    "\n",
    "## Um sistema simples $Ax=b$.\n",
    "Vamos considerar o exemplo simples:\n",
    "$$ \\begin{pmatrix}3 & 2& 1 \\\\\n",
    "1 & 4 & 2 \\\\\n",
    "6 & 1& 0 \n",
    "\\end{pmatrix}\\begin{pmatrix} x \\\\ y \\\\ z \\end{pmatrix}=\\begin{pmatrix} 1 \\\\ 2 \\\\ 1\\end{pmatrix}\n",
    "$$\n",
    "Para executar as operações elementares, consideremos as matrizes $A$ e $b$ agregadas da forma $[A|b]$. Aplica-se o algoritmo à matriz\n",
    "$$ \\begin{bmatrix}3 & 2& 1 & 1\\\\\n",
    "1 & 4 & 2& 2 \\\\\n",
    "6 & 1& 0 &1 \n",
    "\\end{bmatrix}$$\n",
    "\n",
    "1. Pivotação na coluna 1 transforma o sistema em: $$\\begin{bmatrix}6 & 1& 0 & 1\\\\ 1 & 4 & 2& 2 \\\\ 3 & 2& 1 &1  \\end{bmatrix}$$\n",
    "\n",
    "2. A seguir aplicamos o primeiro passo da eliminação de Gauss. Obtemos a matriz $$\\begin{bmatrix}6 & 1& 0 & 1\\\\ 0 & 3.833 & 2& 1.833 \\\\ 0 & 1.5& 1 &0.5  \\end{bmatrix}$$\n",
    "\n",
    "3. Agora novamente a pivotação e o segundo passo do método da eliminação temos a matriz $$\\begin{bmatrix}6 & 1& 0 & 1\\\\ 0 & 3.833 & 2& 1.833 \\\\ 0 & 0& 0.271 & -0.271 \\end{bmatrix}$$\n",
    "\n",
    "O sistema está escalonado e resolvemos com o algoritmo *BackStep* e a solução é $(0,1,-1)$.\n",
    "\n"
   ]
  },
  {
   "cell_type": "code",
   "execution_count": 16,
   "metadata": {
    "collapsed": false
   },
   "outputs": [],
   "source": [
    "import numpy as np\n",
    "# A is type array from numpy\n",
    "# remember: A[0.0] is the first element\n",
    "# Elementary row operations:\n",
    "\n",
    "def  TrocaLinha(A,i,j):\n",
    "    \"\"\"Troca as linhas i e j da matriz A\"\"\"\n",
    "    B=A.copy()\n",
    "    buffer = B[i].copy()\n",
    "    B[i] = B[j]\n",
    "    B[j] = buffer\n",
    "    return B\n",
    "\n",
    "\n",
    "def SubsLinha(A,i,k,alfa, j=0):\n",
    "    '''soma a linha i com um multiplo da linha k a partir da coluna j'''\n",
    "    B=A.copy()\n",
    "    L,C=shape(B)\n",
    "    B[i,j:C] = B[i,j:C] + alfa*B[k,j:C]\n",
    "    return B\n",
    "\n",
    "def BackStep(A,b):\n",
    "    \"\"\" Se a matriz for triangular superior resolve Ax=b \n",
    "    A é uma matriz triangular.\n",
    "    b é uma lista de números reais de mesma dimensão de A. \"\"\"\n",
    "    #i Vamos testar se A é TS e se a a diagonal não tem zero\n",
    "    # Esta parte consome muito tempo e não deve ser usada depois\n",
    "    #n = len(A)\n",
    "    #for i in range(n):\n",
    "    #    teste1 = A[i,i]==0\n",
    "    #    if i==n:\n",
    "    #        teste2 = False\n",
    "    #    else: teste2 = False in (A[i+1:n,i]==0)\n",
    "    #    if teste1 or teste2:\n",
    "    #        raise ValueError(\" Matriz A não pode ser parametro do BackStep \")\n",
    "    # Esta foi só a parte de teste.\n",
    "    n=shape(A)[0]\n",
    "    x=np.zeros(n)\n",
    "    k=n-1\n",
    "    while k>=0:\n",
    "        x[k] = (1/A[k,k])*(b[k]-sum([A[k,j]*x[j] for j in range(k+1,n)]))\n",
    "        k-=1\n",
    "    return x\n",
    "\n",
    "# step k of gauss elimination:\n",
    "def GaussStep(A,k):\n",
    "    '''O k-esimo passo na eliminacao de gauss'''\n",
    "    L=shape(A)[0] # numero de linhas da matriz A\n",
    "    B=A.copy()\n",
    "    for j in range(k+1,L):\n",
    "        m=-B[j,k]/B[k,k]\n",
    "        B=SubsLinha(B,j,k,m,k)\n",
    "        B[j,k]=-m # Aproveitamos a matriz A pra guardar o multiplicador(ta errado!_)\n",
    "    return B\n",
    "\n",
    "# triangle form, without care and pivoting\n",
    "def TriangleForm(A):\n",
    "    '''Retorna a matriz escalonada,\n",
    "    com os multiplicadores na parte triangular inferior'''\n",
    "    B=A.copy()\n",
    "    L=shape(B)[0] # numero de linhas = numero de incognitas\n",
    "    for k in range(L-1):\n",
    "        p=pivo(B,k)\n",
    "        B=TrocaLinha(B,k,p)\n",
    "        B = GaussStep(B,k)\n",
    "     \n",
    "    return B\n",
    "   \n",
    "def pivo(A,n):\n",
    "    ''' retorna o indice de pivotacao da matriz A na coluna n,\n",
    "    a partir da linha n'''\n",
    "    tamanho = shape(A)\n",
    "    l=tamanho[0] # numero de linhas de A\n",
    "    c= tamanho[1] # numero de colunas\n",
    "    if (l<=n) or (c<=n):\n",
    "        raise ValueError(\"n deve ser menor que dimensao de A\")\n",
    "    p=n # inicio o pivo como n, e vou aumentando\n",
    "    for k in range(n,l):\n",
    "        if abs(A[k,n]) > abs(A[p,n]):\n",
    "            p=k\n",
    "    return p"
   ]
  },
  {
   "cell_type": "code",
   "execution_count": 17,
   "metadata": {
    "collapsed": false
   },
   "outputs": [
    {
     "data": {
      "text/plain": [
       "array([[ 3.,  2.,  1.,  1.],\n",
       "       [ 1.,  4.,  2.,  2.],\n",
       "       [ 6.,  1.,  0.,  1.]])"
      ]
     },
     "execution_count": 17,
     "metadata": {},
     "output_type": "execute_result"
    }
   ],
   "source": [
    "A = np.array([[3.,2.,1.,1],[1,4,2,2],[6,1,0,1]])\n",
    "A"
   ]
  },
  {
   "cell_type": "code",
   "execution_count": 18,
   "metadata": {
    "collapsed": false
   },
   "outputs": [
    {
     "data": {
      "text/plain": [
       "array([[ 6.,  1.,  0.,  1.],\n",
       "       [ 1.,  4.,  2.,  2.],\n",
       "       [ 3.,  2.,  1.,  1.]])"
      ]
     },
     "execution_count": 18,
     "metadata": {},
     "output_type": "execute_result"
    }
   ],
   "source": [
    "A1 = TrocaLinha(A,0,pivo(A,0))\n",
    "A1\n",
    "        "
   ]
  },
  {
   "cell_type": "code",
   "execution_count": 19,
   "metadata": {
    "collapsed": false
   },
   "outputs": [
    {
     "data": {
      "text/plain": [
       "array([[ 6.        ,  1.        ,  0.        ,  1.        ],\n",
       "       [ 0.16666667,  3.83333333,  2.        ,  1.83333333],\n",
       "       [ 0.5       ,  1.5       ,  1.        ,  0.5       ]])"
      ]
     },
     "execution_count": 19,
     "metadata": {},
     "output_type": "execute_result"
    }
   ],
   "source": [
    "A2 = GaussStep(A1,0)\n",
    "A2"
   ]
  },
  {
   "cell_type": "code",
   "execution_count": 20,
   "metadata": {
    "collapsed": false
   },
   "outputs": [
    {
     "data": {
      "text/plain": [
       "array([[ 6.        ,  1.        ,  0.        ,  1.        ],\n",
       "       [ 0.16666667,  3.83333333,  2.        ,  1.83333333],\n",
       "       [ 0.5       ,  0.39130435,  0.2173913 , -0.2173913 ]])"
      ]
     },
     "execution_count": 20,
     "metadata": {},
     "output_type": "execute_result"
    }
   ],
   "source": [
    "A3 = GaussStep(A2,1)\n",
    "A3"
   ]
  },
  {
   "cell_type": "code",
   "execution_count": 21,
   "metadata": {
    "collapsed": false
   },
   "outputs": [
    {
     "data": {
      "text/plain": [
       "array([[ 6.        ,  1.        ,  0.        ],\n",
       "       [ 0.16666667,  3.83333333,  2.        ],\n",
       "       [ 0.5       ,  0.39130435,  0.2173913 ]])"
      ]
     },
     "execution_count": 21,
     "metadata": {},
     "output_type": "execute_result"
    }
   ],
   "source": [
    "A4= A3[:,0:3]\n",
    "A4"
   ]
  },
  {
   "cell_type": "code",
   "execution_count": 22,
   "metadata": {
    "collapsed": false
   },
   "outputs": [
    {
     "data": {
      "text/plain": [
       "array([ 1.        ,  1.83333333, -0.2173913 ])"
      ]
     },
     "execution_count": 22,
     "metadata": {},
     "output_type": "execute_result"
    }
   ],
   "source": [
    "B1= A3[:,3]\n",
    "B1"
   ]
  },
  {
   "cell_type": "code",
   "execution_count": 23,
   "metadata": {
    "collapsed": false
   },
   "outputs": [
    {
     "data": {
      "text/plain": [
       "array([  9.25185854e-17,   1.00000000e+00,  -1.00000000e+00])"
      ]
     },
     "execution_count": 23,
     "metadata": {},
     "output_type": "execute_result"
    }
   ],
   "source": [
    "x=BackStep(A4,B1)\n",
    "x"
   ]
  },
  {
   "cell_type": "code",
   "execution_count": 24,
   "metadata": {
    "collapsed": false
   },
   "outputs": [
    {
     "data": {
      "text/plain": [
       "array([[ 3.,  2.,  1.,  1.,  0.,  0.],\n",
       "       [ 1.,  4.,  2.,  0.,  1.,  0.],\n",
       "       [ 6.,  1.,  0.,  0.,  0.,  1.]])"
      ]
     },
     "execution_count": 24,
     "metadata": {},
     "output_type": "execute_result"
    }
   ],
   "source": [
    "# Inversão de matrizes\n",
    "S = np.array([[3.,2,1,1,0,0],[1,4,2,0,1,0],[6,1,0,0,0,1]])\n",
    "S"
   ]
  },
  {
   "cell_type": "code",
   "execution_count": 26,
   "metadata": {
    "collapsed": false
   },
   "outputs": [
    {
     "name": "stdout",
     "output_type": "stream",
     "text": [
      "[[ 6.          1.          0.          0.          0.          1.        ]\n",
      " [ 0.16666667  3.83333333  2.          0.          1.         -0.16666667]\n",
      " [ 0.5         0.39130435  0.2173913   1.         -0.39130435 -0.43478261]]\n"
     ]
    }
   ],
   "source": [
    "S1 = TriangleForm(S)\n",
    "print(S1)\n"
   ]
  },
  {
   "cell_type": "code",
   "execution_count": 27,
   "metadata": {
    "collapsed": false
   },
   "outputs": [
    {
     "data": {
      "text/plain": [
       "array([[ 6.        ,  1.        ,  0.        ],\n",
       "       [ 0.16666667,  3.83333333,  2.        ],\n",
       "       [ 0.5       ,  0.39130435,  0.2173913 ]])"
      ]
     },
     "execution_count": 27,
     "metadata": {},
     "output_type": "execute_result"
    }
   ],
   "source": [
    "Ac= S1[:,0:3]\n",
    "Ac"
   ]
  },
  {
   "cell_type": "code",
   "execution_count": 29,
   "metadata": {
    "collapsed": false
   },
   "outputs": [
    {
     "name": "stdout",
     "output_type": "stream",
     "text": [
      "[ 0.          1.         -0.39130435]\n"
     ]
    }
   ],
   "source": [
    "I1 = S1[:,3]\n",
    "I2 = S1[:,4]\n",
    "I3 = S1[:,5]\n",
    "print(I2)"
   ]
  },
  {
   "cell_type": "code",
   "execution_count": 30,
   "metadata": {
    "collapsed": false
   },
   "outputs": [],
   "source": [
    "X1 = BackStep(Ac,I1)\n",
    "X2 = BackStep(Ac,I2)\n",
    "X3 = BackStep(Ac,I3)"
   ]
  },
  {
   "cell_type": "code",
   "execution_count": 31,
   "metadata": {
    "collapsed": false
   },
   "outputs": [
    {
     "data": {
      "text/plain": [
       "array([ 0.4, -2.4,  4.6])"
      ]
     },
     "execution_count": 31,
     "metadata": {},
     "output_type": "execute_result"
    }
   ],
   "source": [
    "X1\n"
   ]
  },
  {
   "cell_type": "code",
   "execution_count": 32,
   "metadata": {
    "collapsed": false
   },
   "outputs": [],
   "source": [
    "Ain = np.array([X1,X2,X3])\n"
   ]
  },
  {
   "cell_type": "code",
   "execution_count": 33,
   "metadata": {
    "collapsed": false
   },
   "outputs": [
    {
     "data": {
      "text/plain": [
       "array([[  4.00000000e-01,  -2.40000000e+00,   4.60000000e+00],\n",
       "       [ -2.00000000e-01,   1.20000000e+00,  -1.80000000e+00],\n",
       "       [  3.70074342e-17,   1.00000000e+00,  -2.00000000e+00]])"
      ]
     },
     "execution_count": 33,
     "metadata": {},
     "output_type": "execute_result"
    }
   ],
   "source": [
    "Ain\n"
   ]
  },
  {
   "cell_type": "code",
   "execution_count": 35,
   "metadata": {
    "collapsed": false
   },
   "outputs": [
    {
     "data": {
      "text/plain": [
       "array([[  4.00000000e-01,  -2.00000000e-01,   3.70074342e-17],\n",
       "       [ -2.40000000e+00,   1.20000000e+00,   1.00000000e+00],\n",
       "       [  4.60000000e+00,  -1.80000000e+00,  -2.00000000e+00]])"
      ]
     },
     "execution_count": 35,
     "metadata": {},
     "output_type": "execute_result"
    }
   ],
   "source": [
    "Ain.T"
   ]
  },
  {
   "cell_type": "code",
   "execution_count": 36,
   "metadata": {
    "collapsed": false
   },
   "outputs": [
    {
     "data": {
      "text/plain": [
       "array([[ 3.,  2.,  1.,  1.],\n",
       "       [ 1.,  4.,  2.,  2.],\n",
       "       [ 6.,  1.,  0.,  1.]])"
      ]
     },
     "execution_count": 36,
     "metadata": {},
     "output_type": "execute_result"
    }
   ],
   "source": [
    "A"
   ]
  },
  {
   "cell_type": "code",
   "execution_count": 37,
   "metadata": {
    "collapsed": false
   },
   "outputs": [
    {
     "data": {
      "text/plain": [
       "array([[ 6.        ,  1.        ,  0.        ],\n",
       "       [ 0.16666667,  3.83333333,  2.        ],\n",
       "       [ 0.5       ,  0.39130435,  0.2173913 ]])"
      ]
     },
     "execution_count": 37,
     "metadata": {},
     "output_type": "execute_result"
    }
   ],
   "source": [
    "A4"
   ]
  },
  {
   "cell_type": "code",
   "execution_count": 38,
   "metadata": {
    "collapsed": false
   },
   "outputs": [
    {
     "data": {
      "text/plain": [
       "array([[ 3.,  2.,  1.],\n",
       "       [ 1.,  4.,  2.],\n",
       "       [ 6.,  1.,  0.]])"
      ]
     },
     "execution_count": 38,
     "metadata": {},
     "output_type": "execute_result"
    }
   ],
   "source": [
    "An = S[:,0:3]\n",
    "An"
   ]
  },
  {
   "cell_type": "code",
   "execution_count": 39,
   "metadata": {
    "collapsed": false
   },
   "outputs": [
    {
     "data": {
      "text/plain": [
       "array([[  1.20000000e+00,  -4.00000000e-01,   3.70074342e-17],\n",
       "       [ -2.40000000e+00,   4.80000000e+00,   2.00000000e+00],\n",
       "       [  2.76000000e+01,  -1.80000000e+00,  -0.00000000e+00]])"
      ]
     },
     "execution_count": 39,
     "metadata": {},
     "output_type": "execute_result"
    }
   ],
   "source": [
    "An*(Ain.T)"
   ]
  },
  {
   "cell_type": "code",
   "execution_count": 42,
   "metadata": {
    "collapsed": false
   },
   "outputs": [
    {
     "data": {
      "text/plain": [
       "array([[  4.00000000e-01,  -2.00000000e-01,   5.55111512e-17],\n",
       "       [ -2.40000000e+00,   1.20000000e+00,   1.00000000e+00],\n",
       "       [  4.60000000e+00,  -1.80000000e+00,  -2.00000000e+00]])"
      ]
     },
     "execution_count": 42,
     "metadata": {},
     "output_type": "execute_result"
    }
   ],
   "source": [
    "inv(An)\n",
    "\n"
   ]
  },
  {
   "cell_type": "code",
   "execution_count": 43,
   "metadata": {
    "collapsed": false
   },
   "outputs": [
    {
     "data": {
      "text/plain": [
       "array([[  1.20000000e+00,  -4.00000000e-01,   5.55111512e-17],\n",
       "       [ -2.40000000e+00,   4.80000000e+00,   2.00000000e+00],\n",
       "       [  2.76000000e+01,  -1.80000000e+00,  -0.00000000e+00]])"
      ]
     },
     "execution_count": 43,
     "metadata": {},
     "output_type": "execute_result"
    }
   ],
   "source": [
    "An*inv(An)"
   ]
  },
  {
   "cell_type": "code",
   "execution_count": null,
   "metadata": {
    "collapsed": false
   },
   "outputs": [],
   "source": []
  }
 ],
 "metadata": {
  "kernelspec": {
   "display_name": "Python 3",
   "language": "python",
   "name": "python3"
  },
  "language_info": {
   "codemirror_mode": {
    "name": "ipython",
    "version": 3
   },
   "file_extension": ".py",
   "mimetype": "text/x-python",
   "name": "python",
   "nbconvert_exporter": "python",
   "pygments_lexer": "ipython3",
   "version": "3.4.3"
  }
 },
 "nbformat": 4,
 "nbformat_minor": 0
}
