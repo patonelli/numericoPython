{
 "cells": [
  {
   "cell_type": "markdown",
   "metadata": {},
   "source": [
    "# Sistemas sobredeterminados e o MMQ\n",
    "Vamos considerar um sistema linear na forma matricial:\n",
    "$$ \\begin{pmatrix} a_{11} & \\cdots & a_{1n} \\\\ \\vdots & \\vdots & \\vdots \\\\ a_{k1} & \\cdots & a_{kn}\n",
    "\\end{pmatrix}\\begin{pmatrix}x_1 \\\\ \\vdots \\\\ x_n  \\end{pmatrix}=\\begin{pmatrix}y_1 \\\\ \\vdots \\\\ y_k \\end{pmatrix}$$ com $k>n$.\n",
    "\n",
    "O posto máximo da matriz $A$ é então $n$. Quer dizer a imagem da matriz $A$ é gerada pelas colunas\n",
    "de $A$. Observe que podemos escrever o produto acima como:\n",
    "$$\n",
    "x_1 \\begin{pmatrix}a_{11} \\\\ a_{21} \\\\ \\vdots \\\\ a_{k1} \\end{pmatrix} + \\cdots +x_n\\begin{pmatrix} a_{1n} \\\\ a_{2n} \\\\ \\vdots \\\\ a_{kn}\\end{pmatrix} = \\begin{pmatrix}y_1 \\\\ y_2 \\\\ \\vdots \\\\ y_k \\end{pmatrix}\n",
    "$$\n",
    "então variando os números $x_1,\\dots, x_n$ obtemos, no máximo, um subespaço de dimensão $n$ em $\\mathbb{R}^k$. A única forma de encontrarmos uma solução do sistema é se o vetor $\\mathbf{y}$ está no subespaço de dimensão $n$ mencionado. E se as colunas da matriz $A$ forem linearmente independentes a solução será única!"
   ]
  },
  {
   "cell_type": "markdown",
   "metadata": {},
   "source": [
    "## Exemplo\n",
    "Seja $A = \\begin{pmatrix} 1 & 1 \\\\ 1 & 0 \\\\ 0 & 1 \\end{pmatrix}$ o sistema \n",
    "$$ A\\begin{pmatrix} x \\\\ y \\end{pmatrix} = \\begin{pmatrix} 1 \\\\ 2 \\\\ -1 \\end{pmatrix}$$ tem uma única solução $(x,y)=(2,-1)$. enquanto o sistema \n",
    "$$ A\\begin{pmatrix} x \\\\ y \\end{pmatrix} = \\begin{pmatrix} 1 \\\\ 2 \\\\ 0 \\end{pmatrix}$$ não tem solução."
   ]
  },
  {
   "cell_type": "markdown",
   "metadata": {},
   "source": [
    "## Relação com MMQ\n",
    "Podemos aumentar o conceito de solução do sistema sobredeterminado, de forma a incluir o caso em que ele tem uma solução explícita. Dizemos que $\\mathbf{x}\\in \\mathbb{R}^n$ é solução do sistema sobredeterminado, $A\\mathbf{x}=\\mathbf{y}$, se $A\\mathbf{x}$ for o elemento do espaço vetorial gerado pelas colunas de $A$ que esteja mais próximo de $\\mathbf{y}$. E para medir a distância usamos:\n",
    "$$\\|A\\mathbf{x} -\\mathbf{y}\\|^2 = \\langle A\\mathbf{x} -\\mathbf{y},A\\mathbf{x} -\\mathbf{y}\\rangle $$\n",
    "Para facilitar a notação, vamos denotar as colunas da matriz $A$ como $\\mathbf{a}_i$, com $i\\in \\{1,\\dots,n\\}$. A solução do sistema sobredeterminada é a projeção ortogonal de $\\mathbf{y}$ no\n",
    "na imagem de $A$, e portanto se escreve $x_1\\mathbf{a}_1+ \\cdots + x_n\\mathbf{a}_n =\\sum_{i=1}^n x_i\\mathbf{a}_i$.\n",
    "\n",
    "Por ser projeção ortogonal devemos ter que $\\mathbf{y}-\\sum_{i=1}^nx_i\\mathbf{a}_i$ é ortogonal a cada $\\mathbf{a}_j$ para $j$ de $1$ a $n$. Assim devem estar satisfeitas as seguintes equações:\n",
    "$$ \\langle \\mathbf{y}-\\sum_{i=1}^nx_i\\mathbf{a}_i, \\mathbf{a}_j \\rangle =0 $$\n",
    "e usando a bilinearidade do produto escalar temos:\n",
    "$$ \\sum_{i=1}^n x_i \\langle, \\mathbf{a}_i,\\mathbf{a}_j\\rangle = \\langle \\mathbf{y},\\mathbf{a}_j \\rangle $$\n",
    "Este sistema linear é conhecido como o sistema normal do sistema sobredeterminado, e assim vemos a relação com o Método dos mínimos quadrados.\n"
   ]
  },
  {
   "cell_type": "markdown",
   "metadata": {},
   "source": [
    "**Exemplo:** vamos encontrar o sistema normal dos sistemas do exemplo anterior.\n",
    "Como a matriz $A$ nos dois casos é $A = \\begin{pmatrix} 1 & 1 \\\\ 1 & 0 \\\\ 0 & 1 \\end{pmatrix}$, temos que a matriz de coeficientes do sistema normal é:\n",
    "$$ N = \\begin{pmatrix}2 & 1 \\\\ 1 & 2 \\end{pmatrix} $$\n",
    "No primeiro caso o sistema normal é\n",
    "$$\\begin{pmatrix}2 & 1 \\\\ 1 & 2 \\end{pmatrix}\\begin{pmatrix}x_1 \\\\ x_2 \\end{pmatrix}=\\begin{pmatrix} 3 \\\\ 0 \\end{pmatrix}$$\n",
    "e no segundo caso:\n",
    "$$\\begin{pmatrix}2 & 1 \\\\ 1 & 2 \\end{pmatrix}\\begin{pmatrix}x_1 \\\\ x_2 \\end{pmatrix}=\\begin{pmatrix} 3 \\\\ 1 \\end{pmatrix}$$"
   ]
  },
  {
   "cell_type": "code",
   "execution_count": 1,
   "metadata": {
    "collapsed": false
   },
   "outputs": [],
   "source": [
    "import numpy as np\n",
    "def SistemaNormal(A,y):\n",
    "    '''Retorna os parametros do sistema normal de um sistema sobredeterminado.'''\n",
    "    k,n = np.shape(A)\n",
    "    N = np.array([[sum(A.T[i]*A.T[j]) for j in range(n)] for i in range(n)])\n",
    "    b = np.array([sum(A.T[i]*y) for i in range(n)])\n",
    "    return N,b"
   ]
  },
  {
   "cell_type": "code",
   "execution_count": 2,
   "metadata": {
    "collapsed": false
   },
   "outputs": [],
   "source": [
    "#teste\n",
    "A=np.array([[1,2,3,4,5],[2,3,4,5,6],[3,4,5,0,0]]).T\n",
    "y=np.array([1,0,1,0,1])"
   ]
  },
  {
   "cell_type": "code",
   "execution_count": 3,
   "metadata": {
    "collapsed": false
   },
   "outputs": [],
   "source": [
    "N,u = SistemaNormal(A,y)"
   ]
  },
  {
   "cell_type": "code",
   "execution_count": 4,
   "metadata": {
    "collapsed": false
   },
   "outputs": [
    {
     "data": {
      "text/plain": [
       "array([[55, 70, 26],\n",
       "       [70, 90, 38],\n",
       "       [26, 38, 50]])"
      ]
     },
     "execution_count": 4,
     "metadata": {},
     "output_type": "execute_result"
    }
   ],
   "source": [
    "N"
   ]
  },
  {
   "cell_type": "code",
   "execution_count": 5,
   "metadata": {
    "collapsed": false
   },
   "outputs": [
    {
     "data": {
      "text/plain": [
       "array([ 9, 12,  8])"
      ]
     },
     "execution_count": 5,
     "metadata": {},
     "output_type": "execute_result"
    }
   ],
   "source": [
    "u"
   ]
  },
  {
   "cell_type": "code",
   "execution_count": null,
   "metadata": {
    "collapsed": false
   },
   "outputs": [],
   "source": []
  }
 ],
 "metadata": {
  "kernelspec": {
   "display_name": "Python 3",
   "language": "python",
   "name": "python3"
  },
  "language_info": {
   "codemirror_mode": {
    "name": "ipython",
    "version": 3
   },
   "file_extension": ".py",
   "mimetype": "text/x-python",
   "name": "python",
   "nbconvert_exporter": "python",
   "pygments_lexer": "ipython3",
   "version": "3.4.3"
  }
 },
 "nbformat": 4,
 "nbformat_minor": 0
}
