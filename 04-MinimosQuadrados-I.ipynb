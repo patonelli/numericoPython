{
 "metadata": {
  "name": ""
 },
 "nbformat": 3,
 "nbformat_minor": 0,
 "worksheets": [
  {
   "cells": [
    {
     "cell_type": "markdown",
     "metadata": {},
     "source": [
      "# M\u00ednimos quadrados\n",
      "\n",
      "## Ajuste de uma reta por uma tabela de pontos.\n",
      "\n",
      "Uma *tabela de pontos regular* \u00e9 um subconjunto finito de $\\mathbb{R}^2$, $\\mathbf{T}=\\{ (x_0,y_0),\\cdots,(x_n,y_n)\\}$ tal que $x_i \\neq x_j$ se $i\\neq j$. O problema que queremos resolver \u00e9 os seguinte:\n",
      "Qual \u00e9 a reta $y=ax+b$ que melhor aproxima uma dada tabela de pontos?\n",
      "\n",
      "Para resolver este problema \u00e9 preciso especificar de que maneira iremos medir a \"proximidade\" entre a reta e\n",
      "a tabela. Existem v\u00e1rias alternativas para esta medida, mas uma das mais usadas \u00e9 o *res\u00edduo quadr\u00e1tico*.\n",
      "Se $\\mathbf{T}$ \u00e9 uma tabela de pontos regular, e $f: I \\to \\mathbb{R}$ \u00e9 uma fun\u00e7\u00e3o de um intervalo $I$, que cont\u00e9m as coordenadas $x_i$ da tabela, o res\u00edduo quadr\u00e1tico de $f$ em rela\u00e7\u00e3o a $\\mathbf{T}$ \u00e9 o n\u00famero\n",
      "$$ \\text{Res}(f,\\mathbf{T}) = \\sum_{i=0}^{n}(f(x_i)-y_i)^2$$\n",
      "No caso do ajuste de uma reta temos que a fun\u00e7\u00e3o em quest\u00e3o \u00e9 $f(x) = ax+b$, que depende s\u00f3 de dois par\u00e2metros: $a$ e $b$. O res\u00edduo quadr\u00e1tico neste caso \u00e9:\n",
      "$$ \\text{Res}(a,b,\\mathbf{T}) = \\sum_{i=0}^{n}(ax_i +b-y_i)^2 $$\n",
      "A reformula\u00e7\u00e3o matem\u00e1tica do nosso problema original fica:\n",
      "\n",
      "* Encontrar os valores de $a$ e $b$ que minimizem o res\u00edduo quadr\u00e1tico\n"
     ]
    },
    {
     "cell_type": "markdown",
     "metadata": {},
     "source": [
      "## Equa\u00e7\u00e3o normal neste caso\n",
      "Vamos calcular os pontos cr\u00edticos de $\\text{Res}(a,b,\\mathbf{T})$ resolvendo as equa\u00e7\u00f5es:\n",
      "$$\\begin{eqnarray}\n",
      "\\frac{\\partial \\text{Res}(a,b,\\mathbf{T})}{\\partial a} & = & 0 \\\\\n",
      "\\frac{\\partial \\text{Res}(a,b,\\mathbf{T})}{\\partial b} & = & 0 \n",
      "\\end{eqnarray}$$\n",
      "obtemos os sistema linear:\n",
      "$$\\begin{eqnarray}\n",
      "a \\sum_{i=0}^n x_i^2 + b \\sum_{i=0}^n x_i& = & \\sum_{i=0}^nx_iy_i \\\\\n",
      "a\\sum_{i=0}^n x_i + b(n+1)  & = & \\sum_{i=0}^n y_i\n",
      "\\end{eqnarray}$$\n",
      "Este \u00e9 o chamado *sistema normal* para a solu\u00e7\u00e3o de nosso problema. Neste caso a solu\u00e7\u00e3o pode ser calculada\n",
      "explicitamente:\n",
      "$$ a = \\frac{(\\sum_{i=0}^n x_iy_i)(n+1) - (\\sum_{i=0}^n x_i)(\\sum_{i=0}^n y_i)}{(\\sum_{i=0}^n x_i^2)(n+1)-(\\sum_{i=0}^n x_i)^2} $$\n",
      "\n",
      "$$ b = \\frac{(\\sum_{i=0}^n x_i^2)(\\sum_{i=0}^n y_i)-(\\sum_{i=0}^n x_iy_i)(\\sum_{i=0}^n x_i)}{(\\sum_{i=0}^n x_i^2)(n+1)-(\\sum_{i=0}^n x_i)^2}$$ "
     ]
    },
    {
     "cell_type": "code",
     "collapsed": false,
     "input": [
      "# exemplo do ajuste de reta\n",
      "import numpy as np\n",
      "def AjusteReta(T):\n",
      "    \"\"\" Acha os parametros a,b da reta ax+b que melhor aproxima a tabela T pelo MMQ \"\"\"\n",
      "    Npontos = len(T) # numero de pontos da tabela\n",
      "    X = np.array([p[0] for p in T])\n",
      "    Y = np.array([p[1] for p in T])\n",
      "    a = (Npontos*sum(Y*X)-sum(X)*sum(Y))/(sum(X*X)*Npontos-(sum(X))**2)\n",
      "    b = (sum(X*X)*sum(Y)-sum(X*Y)*sum(X))/(sum(X*X)*Npontos-(sum(X))**2)\n",
      "    return a,b"
     ],
     "language": "python",
     "metadata": {},
     "outputs": [],
     "prompt_number": 1
    },
    {
     "cell_type": "code",
     "collapsed": false,
     "input": [
      "#Exemplo\n",
      "T=[(0,1),(1,2),(2,3),(3,4)]\n",
      "a,b = AjusteReta(T)"
     ],
     "language": "python",
     "metadata": {},
     "outputs": [],
     "prompt_number": 2
    },
    {
     "cell_type": "code",
     "collapsed": false,
     "input": [
      "r = lambda x : a*x + b\n",
      "r(0.)"
     ],
     "language": "python",
     "metadata": {},
     "outputs": [
      {
       "metadata": {},
       "output_type": "pyout",
       "prompt_number": 3,
       "text": [
        "1.0"
       ]
      }
     ],
     "prompt_number": 3
    },
    {
     "cell_type": "code",
     "collapsed": false,
     "input": [
      "r(1.)"
     ],
     "language": "python",
     "metadata": {},
     "outputs": [
      {
       "metadata": {},
       "output_type": "pyout",
       "prompt_number": 4,
       "text": [
        "2.0"
       ]
      }
     ],
     "prompt_number": 4
    },
    {
     "cell_type": "code",
     "collapsed": false,
     "input": [
      "r(3)"
     ],
     "language": "python",
     "metadata": {},
     "outputs": [
      {
       "metadata": {},
       "output_type": "pyout",
       "prompt_number": 5,
       "text": [
        "4.0"
       ]
      }
     ],
     "prompt_number": 5
    },
    {
     "cell_type": "code",
     "collapsed": false,
     "input": [
      "%matplotlib inline\n",
      "from matplotlib.pyplot import plot\n",
      "x=np.linspace(0,3,100)\n",
      "plot(x,r(x))\n",
      "for p in T:\n",
      "    print(p)"
     ],
     "language": "python",
     "metadata": {},
     "outputs": [
      {
       "output_type": "stream",
       "stream": "stdout",
       "text": [
        "(0, 1)\n",
        "(1, 2)\n",
        "(2, 3)\n",
        "(3, 4)\n"
       ]
      },
      {
       "metadata": {},
       "output_type": "display_data",
       "png": "[encoded data removed]",
       "text": [
        "<matplotlib.figure.Figure at 0xb1f4e28c>"
       ]
      }
     ],
     "prompt_number": 6
    },
    {
     "cell_type": "code",
     "collapsed": false,
     "input": [
      "T"
     ],
     "language": "python",
     "metadata": {},
     "outputs": [
      {
       "metadata": {},
       "output_type": "pyout",
       "prompt_number": 7,
       "text": [
        "[(0, 1), (1, 2), (2, 3), (3, 4)]"
       ]
      }
     ],
     "prompt_number": 7
    },
    {
     "cell_type": "code",
     "collapsed": false,
     "input": [
      "%pastebin \"04-MinimosQuadrados-I.ipynb\"\n"
     ],
     "language": "python",
     "metadata": {},
     "outputs": [
      {
       "metadata": {},
       "output_type": "pyout",
       "prompt_number": 8,
       "text": [
        "'https://gist.github.com/9933612'"
       ]
      }
     ],
     "prompt_number": 8
    },
    {
     "cell_type": "code",
     "collapsed": false,
     "input": [],
     "language": "python",
     "metadata": {},
     "outputs": []
    }
   ],
   "metadata": {}
  }
 ]
}