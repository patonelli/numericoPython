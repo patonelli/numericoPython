{
 "metadata": {
  "name": ""
 },
 "nbformat": 3,
 "nbformat_minor": 0,
 "worksheets": [
  {
   "cells": [
    {
     "cell_type": "markdown",
     "metadata": {},
     "source": [
      "Alguns exemplos interessantes:\n",
      "=====\n",
      "\n",
      "C\u00e1lculo da raiz quadrada\n",
      "----\n",
      "\n",
      "Primeiro uma forma de calcular a raiz quadrada de um n\u00famero $M$ usando o m\u00e9todo de Newton. Neste caso queremos encontrar a raiz positiva da equa\u00e7\u00e3o\n",
      "$$ x^2 -M =0 $$\n",
      "Fazendo $f(x) = x^2 - M$ e usando o m\u00e9todo de Newton para achar o zero desta fun\u00e7\u00e3o obtemos a sequ\u00eancia:\n",
      "$$ x_{n+1} = \\frac{1}{2}\\left(x_n +\\frac{M}{x_n}\\right)$$"
     ]
    },
    {
     "cell_type": "markdown",
     "metadata": {},
     "source": [
      "Quando o m\u00e9todo de Newton falha\n",
      "----\n",
      "a fun\u00e7\u00e3o $f(x) = \\text{sgn}(x-1)\\sqrt{(x-1)}$ tem, evidentemente uma \u00fanica raiz em $r=1.0$ e \u00e9 deriv\u00e1vel em todos os pontos diferentes de $1.0$. A sequ\u00eancia produzida pelo m\u00e9todo de Newton \u00e9:\n",
      "$$ x_{n+1} = -x_n + 2 $$\n",
      "Note que $x_{n+2} = -(x_{n+1})+2 = x_n -2 +2 = x_n$. A sequ\u00eancia tem per\u00edodo $2$, portanto n\u00e3o converge.\n",
      "Faremos o grafico desta fun\u00e7\u00e3o."
     ]
    },
    {
     "cell_type": "code",
     "collapsed": false,
     "input": [
      "%matplotlib inline \n",
      "from matplotlib.pyplot import plot # gosto de usar a fun\u00e7\u00e3o plot\n",
      "import numpy as np\n",
      "x=np.arange(0,2,0.001)\n",
      "# defino a fun\u00e7\u00e3o:\n",
      "def f(x):\n",
      "    return np.sign(x-1)*sqrt(abs(x-1))\n",
      "plot(x,f(x))\n",
      "grid()"
     ],
     "language": "python",
     "metadata": {},
     "outputs": [
      {
       "metadata": {},
       "output_type": "display_data",
       "png": "[encoded data removed]",
       "text": [
        "<matplotlib.figure.Figure at 0xb1594a2c>"
       ]
      }
     ],
     "prompt_number": 18
    },
    {
     "cell_type": "markdown",
     "metadata": {},
     "source": [
      "M\u00e9todo dos pontos fixos\n",
      "====\n",
      "\n",
      "O m\u00e9todo de Newton \u00e9, em geral, bastante eficiente e utilizado. Al\u00e9m disso \u00e9 um caso especial de uma fam\u00edlia de m\u00e9todos para se encontrar o zero de uma fun\u00e7\u00e3o chamado m\u00e9todo do ponto fixo.\n",
      "Seja $\\Phi:[a,b] \\to \\mathbb{R}$ uma fun\u00e7\u00e3o. Um ponto $x_f\\in [a,b]$ ser\u00e1 chamado de *ponto fixo* de $\\Phi$ se ele satisfaz $\\Phi(x_f) = x_f$. Note que se a fun\u00e7\u00e3o $\\Phi : [a,b] \\to [a,b]$ puder ser iterada (composta com ela mesma), ent\u00e3o $\\Phi(\\Phi(x_f))= \\Phi(x_f) = x_f$. De forma geral $\\Phi^n(x_f)=x_f$. Desta forma, se\n",
      "definirmos a sequ\u00eancia $x_n = \\Phi^n(x_0)$, para algum $x_0\\in [a,b]$ e $\\Phi$ cont\u00ednua, e ela convergir para algum ponto $x_f$, este ser\u00e1 um ponto fixo de $\\Phi$. "
     ]
    },
    {
     "cell_type": "markdown",
     "metadata": {},
     "source": [
      "Quando a sequ\u00eancia $\\Phi^n(x_0)$ converge\n",
      "----\n",
      "Suponha que valham as seguintes hip\u00f3teses:\n",
      "\n",
      "* $\\Phi: [a,b] \\to [a,b]$ seja uma fun\u00e7\u00e3o de classe $\\mathcal{C}^1([a,b])$.\n",
      "* $|\\Phi^\\prime(x)|\\leq \\lambda \\lt 1$ para todo $x \\in [a,b]$\n",
      "\n",
      "Neste caso a sequ\u00eancia $x_n = \\Phi^n(x0)$ converge para um \u00fanico ponto $x_f$ em $[a,b]$, para qualquer $x_0$."
     ]
    },
    {
     "cell_type": "markdown",
     "metadata": {},
     "source": [
      "<h4>Esbo\u00e7o da prova</h4>\n",
      "\n",
      "* Como $\\Phi(x) \\in [a,b]$ existe pelo menos um ponto fixo em $[a,b]$\n",
      "* Se $x_f$ e $x_g$ s\u00e3o diferentes pontos fixos temos pelo TVM $|\\Phi(x_f)-\\Phi(x_g)| \\leq \\lambda |x_f-x_g|$. Como $\\lambda \\lt 1$ isto n\u00e3o pode acontecer.\n",
      "* Seja um $x_0$ qualquer, e $x_n=\\Phi^n(x_0)$. Temos $|x_n-x_f|= |\\Phi(x_{n-1})-\\Phi(x_f)| \\leq \\lambda|x_{n-1}-x_f|$. Da\u00ed $|x_n-x_f| \\leq \\lambda^n|x0-x_f|$.\n"
     ]
    },
    {
     "cell_type": "code",
     "collapsed": false,
     "input": [
      "def PontoFixo(phi,x0,epsilon,N):\n",
      "    \"\"\"Procura um ponto fixo da fun\u00e7\u00e3o Phi por itera\u00e7\u00e3o.\n",
      "       o- come\u00e7a em x0\n",
      "       o- com precisao |xnew-xold| menor que epsilon\n",
      "       o- para depois de N itera\u00e7\u00f5es\"\"\"\n",
      "    xnew = phi(x0)\n",
      "    xold = x0\n",
      "    iteracao = 0\n",
      "    while (iteracao <= N) and (abs(xnew-xold)>epsilon):\n",
      "        xnew, xold = phi(xnew), xnew\n",
      "        iteracao = iteracao + 1 \n",
      "        print(\"{0:>3} | {1} \".format(iteracao,xnew))\n",
      "    return xnew"
     ],
     "language": "python",
     "metadata": {},
     "outputs": [],
     "prompt_number": 10
    },
    {
     "cell_type": "code",
     "collapsed": false,
     "input": [
      "f = lambda x : 0.5*(x+2./x)"
     ],
     "language": "python",
     "metadata": {},
     "outputs": [],
     "prompt_number": 11
    },
    {
     "cell_type": "code",
     "collapsed": false,
     "input": [
      "f(1.42)"
     ],
     "language": "python",
     "metadata": {},
     "outputs": [
      {
       "metadata": {},
       "output_type": "pyout",
       "prompt_number": 8,
       "text": [
        "1.414225352112676"
       ]
      }
     ],
     "prompt_number": 8
    },
    {
     "cell_type": "code",
     "collapsed": false,
     "input": [
      "PontoFixo(f,3, 0.00001,10)"
     ],
     "language": "python",
     "metadata": {},
     "outputs": [
      {
       "output_type": "stream",
       "stream": "stdout",
       "text": [
        "  1 | 1.4621212121212122 \n",
        "  2 | 1.414998429894803 \n",
        "  3 | 1.4142137800471977 \n",
        "  4 | 1.4142135623731118 \n"
       ]
      },
      {
       "metadata": {},
       "output_type": "pyout",
       "prompt_number": 17,
       "text": [
        "1.4142135623731118"
       ]
      }
     ],
     "prompt_number": 17
    },
    {
     "cell_type": "code",
     "collapsed": false,
     "input": [],
     "language": "python",
     "metadata": {},
     "outputs": []
    }
   ],
   "metadata": {}
  }
 ]
}