{
 "metadata": {
  "kernelspec": {
   "codemirror_mode": {
    "name": "ipython",
    "version": 3
   },
   "display_name": "IPython (Python 3)",
   "language": "python",
   "name": "python3"
  },
  "name": "",
  "signature": "sha256:62e9d0781200caf628f006949846710ba1c131c111bbc319647542897b001134"
 },
 "nbformat": 3,
 "nbformat_minor": 0,
 "worksheets": [
  {
   "cells": [
    {
     "cell_type": "markdown",
     "metadata": {},
     "source": [
      "## Erros na f\u00f3rmula de integra\u00e7\u00e3o:\n",
      "Seja $p_1(x)$ o polin\u00f4mio interpolador de $\\{(x_0,f_0),(x_1,f_1)\\}$, ent\u00e3o, usando a f\u00f3rmula do erro do polin\u00f4mio interpolador temos $f(x)-p_1(x) = \\dfrac{f^{\\prime\\prime}(\\xi_x)}{2}(x-x_0)(x-x_1)$ de onde temos:\n",
      "$$\\int_{x_0}^{x_1}f(x)dx- \\mathcal{T}_1(f) = \\int_{x_0}^{x_1} \\dfrac{f^{\\prime\\prime}(\\xi_1)}{2}(x-x_0)(x-x_1)dx = -\\dfrac{f^{\\prime\\prime}(\\xi)}{12}(x_1-x_0)^3 $$\n",
      "### Erros na f\u00f3rmulas com repeti\u00e7\u00e3o\n",
      "No m\u00e9todo dos trap\u00e9zios com $n$ repeti\u00e7\u00f5es a f\u00f3rmula fica , definindo $h = \\dfrac{(x_n -x_0)}{n}$\n",
      "$$\\int_{x_0}^{x_n}f(x)dx- \\mathcal{T}_n(f) = -\\dfrac{f^{\\prime\\prime}(\\xi_n)}{12}h^2(x_n-x_0) $$"
     ]
    },
    {
     "cell_type": "markdown",
     "metadata": {},
     "source": [
      "### Erros na f\u00f3rmula de Simpson simples\n",
      "\n",
      "$$\\int_{x_0}^{x_2}f(x)dx- \\mathcal{S}_1(f) = -\\dfrac{ -h^4(x_2-x_0)}{180}f^{(4)}(\\xi_1) $$\n",
      "com $\\xi_1 \\in [x_0,x_2]$ e $h=(x_2-x_0)/2$.\n",
      "\n",
      "### Erros na f\u00f3rmula de Simpson com $n$ repeti\u00e7\u00f5es\n",
      "\n",
      "$$\\int_{x_0}^{x_{2_n}}f(x)dx- \\mathcal{S}_n(f) = -\\dfrac{ -h^4(x_{2n}-x_0)}{180}f^{(4)}(\\xi_n) $$\n",
      "com $\\xi_n \\in [a,b]$ e $h=(x_{2n}-x_0)/2n$\n",
      "\n",
      "#### Observa\u00e7\u00e3o:\n",
      "Note que na f\u00f3rmula do erro no m\u00e9todo de Simpson h\u00e1 um fator multiplicador, que \u00e9 a quarta derivada da fun\u00e7\u00e3o $f(x)$. Se esta fun\u00e7\u00e3o for um polin\u00f4mio de grau menor ou igual a tr\u00eas, o erro ser\u00e1 nulo e a integral num\u00e9rica \u00e9 exata!"
     ]
    },
    {
     "cell_type": "markdown",
     "metadata": {},
     "source": []
    }
   ],
   "metadata": {}
  }
 ]
}