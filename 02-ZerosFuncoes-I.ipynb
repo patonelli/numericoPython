{
 "metadata": {
  "name": ""
 },
 "nbformat": 3,
 "nbformat_minor": 0,
 "worksheets": [
  {
   "cells": [
    {
     "cell_type": "markdown",
     "metadata": {},
     "source": [
      "Solu\u00e7\u00f5es de equa\u00e7\u00f5es n\u00e3o lineares\n",
      "====\n",
      "Dada uma fun\u00e7\u00e3o $f:I\\to \\mathbb{R}$ cont\u00ednua, queremos encontrar um elemento $x\\in I$ tal que $f(x)=0$.\n",
      "Se encontramos $a,b$ tais que $f(a)f(b)\\lt 0$, podemos garantir a exist\u00eancia de, pelo menos, uma raiz da equa\u00e7\u00e3o (por causa da continuidade). Determinar um intervalo onde exista uma \u00fanica raiz n\u00e3o \u00e9 t\u00e3o simples e requer mais regularidade da fun\u00e7\u00e3o $f$. "
     ]
    },
    {
     "cell_type": "markdown",
     "metadata": {},
     "source": [
      "O m\u00e9todo da dicotomia\n",
      "----\n",
      "\n",
      "O algoritmo mais simples para se encontrar esta solu\u00e7\u00e3o \u00e9 ir repartindo o intervalo ao meio. Testando de que lado est\u00e1 a raiz, e repetir o processo at\u00e9 que o tamanho do intervalo. Podemos descrever este algoritmo assim:\n",
      "\n",
      "* Passo 1: Temos o intervalo $[a,b]$ com $f(a)f(b) \\lt 0$ fazemos $x_1= (a+b)/2$. Se $|f(x_1)|\\lt \\varepsilon$, encontramos uma boa aproxima\u00e7\u00e3o. Sen\u00e3o repetimos este passo em $[a,x_1]$ se $f(a)f(x_1) \\lt 0$ ou em $[x_1,b]$ caso contr\u00e1rio.\n",
      "\n",
      "O algoritmo em python pode ser:\n"
     ]
    },
    {
     "cell_type": "code",
     "collapsed": false,
     "input": [
      "def dicotomia(f,a,b,n):\n",
      "    \"\"\" Calcula a raiz de f(x)=0 usando o m\u00e9todo da dicotomia\n",
      "    a: inicio do intervalo\n",
      "    b: fim do intervalo\n",
      "    n: numero de itera\u00e7\u00f5es \"\"\"\n",
      "    # por uma mensagem de erro depois se f(a)*f(b)>=0\n",
      "    if f(a)*f(b)>= 0:\n",
      "        raise ValueError( \"f(a) e f(b) t\u00eam mesmo sinal\" ) \n",
      "    raiz = (a+b)/2\n",
      "    for i in range(n):\n",
      "        if f(a)*f(raiz) < 0:\n",
      "            a,b = a,raiz\n",
      "        else : a,b = raiz,b\n",
      "        raiz =(a+b)/2\n",
      "    return raiz"
     ],
     "language": "python",
     "metadata": {},
     "outputs": [],
     "prompt_number": 1
    },
    {
     "cell_type": "code",
     "collapsed": false,
     "input": [
      "f = lambda x : (x-1)**3\n",
      "print(f(0),f(5))"
     ],
     "language": "python",
     "metadata": {},
     "outputs": [
      {
       "output_type": "stream",
       "stream": "stdout",
       "text": [
        "-1 64\n"
       ]
      }
     ],
     "prompt_number": 2
    },
    {
     "cell_type": "code",
     "collapsed": false,
     "input": [
      "dicotomia(f,0,5, 10)"
     ],
     "language": "python",
     "metadata": {},
     "outputs": [
      {
       "metadata": {},
       "output_type": "pyout",
       "prompt_number": 3,
       "text": [
        "0.99853515625"
       ]
      }
     ],
     "prompt_number": 3
    },
    {
     "cell_type": "code",
     "collapsed": false,
     "input": [
      "dicotomia(f,2,4,10)"
     ],
     "language": "python",
     "metadata": {},
     "outputs": [
      {
       "ename": "ValueError",
       "evalue": "f(a) e f(b) t\u00eam mesmo sinal",
       "output_type": "pyerr",
       "traceback": [
        "\u001b[1;31m---------------------------------------------------------------------------\u001b[0m\n\u001b[1;31mValueError\u001b[0m                                Traceback (most recent call last)",
        "\u001b[1;32m<ipython-input-4-584a7602291b>\u001b[0m in \u001b[0;36m<module>\u001b[1;34m()\u001b[0m\n\u001b[1;32m----> 1\u001b[1;33m \u001b[0mdicotomia\u001b[0m\u001b[1;33m(\u001b[0m\u001b[0mf\u001b[0m\u001b[1;33m,\u001b[0m\u001b[1;36m2\u001b[0m\u001b[1;33m,\u001b[0m\u001b[1;36m4\u001b[0m\u001b[1;33m,\u001b[0m\u001b[1;36m10\u001b[0m\u001b[1;33m)\u001b[0m\u001b[1;33m\u001b[0m\u001b[0m\n\u001b[0m",
        "\u001b[1;32m<ipython-input-1-294d71ef7606>\u001b[0m in \u001b[0;36mdicotomia\u001b[1;34m(f, a, b, n)\u001b[0m\n\u001b[0;32m      6\u001b[0m     \u001b[1;31m# por uma mensagem de erro depois se f(a)*f(b)>=0\u001b[0m\u001b[1;33m\u001b[0m\u001b[1;33m\u001b[0m\u001b[0m\n\u001b[0;32m      7\u001b[0m     \u001b[1;32mif\u001b[0m \u001b[0mf\u001b[0m\u001b[1;33m(\u001b[0m\u001b[0ma\u001b[0m\u001b[1;33m)\u001b[0m\u001b[1;33m*\u001b[0m\u001b[0mf\u001b[0m\u001b[1;33m(\u001b[0m\u001b[0mb\u001b[0m\u001b[1;33m)\u001b[0m\u001b[1;33m>=\u001b[0m \u001b[1;36m0\u001b[0m\u001b[1;33m:\u001b[0m\u001b[1;33m\u001b[0m\u001b[0m\n\u001b[1;32m----> 8\u001b[1;33m         \u001b[1;32mraise\u001b[0m \u001b[0mValueError\u001b[0m\u001b[1;33m(\u001b[0m \u001b[1;34m\"f(a) e f(b) t\u00eam mesmo sinal\"\u001b[0m \u001b[1;33m)\u001b[0m\u001b[1;33m\u001b[0m\u001b[0m\n\u001b[0m\u001b[0;32m      9\u001b[0m     \u001b[0mraiz\u001b[0m \u001b[1;33m=\u001b[0m \u001b[1;33m(\u001b[0m\u001b[0ma\u001b[0m\u001b[1;33m+\u001b[0m\u001b[0mb\u001b[0m\u001b[1;33m)\u001b[0m\u001b[1;33m/\u001b[0m\u001b[1;36m2\u001b[0m\u001b[1;33m\u001b[0m\u001b[0m\n\u001b[0;32m     10\u001b[0m     \u001b[1;32mfor\u001b[0m \u001b[0mi\u001b[0m \u001b[1;32min\u001b[0m \u001b[0mrange\u001b[0m\u001b[1;33m(\u001b[0m\u001b[0mn\u001b[0m\u001b[1;33m)\u001b[0m\u001b[1;33m:\u001b[0m\u001b[1;33m\u001b[0m\u001b[0m\n",
        "\u001b[1;31mValueError\u001b[0m: f(a) e f(b) t\u00eam mesmo sinal"
       ]
      }
     ],
     "prompt_number": 4
    },
    {
     "cell_type": "markdown",
     "metadata": {},
     "source": [
      "O erro inicial no m\u00e9todo da dicotomia \u00e9 $|x_1-x_r|\\leq |b-a|/2$. A cada passo a estimativa desse erro \u00e9 dividida por 2, assim $|x_n-x_r|\\leq |b-a|/2^n$."
     ]
    },
    {
     "cell_type": "markdown",
     "metadata": {},
     "source": [
      "O m\u00e9todo de Newton\n",
      "----\n",
      "Agora $f: [a,b] \\to \\mathbb{R}$ \u00e9 uma fun\u00e7\u00e3o diferenci\u00e1vel com um \u00fanico zero neste intervalo. Podemos produzir uma sequ\u00eancia de estimativas $x_n$ deste zero, baseado na aproxima\u00e7\u00e3o linear da fun\u00e7\u00e3o $f$, ou de seu polin\u00f4mio de primeira ordem.\n"
     ]
    },
    {
     "cell_type": "markdown",
     "metadata": {},
     "source": [
      "Suponha que $x_e$ seja uma estimativa do zero que queremos melhorar. A s\u00e9rie de Taylor em torno de $x_e$ \u00e9\n",
      "\n",
      "$$ f(x) = f(x_e) + f^\\prime(x_e)(x-x_e) + O(|x-x_e|^2)$$\n",
      "\n",
      "se fizermos $f(x)=0$, e desprezarmos o $o(|x-x_e|^2)$ temos \n",
      "\n",
      "$$ 0 = f(x_e) + f^\\prime(x_e)(x_n - x_e)$$\n",
      "\n",
      "sendo $x_n$ a nova estimativa. Resolvendo para $x_n$ temos:\n",
      "\n",
      "$$ x_n = x_e - \\frac{f(x_e)}{f^\\prime(x_e)} $$\n",
      "\n",
      "e esta rela\u00e7\u00e3o \u00e9 a base do m\u00e9todo de Newton.\n",
      "\n",
      "da mesma forma que anteriormente, produzimos uma sequ\u00eancia de estimativas, escolhendo um $x_0$ arbrit\u00e1rio e, a partir dele, calculando\n",
      "\n",
      "$$x_{k+1} = x_k - \\frac{f(x_k)}{f^\\prime(x_k)} $$\n",
      "\n",
      "E esperemos que esta sequ\u00eancia convirja!!"
     ]
    },
    {
     "cell_type": "code",
     "collapsed": false,
     "input": [
      "from math import *\n",
      "def met_Newton(f,flinha,x0,epsilon):\n",
      "    x1=x0 - f(x0)/flinha(x0)\n",
      "    erro = max(abs(x1-x0),abs(f(x1)))\n",
      "    while erro > epsilon:\n",
      "        x0=x1\n",
      "        x1=x0 - f(x0)/flinha(x0)\n",
      "        erro = max(abs(x1-x0),f(x1))\n",
      "    return x1    "
     ],
     "language": "python",
     "metadata": {},
     "outputs": [],
     "prompt_number": 5
    },
    {
     "cell_type": "code",
     "collapsed": false,
     "input": [
      "g= lambda x: (x-1.)*(x-5.)**2\n",
      "glinha = lambda x: (x-5.)**2 + 2.*(x-1)*(x-5)"
     ],
     "language": "python",
     "metadata": {},
     "outputs": [],
     "prompt_number": 6
    },
    {
     "cell_type": "code",
     "collapsed": false,
     "input": [
      "met_Newton(g,glinha,1.5,0.00001)"
     ],
     "language": "python",
     "metadata": {},
     "outputs": [
      {
       "metadata": {},
       "output_type": "pyout",
       "prompt_number": 7,
       "text": [
        "0.9999999999999999"
       ]
      }
     ],
     "prompt_number": 7
    },
    {
     "cell_type": "code",
     "collapsed": false,
     "input": [],
     "language": "python",
     "metadata": {},
     "outputs": []
    }
   ],
   "metadata": {}
  }
 ]
}