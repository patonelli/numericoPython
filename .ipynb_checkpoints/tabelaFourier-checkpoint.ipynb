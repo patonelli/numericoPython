{
 "cells": [
  {
   "cell_type": "markdown",
   "metadata": {},
   "source": [
    "## tabela de Fourier\n",
    "Fazemos uma partição do intervalo $[0,2\\pi]$ em $N$ partes iguais começando com $x_0=0,$ depois $x_k = \\frac{2k\\pi}{N}$ até $x_{N-1}$. Para um número natural $L$ consideramos a família de funções $$\\{ 1, \\cos{x}, \\sin{x}, \\cos{2x}, \\sin{2x}, \\cdots, \\cos{(L-1)x},\\sin{(L-1)x}\\}.$$ A função **tabelaFourier** deve produzir a tabela\n",
    "$$\\begin{array}{cccc}\n",
    "x_0 & x_1& \\cdots & x_{N-1} \\\\ \n",
    "1 & 1 & \\cdots & 1 \\\\\n",
    "\\cos{x_0} & \\cos{x_1} &\\cdots & \\cos{x_{N-1}}\\\\\n",
    "\\vdots    & \\vdots   &    &\\vdots \\\\\n",
    "\\sin{(L-1)x_0}&\\sin{(L-1)x_1}& \\cdots & \\sin{(L-1)x_{N-1}}\n",
    "\\end{array}$$"
   ]
  },
  {
   "cell_type": "code",
   "execution_count": 6,
   "metadata": {
    "collapsed": false
   },
   "outputs": [],
   "source": [
    "import numpy as np\n",
    "def tabelaFourier(N,L):\n",
    "    x=np.array([2*k*np.pi/N for k in range(N)])\n",
    "    tabela = [x]\n",
    "    for u in range(L):\n",
    "        tabela.append(np.array(np.cos(u*x)))\n",
    "        if not(u == 0):\n",
    "            tabela.append(np.array(np.sin(u*x)))\n",
    "    return np.array(tabela)"
   ]
  },
  {
   "cell_type": "code",
   "execution_count": 7,
   "metadata": {
    "collapsed": false
   },
   "outputs": [
    {
     "name": "stdout",
     "output_type": "stream",
     "text": [
      "[[ 0.         2.0943951  4.1887902]\n",
      " [ 1.         1.         1.       ]\n",
      " [ 1.        -0.5       -0.5      ]\n",
      " [ 0.         0.8660254 -0.8660254]]\n"
     ]
    }
   ],
   "source": [
    "A=tabelaFourier(3,2)\n",
    "\n",
    "print(A)\n"
   ]
  },
  {
   "cell_type": "code",
   "execution_count": 8,
   "metadata": {
    "collapsed": false
   },
   "outputs": [
    {
     "name": "stdout",
     "output_type": "stream",
     "text": [
      "[[  0.00000000e+00   1.57079633e+00   3.14159265e+00   4.71238898e+00]\n",
      " [  1.00000000e+00   1.00000000e+00   1.00000000e+00   1.00000000e+00]\n",
      " [  1.00000000e+00   6.12323400e-17  -1.00000000e+00  -1.83697020e-16]\n",
      " [  0.00000000e+00   1.00000000e+00   1.22464680e-16  -1.00000000e+00]\n",
      " [  1.00000000e+00  -1.00000000e+00   1.00000000e+00  -1.00000000e+00]\n",
      " [  0.00000000e+00   1.22464680e-16  -2.44929360e-16   3.67394040e-16]]\n"
     ]
    }
   ],
   "source": [
    "B = tabelaFourier(4,3)\n",
    "print(B)"
   ]
  },
  {
   "cell_type": "code",
   "execution_count": 9,
   "metadata": {
    "collapsed": false
   },
   "outputs": [
    {
     "data": {
      "text/plain": [
       "array([  1.00000000e+00,   6.12323400e-17,  -1.00000000e+00,\n",
       "        -1.83697020e-16])"
      ]
     },
     "execution_count": 9,
     "metadata": {},
     "output_type": "execute_result"
    }
   ],
   "source": [
    "B[2,:]"
   ]
  },
  {
   "cell_type": "code",
   "execution_count": 11,
   "metadata": {
    "collapsed": false
   },
   "outputs": [
    {
     "data": {
      "text/plain": [
       "1.2246467991473532e-16"
      ]
     },
     "execution_count": 11,
     "metadata": {},
     "output_type": "execute_result"
    }
   ],
   "source": [
    "np.dot(B[2,:],B[3,:])"
   ]
  },
  {
   "cell_type": "code",
   "execution_count": null,
   "metadata": {
    "collapsed": true
   },
   "outputs": [],
   "source": []
  }
 ],
 "metadata": {
  "kernelspec": {
   "display_name": "Python 3",
   "language": "python",
   "name": "python3"
  },
  "language_info": {
   "codemirror_mode": {
    "name": "ipython",
    "version": 3
   },
   "file_extension": ".py",
   "mimetype": "text/x-python",
   "name": "python",
   "nbconvert_exporter": "python",
   "pygments_lexer": "ipython3",
   "version": "3.5.1"
  }
 },
 "nbformat": 4,
 "nbformat_minor": 0
}
