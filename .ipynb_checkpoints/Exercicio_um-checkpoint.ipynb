{
 "cells": [
  {
   "cell_type": "markdown",
   "metadata": {},
   "source": [
    "## Método de Jacobi\n",
    "Neste primeiro exercício voces terão de produzir um notebook com o seguinte conteúdo. \n",
    "* A primeira célula será uma parte teórica descrevendo o método de jacobi. Vocês escolherão o tipo da célula como markdown. Farão uma pesquisa pra saber como se faz isso.\n",
    "[Sitio do markdown](http://daringfireball.net/projects/markdown/syntax)\n",
    "\n",
    "* A segunda célula tem a definição de uma função *jacobi(A,b,N,erro)* que implementa o método de Jacobi\n",
    "\n",
    "* A terceira célula a definição de uma função *criterio_linha(A)* que testa o critério das linhas (ou diagonal dominante).\n",
    "\n",
    "* Na quarta e demais células você deve testar um exemplo."
   ]
  },
  {
   "cell_type": "code",
   "execution_count": 1,
   "metadata": {
    "collapsed": true
   },
   "outputs": [],
   "source": [
    "def jacobi(A,b,N,erro):\n",
    "    ''' Usa o método de jacobi para dar a solução de Ax=b com, \n",
    "    no máximo N iterações ou erro menor que erro'''\n",
    "    pass\n"
   ]
  },
  {
   "cell_type": "code",
   "execution_count": 2,
   "metadata": {
    "collapsed": true
   },
   "outputs": [],
   "source": [
    "def criterio_linhas(A):\n",
    "    ''' Retorna True se o critério das linhas estiver satisfeito e False caso contrario'''\n",
    "    pass"
   ]
  },
  {
   "cell_type": "code",
   "execution_count": 3,
   "metadata": {
    "collapsed": true
   },
   "outputs": [],
   "source": [
    "#Exemplos"
   ]
  },
  {
   "cell_type": "code",
   "execution_count": null,
   "metadata": {
    "collapsed": true
   },
   "outputs": [],
   "source": []
  }
 ],
 "metadata": {
  "kernelspec": {
   "display_name": "Python 3",
   "language": "python",
   "name": "python3"
  },
  "language_info": {
   "codemirror_mode": {
    "name": "ipython",
    "version": 3
   },
   "file_extension": ".py",
   "mimetype": "text/x-python",
   "name": "python",
   "nbconvert_exporter": "python",
   "pygments_lexer": "ipython3",
   "version": "3.5.1"
  }
 },
 "nbformat": 4,
 "nbformat_minor": 0
}
