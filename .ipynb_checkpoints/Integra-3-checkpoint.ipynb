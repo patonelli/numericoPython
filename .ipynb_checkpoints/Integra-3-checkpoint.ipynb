{
 "cells": [
  {
   "cell_type": "markdown",
   "metadata": {},
   "source": [
    "# Integração Gaussiana\n",
    "Da forma similar à que foi feito no caso das formulas de Newton_Cotes, queremos aproximar a integral \n",
    "$$ \\int_a^bf(x)dx \\equiv \\sum_{i=1}^{n} \\sigma_if(\\lambda_i) $$\n",
    "Os pesos $\\sigma_i$ e os nós $\\lambda_i \\in [a,b]$ devem ser escolhidos de maneira a que a fórmula de aproximação seja exata para os polinômios de grau menor ou igual a $2n-1$.\n"
   ]
  },
  {
   "cell_type": "markdown",
   "metadata": {},
   "source": [
    "**Teorema** Seja $\\{p_0,\\dots,p_n\\}$ uma família de polinômios mônicos ortogonais, segundo o produto interno $\\langle f,g\\rangle = \\int_a^b f(x)g(x)dx$. Então os nós $\\lambda_i$ da fórmula acima são exatamente as raízes do polinômio $P_n$.\n",
    "E os pesos $\\sigma_i$ podem ser calculados pelo fórmula $\\sigma_i = \\langle L_i, \\mathbb{1} \\rangle$"
   ]
  },
  {
   "cell_type": "markdown",
   "metadata": {},
   "source": [
    "## Integração Gaussiana com o *PYLAB*"
   ]
  },
  {
   "cell_type": "markdown",
   "metadata": {},
   "source": []
  }
 ],
 "metadata": {
  "kernelspec": {
   "display_name": "Python 3",
   "language": "python",
   "name": "python3"
  },
  "language_info": {
   "codemirror_mode": {
    "name": "ipython",
    "version": 3
   },
   "file_extension": ".py",
   "mimetype": "text/x-python",
   "name": "python",
   "nbconvert_exporter": "python",
   "pygments_lexer": "ipython3",
   "version": "3.5.1"
  }
 },
 "nbformat": 4,
 "nbformat_minor": 0
}
