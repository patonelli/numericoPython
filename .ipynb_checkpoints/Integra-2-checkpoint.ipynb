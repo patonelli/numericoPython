{
 "cells": [
  {
   "cell_type": "markdown",
   "metadata": {},
   "source": [
    "## Erros na fórmula de integração:\n",
    "Seja $p_1(x)$ o polinômio interpolador de $\\{(x_0,f_0),(x_1,f_1)\\}$, então, usando a fórmula do erro do polinômio interpolador temos $f(x)-p_1(x) = \\dfrac{f^{\\prime\\prime}(\\xi_x)}{2}(x-x_0)(x-x_1)$ de onde temos:\n",
    "$$\\int_{x_0}^{x_1}f(x)dx- \\mathcal{T}_1(f) = \\int_{x_0}^{x_1} \\dfrac{f^{\\prime\\prime}(\\xi_1)}{2}(x-x_0)(x-x_1)dx = -\\dfrac{f^{\\prime\\prime}(\\xi)}{12}(x_1-x_0)^3 $$\n",
    "### Erros na fórmulas com repetição\n",
    "No método dos trapézios com $n$ repetições a fórmula fica , definindo $h = \\dfrac{(x_n -x_0)}{n}$\n",
    "$$\\int_{x_0}^{x_n}f(x)dx- \\mathcal{T}_n(f) = -\\dfrac{f^{\\prime\\prime}(\\xi_n)}{12}h^2(x_n-x_0) $$"
   ]
  },
  {
   "cell_type": "markdown",
   "metadata": {},
   "source": [
    "### Erros na fórmula de Simpson simples\n",
    "\n",
    "$$\\int_{x_0}^{x_2}f(x)dx- \\mathcal{S}_1(f) = -\\dfrac{ -h^4(x_2-x_0)}{180}f^{(4)}(\\xi_1) $$\n",
    "com $\\xi_1 \\in [x_0,x_2]$ e $h=(x_2-x_0)/2$.\n",
    "\n",
    "### Erros na fórmula de Simpson com $n$ repetições\n",
    "\n",
    "$$\\int_{x_0}^{x_{2_n}}f(x)dx- \\mathcal{S}_n(f) = -\\dfrac{ -h^4(x_{2n}-x_0)}{180}f^{(4)}(\\xi_n) $$\n",
    "com $\\xi_n \\in [a,b]$ e $h=(x_{2n}-x_0)/2n$\n",
    "\n",
    "#### Observação:\n",
    "Note que na fórmula do erro no método de Simpson há um fator multiplicador, que é a quarta derivada da função $f(x)$. Se esta função for um polinômio de grau menor ou igual a três, o erro será nulo e a integral numérica é exata!"
   ]
  },
  {
   "cell_type": "markdown",
   "metadata": {},
   "source": []
  }
 ],
 "metadata": {
  "kernelspec": {
   "display_name": "Python 3",
   "language": "python",
   "name": "python3"
  },
  "language_info": {
   "codemirror_mode": {
    "name": "ipython",
    "version": 3
   },
   "file_extension": ".py",
   "mimetype": "text/x-python",
   "name": "python",
   "nbconvert_exporter": "python",
   "pygments_lexer": "ipython3",
   "version": "3.5.1"
  }
 },
 "nbformat": 4,
 "nbformat_minor": 0
}
