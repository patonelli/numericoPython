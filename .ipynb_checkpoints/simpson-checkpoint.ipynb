{
 "cells": [
  {
   "cell_type": "markdown",
   "metadata": {},
   "source": [
    "## O método de Simpson\n",
    "Consideramos a partição $\\{x_0, x_1,x_2\\} \\subset [a,b]$ onde $x_0=a,\\ x_1=(a+b)/2,\\ x_2=b$,  e por conveniência vamos definir $h=(b-a)/2$. Se $f:[a,b] \\to \\mathbb{R}$ é uma função diferenciável e $p_f(x)$ é o polinômio interpolador de $f$ na partição dada então o método para integração de Simpson é definido por\n",
    "$$ \\mathbb{S}_a^b f(x) = \\int_a^b p_f(x)dx = a_0f(x_0) + a_1f(x_1) + a_2f(x_2)$$\n",
    "onde \n",
    "$$ a_i = \\int_a^b L_i(x)dx $$\n",
    "e $L_i(x)$ é o polinômio de Lagrange."
   ]
  },
  {
   "cell_type": "markdown",
   "metadata": {},
   "source": [
    "### cálculo de $a_0$\n",
    "\n",
    "$$ L_0(x)= \\frac{(x-a -h)(x-a-2h)}{2h^2}$$\n",
    "$$ a_0 = \\int_a^b \\frac{(x-a -h)(x-a-2h)}{2h^2}dx $$\n",
    "fazendo a substituição $s=(x-a)/h$ temos\n",
    "$$a_0 = \\frac{h}{2}\\int_0^2 (s-1)(s-2)ds=\\frac{h}{3} $$\n",
    "Calculando analogamente os outros termos podemos obter\n",
    "$$ \\mathbb{S}_a^b f(x) = \\frac{h}{3}f(x_0) + \\frac{4h}{3}f(x_1) + \\frac{h}{3}f(x_2)$$\n"
   ]
  },
  {
   "cell_type": "markdown",
   "metadata": {},
   "source": [
    "### Fórmula do erro:\n",
    "Não vamos deduzir a fórmula do erro, mas é\n",
    "$$E_S = \\frac{h^5}{90}f^{(4)}(c)$$ para $c$ no intervalo $[a,b]$."
   ]
  },
  {
   "cell_type": "code",
   "execution_count": 11,
   "metadata": {
    "collapsed": false
   },
   "outputs": [
    {
     "name": "stdout",
     "output_type": "stream",
     "text": [
      "A integral pelo método de simpson é 0.6944444444444443\n"
     ]
    }
   ],
   "source": [
    "# O pacote scipy, que inclui o numpy, tem uma função para o método de Simpson.\n",
    "import scipy as sp\n",
    "from scipy.integrate import simps\n",
    "# vamos fazer um exemplo simples\n",
    "x=sp.linspace(0,1,3)\n",
    "f = lambda x : 1/(1+x)\n",
    "I = simps(f(x),x)\n",
    "print(\"A integral pelo método de simpson é {}\".format(I))"
   ]
  },
  {
   "cell_type": "code",
   "execution_count": 12,
   "metadata": {
    "collapsed": false
   },
   "outputs": [
    {
     "name": "stdout",
     "output_type": "stream",
     "text": [
      "Help on function simps in module scipy.integrate.quadrature:\n",
      "\n",
      "simps(y, x=None, dx=1, axis=-1, even='avg')\n",
      "    Integrate y(x) using samples along the given axis and the composite\n",
      "    Simpson's rule.  If x is None, spacing of dx is assumed.\n",
      "    \n",
      "    If there are an even number of samples, N, then there are an odd\n",
      "    number of intervals (N-1), but Simpson's rule requires an even number\n",
      "    of intervals.  The parameter 'even' controls how this is handled.\n",
      "    \n",
      "    Parameters\n",
      "    ----------\n",
      "    y : array_like\n",
      "        Array to be integrated.\n",
      "    x : array_like, optional\n",
      "        If given, the points at which `y` is sampled.\n",
      "    dx : int, optional\n",
      "        Spacing of integration points along axis of `y`. Only used when\n",
      "        `x` is None. Default is 1.\n",
      "    axis : int, optional\n",
      "        Axis along which to integrate. Default is the last axis.\n",
      "    even : {'avg', 'first', 'str'}, optional\n",
      "        'avg' : Average two results:1) use the first N-2 intervals with\n",
      "                  a trapezoidal rule on the last interval and 2) use the last\n",
      "                  N-2 intervals with a trapezoidal rule on the first interval.\n",
      "    \n",
      "        'first' : Use Simpson's rule for the first N-2 intervals with\n",
      "                a trapezoidal rule on the last interval.\n",
      "    \n",
      "        'last' : Use Simpson's rule for the last N-2 intervals with a\n",
      "               trapezoidal rule on the first interval.\n",
      "    \n",
      "    See Also\n",
      "    --------\n",
      "    quad: adaptive quadrature using QUADPACK\n",
      "    romberg: adaptive Romberg quadrature\n",
      "    quadrature: adaptive Gaussian quadrature\n",
      "    fixed_quad: fixed-order Gaussian quadrature\n",
      "    dblquad: double integrals\n",
      "    tplquad: triple integrals\n",
      "    romb: integrators for sampled data\n",
      "    cumtrapz: cumulative integration for sampled data\n",
      "    ode: ODE integrators\n",
      "    odeint: ODE integrators\n",
      "    \n",
      "    Notes\n",
      "    -----\n",
      "    For an odd number of samples that are equally spaced the result is\n",
      "    exact if the function is a polynomial of order 3 or less.  If\n",
      "    the samples are not equally spaced, then the result is exact only\n",
      "    if the function is a polynomial of order 2 or less.\n",
      "\n"
     ]
    }
   ],
   "source": [
    "help(simps)"
   ]
  }
 ],
 "metadata": {
  "kernelspec": {
   "display_name": "Python 3",
   "language": "python",
   "name": "python3"
  },
  "language_info": {
   "codemirror_mode": {
    "name": "ipython",
    "version": 3
   },
   "file_extension": ".py",
   "mimetype": "text/x-python",
   "name": "python",
   "nbconvert_exporter": "python",
   "pygments_lexer": "ipython3",
   "version": "3.5.1"
  }
 },
 "nbformat": 4,
 "nbformat_minor": 0
}
