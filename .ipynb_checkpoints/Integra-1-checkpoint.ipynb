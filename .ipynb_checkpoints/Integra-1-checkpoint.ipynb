{
 "cells": [
  {
   "cell_type": "markdown",
   "metadata": {},
   "source": [
    "# Integração numérica\n",
    "## Fórmulas de Newton_Cotes\n",
    "A  idéia do procedimento numérica da integração definida é aproximar a função a ser integrada por um polinômio interpolador, e aproveitar o caráter algébrico da integração de polinômios para obter uma fórmula de integração. Se $f:[a,b]\\to \\mathbb{R}$ é integravel e $\\{x_0,\\dots,x_k\\}\\subset [a,b]$ é uma partição do domínio, então teremos\n",
    "$$ \\int_a^b f(x)dx \\approx \\int_a^b p_k(x)dx $$\n",
    "onde $p_k$ é o polinômio interpolador de $f$. Nas fórmulas do tipo de Newton-Cotes, o intervalo da integração é dividido em partes iguais de comprimento $h$, veremos dois métodos: *método do trapézio* e *método de Simpson*"
   ]
  },
  {
   "cell_type": "markdown",
   "metadata": {},
   "source": [
    "## Fórmula do Trapézio simples:\n",
    "Neste caso $x_0=a,$ $x_1=b$ e $h= b-a$. O polinômio interpolador pode se escrever como $p_1(x) = f_0 + (f_1-f_0)(x-x_0)/h$.\n",
    "Usamos a notação $f_i=f(x_i)$ para abreviar a fórmula.\n",
    "$$ \\int_a^b p_1(x)dx = \\frac{h}{2}(f_0+f_1) = \\mathcal{T}_a^bf$$"
   ]
  },
  {
   "cell_type": "code",
   "execution_count": 2,
   "metadata": {
    "collapsed": false
   },
   "outputs": [],
   "source": [
    "def Trapezio(f,a,b):\n",
    "    ''' Aplica o método do trapézio simples para aproximar a integral de f no intervalo [a,b]'''\n",
    "    return (b-a)*(f(a)+f(b))/2"
   ]
  },
  {
   "cell_type": "markdown",
   "metadata": {},
   "source": [
    "## Fórmula de Simpson simples\n",
    "O caso em que escolhemos os nós $x_0=a,$ $x_1 = (a+b)/2 $ e $x_3 = b$ com $h=(b-a)/2$ é conhecido como método de Simpson.\n",
    "Neste caso temos $p_2(x)= f_0 L_0(x) + f_1 L_1(x) + f_2L_2(x) $, na forma de Lagrange, e fazendo a integração temos:\n",
    "$$ \\int_a^bp_2(x)dx = \\frac{h}{3}(f_0 + 4f_1 +f_2) = \\mathcal{S}_a^b(f)$$"
   ]
  },
  {
   "cell_type": "code",
   "execution_count": 3,
   "metadata": {
    "collapsed": false
   },
   "outputs": [],
   "source": [
    "def Simpson(f,a,b):\n",
    "    ''' Aplica o método de Simpson para aproximar a integral de f no intervalo [a,b]'''\n",
    "    return (b-a)*(f(a) + f(b) +4*f((a+b)/2))/6"
   ]
  },
  {
   "cell_type": "markdown",
   "metadata": {},
   "source": [
    "## Os métodos com repetições\n",
    "\n",
    "Os dois métodos anteriores podem ser aplicados repetidamente dividindo o intervalo $[a,b]$ em quantidades apropriadas.\n",
    "\n",
    "### O método do trapézio com $n$ repetições\n",
    "Dividimos o intervalo em $n$ partes com os nós em $x_i=a+ih$. Usamos o método do trapézio em cada subintervalo $[x_i,x_{i+1}]$ e somamos tudo. Fazendo $h =(b-a)/n$ obtemos\n",
    "$$ \\mathcal{T}_n(f) = \\frac{h}{2}(f_0 + 2\\sum_{i=1}^{n-1}f_i +f_n) $$ \n",
    "### O método de Simpson com $n$ repetições\n",
    "Dividimos intervalo em $2n$ partes e aplicamos o método de Simpson simples em cada subintervalo $[x_{2i},x_{2i+2}]$, e somamos o resultado parcial. Com $h =(b-a)/2n$ o resultado é a fórmula\n",
    "$$ \\mathcal{S}_n(f)= \\frac{h}{3}(f_0 + 4\\sum_{k=0}^{n-1} f_{2k+1} + 2\\sum_{k=1}^{n-1}f_{2k} + f_{2n})$$"
   ]
  },
  {
   "cell_type": "code",
   "execution_count": 4,
   "metadata": {
    "collapsed": false
   },
   "outputs": [],
   "source": [
    "# Exercicio: definir as funções que dão a integral com repetições, onde o número de repetições e um parâmetro"
   ]
  },
  {
   "cell_type": "markdown",
   "metadata": {},
   "source": []
  }
 ],
 "metadata": {
  "kernelspec": {
   "display_name": "Python 3",
   "language": "python",
   "name": "python3"
  },
  "language_info": {
   "codemirror_mode": {
    "name": "ipython",
    "version": 3
   },
   "file_extension": ".py",
   "mimetype": "text/x-python",
   "name": "python",
   "nbconvert_exporter": "python",
   "pygments_lexer": "ipython3",
   "version": "3.5.1"
  }
 },
 "nbformat": 4,
 "nbformat_minor": 0
}
