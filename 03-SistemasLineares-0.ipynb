{
 "cells": [
  {
   "cell_type": "markdown",
   "metadata": {},
   "source": [
    "## Operações elementares e matrizes elementares\n",
    "Vamos considerar um sistema de equações lineares\n",
    "$$ \\begin{eqnarray}\n",
    "L_1 & a_{11}x_1 + a_{12}x_2 + \\cdots a_{1n}x_n &=& b_1 \\\\\n",
    " L_2 & a_{21}x_1 + a_{22}x_2 + \\cdots a_{2n}x_n &=& b_2 \\\\\n",
    "\\vdots& \\vdots &   & \\vdots \\\\\n",
    "L_n & a_{n1}x_1 + a_{n2}x_2 + \\cdots a_{nn}x_n &=& b_n\n",
    "\\end{eqnarray}$$\n",
    "\n",
    "### Permutação de linhas\n",
    "\n",
    "Se denotamos o conjunto $E_n=\\{1,2,\\dots,n\\}$, uma permutação $\\sigma$ é uma bijeção qualquer de $E_n$. Podemos permutar a ordem das equações acima sem que a solução fique alterada. Diremos que esta é a operação elementar $E_{\\sigma}$ associada a esta permutação. O sistema fica entâo escrito como:\n",
    "\n",
    "$$ \\begin{eqnarray}\n",
    "L_{\\sigma(1)} & a_{\\sigma(1)1}x_1 + a_{\\sigma(1)2}x_2 + \\cdots a_{\\sigma(1)n}x_n &=& b_{\\sigma(1)} \\\\\n",
    " L_{\\sigma(2)} & a_{\\sigma(2)1}x_1 + a_{\\sigma(2)2}x_2 + \\cdots a_{\\sigma(2)n}x_n &=& b_{\\sigma(2)} \\\\\n",
    "\\vdots& \\vdots &   & \\vdots \\\\\n",
    "L_{\\sigma(n)} & a_{\\sigma(n)1}x_1 + a_{\\sigma(n)2}x_2 + \\cdots a_{\\sigma(n)n}x_n &=& b_{\\sigma(n)}\n",
    "\\end{eqnarray}$$\n",
    "\n",
    "Note que tanto a matriz de coeficientes como o vetor independente do sistema modificado corresponde à matriz de coeficiente $A$ e vetor independente $b$ com as linhas permutadas segundo a permutação $\\sigma$.\n",
    "\n"
   ]
  },
  {
   "cell_type": "markdown",
   "metadata": {},
   "source": [
    "### Matriz de uma permutação \n",
    "Dada a permutação $\\sigma$ que é uma bijeção de $E_n$, nos definimos a matriz $n \\times n$, $M_{\\sigma}=(t_{ij})$  como\n",
    "$$ t_{ij} = \\left\\{ \\begin{eqnarray} 1 & \\text{ se } \\sigma(j)=i \\\\\n",
    "0 & \\text{ se } \\sigma(j) \\neq i\n",
    "\\end{eqnarray}\\right. $$\n",
    "\n",
    "Essas matrizes satisfazem as seguintes propriedades:\n",
    "\n",
    "* $M_{\\sigma^{-1}} = M_{\\sigma}^{-1} = M_{\\sigma}^t$\n",
    "* $M_{\\sigma_1\\sigma_2}=M_{\\sigma_1}M_{\\sigma_2}$\n",
    "\n",
    "Se $A$ é uma matriz qualquer com $n$ linhas e $A_{\\sigma}$ é a matriz obtida de $A$ permutando as linhas de acordo com $\\sigma$, então temos a relação\n",
    "$$ A_{\\sigma}= M_{\\sigma^{-1}}A=M_{\\sigma}^{-1} A= M_{\\sigma}^tA$$"
   ]
  },
  {
   "cell_type": "markdown",
   "metadata": {},
   "source": [
    "### Soma de uma linha com o múltiplo de outra\n",
    "\n",
    "No sistema original, se trocarmos a linha $L_i$ pela soma da linha $L_i$ com o multiplo de uma linha $L_k$ também não alteramos a solução do sistema e a nova matriz de coeficientes será a matriz anterior só com os elementos da \n",
    "$i$-ésima linha trocada. De fato a única equação alterada será a\n",
    "$$ L_i : (a_{i1}+\\alpha a_{k1})x_1 + (a_{i2}+\\alpha a_{k2})x_2+ \\cdots + (a_{in}+\\alpha a_{kn})x_n = b_i + \\alpha b_k $$\n",
    "\n",
    "A matriz desta operação elementar é $M^{\\alpha, k}_i $ que tem $1$ na diagonal principal, $\\alpha$ na linha $i$ e coluna $k$, e $0$ nos outros termos. E temos \n",
    "$$ A^{i,k,\\alpha} = M^{\\alpha, k}_i A $$\n",
    "onde $A^{i,k,\\alpha}$ é a matriz $A$ com a $i$-ésima linha trocada por $L_i + \\alpha L_k$."
   ]
  },
  {
   "cell_type": "code",
   "execution_count": null,
   "metadata": {
    "collapsed": true
   },
   "outputs": [],
   "source": []
  }
 ],
 "metadata": {
  "kernelspec": {
   "display_name": "Python 3",
   "language": "python",
   "name": "python3"
  },
  "language_info": {
   "codemirror_mode": {
    "name": "ipython",
    "version": 3
   },
   "file_extension": ".py",
   "mimetype": "text/x-python",
   "name": "python",
   "nbconvert_exporter": "python",
   "pygments_lexer": "ipython3",
   "version": "3.5.0"
  }
 },
 "nbformat": 4,
 "nbformat_minor": 0
}
