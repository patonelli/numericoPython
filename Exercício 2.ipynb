{
 "metadata": {
  "name": ""
 },
 "nbformat": 3,
 "nbformat_minor": 0,
 "worksheets": [
  {
   "cells": [
    {
     "cell_type": "markdown",
     "metadata": {},
     "source": [
      "Exerc\u00edcios sobre a representa\u00e7\u00e3o dos n\u00fameros no computador\n",
      "====\n",
      "\n",
      "1.  Escreva abaixo a representa\u00e7\u00e3o bin\u00e1ria dos seguintes n\u00fameros representados na base $10$\n",
      " \n",
      " * $345$ = ...\n",
      " * $7.275$ = ...\n",
      " * $ \\sqrt(2) $ = ...\n",
      " \n",
      "2. D\u00ea a forma normal dos seguintes numeros na base 10, com mantissa de 5 d\u00edgitos\n",
      "\n",
      " *  $23,5$ = ...\n",
      " *  $1254,25$ = ...\n",
      " *  $\\pi$ = ...\n",
      " \n",
      "3. Um conjunto de n\u00fameros de m\u00e1quina $\\mathbf{M}$ na base $5$ \u00e9 \n",
      "$$ \\mathbf{M}=\\{ 0.d_1d_2 \\times 5^E \\text{tal que} |E| < 25\\}$$\n",
      "\n",
      " * Quantos n\u00fameros tem este conjunto\n",
      " * Qual \u00e9 a melhor n\u00famero da m\u00e1quina $\\mathbf{M}$ que representa o n\u00famero na base decimal $325$?"
     ]
    },
    {
     "cell_type": "code",
     "collapsed": false,
     "input": [
      "# Escreva uma fun\u00e7\u00e3o que transforma um n\u00famero real da base 10 para a base 13! com 10 algarismos significativos\n",
      "digitos=[\"0\",\"1\",\"2\",\"3\",\"4\",\"5\",\"6\",\"7\",\"8\",\"9\",\"a\",\"b\",\"c\"]\n",
      "def trezima"
     ],
     "language": "python",
     "metadata": {},
     "outputs": []
    }
   ],
   "metadata": {}
  }
 ]
}