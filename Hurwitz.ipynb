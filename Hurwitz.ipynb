{
 "metadata": {
  "name": ""
 },
 "nbformat": 3,
 "nbformat_minor": 0,
 "worksheets": [
  {
   "cells": [
    {
     "cell_type": "markdown",
     "metadata": {},
     "source": [
      "Crit\u00e9rio de Routh-Hurwitz\n",
      "====\n",
      "\n",
      "O teorema de Routh pode ser colocado numa forma mais c\u00f4moda usando a *matriz de Hurwitz*\n",
      "\n",
      "Operador de Hurwitz\n",
      "----\n",
      "S\u00e3o dadas duas sequ\u00eancias $\\alpha: \\mathbb{N} \\to \\mathbb{R}$ e $\\beta: \\mathbb{N} \\to \\mathbb{R}$. Definimos o operador de Hurwitz como $\\alpha * \\beta = \\gamma:\\mathbb{N} \\to \\mathbb{R}$ tal que\n",
      ":$$ \\gamma(i) = \\frac{-1}{\\beta(1)}\\begin{vmatrix} \\alpha(1) & \\alpha(i+1)\\\\ \\beta(1) & \\beta(i+1) \\end{vmatrix}$$"
     ]
    },
    {
     "cell_type": "code",
     "collapsed": false,
     "input": [
      "#operador de Hurwitz para duas sequencias finitas\n",
      "def hurwitz(a,b):\n",
      "    if len(a) <= len(b):\n",
      "        for i in range(len(a),len(b)):\n",
      "            a.append(0)\n",
      "        c=[0*u for u in b]\n",
      "    else:\n",
      "        for i in range(len(b),len(a)):\n",
      "                b.append(0)\n",
      "        c=[0*u for u in a]\n",
      "    if b[0] == 0 :\n",
      "        return c\n",
      "    for i in range(len(c) -1):\n",
      "        c[i] = (-1.0/b[0])*(a[0]*b[i+1] - a[i+1]*b[0])\n",
      "    return c    \n",
      "    \n",
      "    "
     ],
     "language": "python",
     "metadata": {},
     "outputs": [],
     "prompt_number": 2
    },
    {
     "cell_type": "code",
     "collapsed": false,
     "input": [
      "print hurwitz([1,1],[1,0])\n"
     ],
     "language": "python",
     "metadata": {},
     "outputs": [
      {
       "output_type": "stream",
       "stream": "stdout",
       "text": [
        "[1.0, 0]\n"
       ]
      }
     ],
     "prompt_number": 3
    },
    {
     "cell_type": "markdown",
     "metadata": {},
     "source": [
      "A sequ\u00eancia de Hurwitz\n",
      "----\n",
      "Se $\\gamma_1$ e $\\gamma_2$ s\u00e3o duas sequ\u00eancias de n\u00fameros reais, tal que $\\gamma_2(1) \\neq 0$. Definimos por recorr\u00eancia\n",
      "$$ \\gamma_{k+1} = \\gamma_{k-1}*\\gamma_{k}$$\n",
      "at\u00e9 que $\\gamma_k(1)=0$.  A matriz de Hurwitz \u00e9 a matriz em que cada linha \u00e9 a sequ\u00eancia $\\gamma_k$."
     ]
    },
    {
     "cell_type": "code",
     "collapsed": false,
     "input": [
      "# Matriz de Hurwitz a partir de duas sequencias finitas\n",
      "def MatrizHurwitz(a,b):\n",
      "    H=[a,b]\n",
      "    while H[len(H)-1][0] != 0 :\n",
      "        b2=hurwitz(H[len(H)-2],H[len(H)-1])\n",
      "        H.append(b2)\n",
      "    return H    \n",
      "    "
     ],
     "language": "python",
     "metadata": {},
     "outputs": [],
     "prompt_number": 4
    },
    {
     "cell_type": "code",
     "collapsed": false,
     "input": [
      "#teste\n",
      "a=[1,2,6]\n",
      "b=[4,1]\n",
      "H = MatrizHurwitz(a,b)\n",
      "print H"
     ],
     "language": "python",
     "metadata": {},
     "outputs": [
      {
       "output_type": "stream",
       "stream": "stdout",
       "text": [
        "[[1, 2, 6], [4, 1, 0], [1.75, 6.0, 0], [-12.714285714285714, -0.0, 0], [5.999999999999999, 0.0, 0], [-0.0, 0.0, 0]]\n"
       ]
      }
     ],
     "prompt_number": 5
    },
    {
     "cell_type": "code",
     "collapsed": false,
     "input": [
      "b"
     ],
     "language": "python",
     "metadata": {},
     "outputs": [
      {
       "metadata": {},
       "output_type": "pyout",
       "prompt_number": 6,
       "text": [
        "[4, 1, 0]"
       ]
      }
     ],
     "prompt_number": 6
    },
    {
     "cell_type": "code",
     "collapsed": false,
     "input": [],
     "language": "python",
     "metadata": {},
     "outputs": [
      {
       "metadata": {},
       "output_type": "pyout",
       "prompt_number": 7,
       "text": [
        "8"
       ]
      }
     ],
     "prompt_number": 7
    },
    {
     "cell_type": "code",
     "collapsed": false,
     "input": [],
     "language": "python",
     "metadata": {},
     "outputs": []
    }
   ],
   "metadata": {}
  }
 ]
}