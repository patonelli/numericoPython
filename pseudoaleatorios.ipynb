{
 "metadata": {
  "name": "",
  "signature": "sha256:11f5b08a0dd0c15e26a4ede9e34b7aa1e5dadd0c366dfd315060199592930377"
 },
 "nbformat": 3,
 "nbformat_minor": 0,
 "worksheets": [
  {
   "cells": [
    {
     "cell_type": "heading",
     "level": 2,
     "metadata": {},
     "source": [
      "N\u00fameros pseudo-aleat\u00f3rios"
     ]
    },
    {
     "cell_type": "markdown",
     "metadata": {},
     "source": [
      "A ideia \u00e9 fazer um algoritmo que reproduza um sorteio com reposi\u00e7\u00e3o. Vamos ver o m\u00e9todo mais simples que \u00e9 o do gerador linear.\n",
      "Neste m\u00e9todo temos\n",
      "$$ A_{n+1}= \\alpha A_n + c \\mod m $$\n",
      "Desta forma a sequ\u00eancia $A_n$ de n\u00famero inteiros entre $0$ e $m-1$. Esta sequ\u00eancia ter\u00e1 per\u00edodo, no m\u00e1ximo, $m$.\n",
      "\n",
      "* $m$ \u00e9 um n\u00famero inteiro positivo (em geral $p^k$ com $p$ primo).\n",
      "* $0\\leq X_0 \\lt m$ \u00e9 chamada de semente\n",
      "* $0 \\lt \\alpha \\lt m$ \u00e9 o multiplicador\n",
      "* $0 \\lt c \\lt m$ \u00e9 o incremento\n",
      "\n",
      "Vamos fazer uns experimentos:\n"
     ]
    },
    {
     "cell_type": "code",
     "collapsed": false,
     "input": [
      "def LCG(m,a,c,seed=0):\n",
      "    return (a*seed+c)%m"
     ],
     "language": "python",
     "metadata": {},
     "outputs": [],
     "prompt_number": 1
    },
    {
     "cell_type": "code",
     "collapsed": false,
     "input": [
      "# teste 1 m=25 , c=0 , a=6, seed=1\n",
      "seed=3\n",
      "for k in range(25):\n",
      "    seed = LCG(25,6,2,seed)\n",
      "    if (seed%2==0):\n",
      "        couk=\"k\"\n",
      "    else: couk=\"c\"\n",
      "    print(\" {:d} e resultado {:s}\".format(seed,couk))\n",
      "    "
     ],
     "language": "python",
     "metadata": {},
     "outputs": [
      {
       "output_type": "stream",
       "stream": "stdout",
       "text": [
        " 20 e resultado k\n",
        " 22 e resultado k\n",
        " 9 e resultado c\n",
        " 6 e resultado k\n",
        " 13 e resultado c\n",
        " 5 e resultado c\n",
        " 7 e resultado c\n",
        " 19 e resultado c\n",
        " 16 e resultado k\n",
        " 23 e resultado c\n",
        " 15 e resultado c\n",
        " 17 e resultado c\n",
        " 4 e resultado k\n",
        " 1 e resultado c\n",
        " 8 e resultado k\n",
        " 0 e resultado k\n",
        " 2 e resultado k\n",
        " 14 e resultado k\n",
        " 11 e resultado c\n",
        " 18 e resultado k\n",
        " 10 e resultado k\n",
        " 12 e resultado k\n",
        " 24 e resultado k\n",
        " 21 e resultado c\n",
        " 3 e resultado c\n"
       ]
      }
     ],
     "prompt_number": 23
    },
    {
     "cell_type": "code",
     "collapsed": false,
     "input": [
      "from numpy.random import *\n",
      "rand(4)"
     ],
     "language": "python",
     "metadata": {},
     "outputs": [
      {
       "metadata": {},
       "output_type": "pyout",
       "prompt_number": 13,
       "text": [
        "array([ 0.99269082,  0.52590978,  0.25556603,  0.08737639])"
       ]
      }
     ],
     "prompt_number": 13
    },
    {
     "cell_type": "code",
     "collapsed": false,
     "input": [
      "rand()"
     ],
     "language": "python",
     "metadata": {},
     "outputs": [
      {
       "metadata": {},
       "output_type": "pyout",
       "prompt_number": 17,
       "text": [
        "0.4797901571723804"
       ]
      }
     ],
     "prompt_number": 17
    },
    {
     "cell_type": "code",
     "collapsed": false,
     "input": [],
     "language": "python",
     "metadata": {},
     "outputs": []
    }
   ],
   "metadata": {}
  }
 ]
}