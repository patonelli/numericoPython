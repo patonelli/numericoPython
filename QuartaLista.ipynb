{
 "metadata": {
  "name": "",
  "signature": "sha256:855efdf3568fb5c3f6c615a561b11a4f6290d7b681a7737420ee4734de14981d"
 },
 "nbformat": 3,
 "nbformat_minor": 0,
 "worksheets": [
  {
   "cells": [
    {
     "cell_type": "markdown",
     "metadata": {},
     "source": [
      "# Quarta Lista de Exerc\u00edcios\n",
      "\n",
      "Para tentar determinar qual seria a popula\u00e7\u00e3o brasileira em 2020, vamos usar o [arquivo de dados do ibge](http://www.ime.usp.br/~tonelli/ibge2.csv) dispon\u00edvel e usar dois modelos: \n",
      "\n",
      "* **Crescimento c\u00fabico:** Neste caso o modelo populacional seria $P(t) = a_3 t^3 + a_2 t^2 + a_1 t + a_0$.\n",
      "* **Crescimento exponencial:** Ent\u00e3o o crescimento seria $P(t) = K \\exp(\\beta t)$\n",
      "\n",
      "Seu programa deve:\n",
      "\n",
      "1. Ler a tabela de dados de um arquivo ibge2.csv. A tabela apresenta muito mais dados do que o necess\u00e1rio. O que nos interessa s\u00e3o os dados da popula\u00e7\u00e3o brasileira de 2001 a 2013.\n",
      "2. Fazer os ajustes das curvas par os dois modelos de crescimento usando o MMQ. Para o crescimento polinomial, voc\u00ea dever\u00e1 fazer uma mudan\u00e7a de vari\u00e1vel $s=\\alpha t + \\beta$ de tal forma que esta vari\u00e1vel $s$ varie de $-1$ a $1$. Os dados devem ser transformados apropriadamente. \n",
      "3. Num mesmo gr\u00e1fico, plotar os pontos dados, a curva do modelo c\u00fabico, a do modelo exponencial e destacar a extrapola\u00e7\u00e3o para 2020. No eixo do tempo devem estar marcados os anos de 2001 a 2010."
     ]
    },
    {
     "cell_type": "code",
     "collapsed": false,
     "input": [],
     "language": "python",
     "metadata": {},
     "outputs": []
    }
   ],
   "metadata": {}
  }
 ]
}