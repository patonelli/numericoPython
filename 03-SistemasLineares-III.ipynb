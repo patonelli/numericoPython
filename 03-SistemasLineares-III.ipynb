{
 "metadata": {
  "name": ""
 },
 "nbformat": 3,
 "nbformat_minor": 0,
 "worksheets": [
  {
   "cells": [
    {
     "cell_type": "markdown",
     "metadata": {},
     "source": [
      "## M\u00e9todos Iterativos para a solu\u00e7\u00e3o de sitemas lineares \n",
      "\n",
      "A id\u00e9ia dos m\u00e9todos iterativos \u00e9 produzir uma sequ\u00eancia de estimativas vetoriais $ \\mathbf{x}^{(k)} $, que idealmente convirja para a solu\u00e7\u00e3o $\\mathbf{x}$ e\n",
      "cada passo \u00e9 calculado a partir da estimativa anterior. Costumam ser bem mais r\u00e1pidos que oe m\u00e9todos diretos no caso de matrizes muito grandes.\n",
      "Para construir recursivamente a sequ\u00eancia que d\u00e1 origem ao m\u00e9todo iterativo fazemos uma decomposi\u00e7\u00e3o da matriz $A$ de coeficientes do sistema como\n",
      "$$ A = N - P$$\n",
      "Onde $N$ \u00e9 de uma classe de sistemas invers\u00edveis e f\u00e1ceis de resolver (ou seja, f\u00e1ceis de inverter). Ent\u00e3o resolver o sistema:\n",
      "$$ A\\mathbf{x} =b $$ \n",
      "\u00e9 equivalente a resolver a equa\u00e7\u00e3o:\n",
      "$$ N\\mathbf{x} = b+ P\\mathbf{x} \\text{ ou } \\mathbf{x}=N^{-1}(b+ P\\mathbf{x})$$\n",
      "A recurs\u00e3o\n",
      "$$ N\\mathbf{x}^{(k+1)} = b+ P\\mathbf{x}^{(k)}$$\n",
      "\u00e9 a que converge para a solu\u00e7\u00e3o caso $ ||N^{-1}P|| < 1$ onde a norma de matrizes \u00e9 induzida de uma norma em $\\mathbb{R}^n$ (*veja no ap\u00eandice*).\n",
      "Destacamos dois casos\n",
      "\n",
      "*  M\u00e9todo de Jacobi: $ N = \\text{diag}(a_{11}, \\cdots, a_{nn})$\n",
      "\n",
      "*  M\u00e9todo de Gauss-Seidel : $ N = (n_{ij}) \\text{ com } n_{ij} = a_{ij} \\text{ se } i\\geq j \\\\ n_{ij}=0 \\text{ se } i\\lt j$\n"
     ]
    },
    {
     "cell_type": "markdown",
     "metadata": {},
     "source": [
      "## M\u00e9todo de Gauss-Seidel\n",
      "Vamos ver com mais detalhes s\u00f3 o m\u00e9todo de Gauss-Seidel. Vamos denotar por $x_i^{(k)}$ a $i$-\u00e9sima coordenada do vetor estimativa, no passo $k$. Ent\u00e3o podemos escrever:\n",
      "$$ \\begin{eqnarray}\n",
      "x_1^{(k+1)} & = &\\frac{1}{a_{11}}\\left( b_1 - \\sum_{j=2}^n a_{1j}x_j^{(k)}\\right) \\\\\n",
      "x_2^{(k+1)} & = &\\frac{1}{a_{22}}\\left( b_2 -  a_{21}x_1^{(k+1)} -\\sum_{j=3}^n a_{2j}x_j^{(k)}\\right) \\\\\n",
      "  & \\vdots & \\\\\n",
      "x_l^{(k+1)} & = &  \\frac{1}{a_{ll}}\\left( b_l -  \\sum_{j=1}^{l-1}a_{lj}x_j^{(k+1)} -\\sum_{j=l+1}^n a_{lj}x_j^{(k)}\\right)\\\\\n",
      "  & \\vdots & \\\\\n",
      " x_n^{(k+1)} & = &  \\frac{1}{a_{nn}}\\left( b_n -  \\sum_{j=1}^{n-1}a_{lj}x_j^{(k+1)}\\right)\n",
      "\\end{eqnarray}$$"
     ]
    },
    {
     "cell_type": "code",
     "collapsed": false,
     "input": [
      "from pylab import *\n",
      "\n",
      "# dou a matriz quadrada de coeficientes e vetor independente\n",
      "\n",
      "A=matrix('4 2 0.6; 2 5.5 3; 1 0 2.5')\n",
      "b=matrix('1. ; 3.; 1.')\n",
      "\n",
      "def iterGS(x, A, b):\n",
      "    xold=x.copy()\n",
      "    L=list(x)\n",
      "    for i in range(len(A)):\n",
      "        soma = 0.\n",
      "        for j in range(len(A)):\n",
      "            if (j != i): soma += -A[i,j]*L[j]\n",
      "        L[i] = (b[i] + soma)/A[i,i]\n",
      "    return L\n",
      "\n",
      "def GaussSeidel(x0,A,b,eps,n):\n",
      "    IterGauss=0\n",
      "    dx=10.\n",
      "    while ((IterGauss<=n)&(dx>eps)):\n",
      "        xold = x0.copy()\n",
      "        L=iterGS(x0, A, b)\n",
      "        for k in range(len(L)) : L[k]=float(L[k])\n",
      "        x0=matrix(L).T\n",
      "        IterGauss += 1\n",
      "        dx = norm(x0-xold)\n",
      "    return x0 , IterGauss, dx\n",
      "\n",
      "########## Teste com um exemplo ##############\n",
      "\n",
      "x0=matrix(' 0; 0; 0 ')\n",
      "\n",
      "sol = GaussSeidel(x0,A,b,0.0000001, 100)\n",
      "\n",
      "print (sol)\n"
     ],
     "language": "python",
     "metadata": {},
     "outputs": [
      {
       "output_type": "stream",
       "stream": "stdout",
       "text": [
        "(matrix([[ 0.03039834],\n",
        "        [ 0.32285115],\n",
        "        [ 0.38784066]]), 16, 3.5604346043801354e-08)\n"
       ]
      }
     ],
     "prompt_number": 1
    },
    {
     "cell_type": "code",
     "collapsed": false,
     "input": [
      "%pastebin '03-SistemasLineares-III.ipynb'"
     ],
     "language": "python",
     "metadata": {},
     "outputs": [
      {
       "metadata": {},
       "output_type": "pyout",
       "prompt_number": 2,
       "text": [
        "'https://gist.github.com/9784091'"
       ]
      }
     ],
     "prompt_number": 2
    },
    {
     "cell_type": "code",
     "collapsed": false,
     "input": [],
     "language": "python",
     "metadata": {},
     "outputs": []
    }
   ],
   "metadata": {}
  }
 ]
}